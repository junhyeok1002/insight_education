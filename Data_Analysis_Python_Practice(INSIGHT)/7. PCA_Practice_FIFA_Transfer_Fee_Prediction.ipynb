{
 "cells": [
  {
   "cell_type": "markdown",
   "metadata": {},
   "source": [
    "8기_최준혁"
   ]
  },
  {
   "cell_type": "markdown",
   "metadata": {
    "id": "ace_fbLw5k1K"
   },
   "source": [
    "# 필요 라이브러리 호출하기"
   ]
  },
  {
   "cell_type": "markdown",
   "metadata": {
    "id": "vqWO_rpE5k1P"
   },
   "source": [
    "pandas, numpy 등 데이터 읽기에 필요한 라이브러리를 호출해줍니다. "
   ]
  },
  {
   "cell_type": "code",
   "execution_count": 55,
   "metadata": {
    "ExecuteTime": {
     "end_time": "2022-10-05T05:18:52.760307Z",
     "start_time": "2022-10-05T05:18:52.748339Z"
    },
    "id": "UFUCDR83gpdQ"
   },
   "outputs": [],
   "source": [
    "#필요 라이브러리 호출\n",
    "import pandas as pd\n",
    "import numpy as np\n",
    "import warnings\n",
    "warnings.filterwarnings('ignore')"
   ]
  },
  {
   "cell_type": "markdown",
   "metadata": {
    "id": "YEbW0mLz5k1S"
   },
   "source": [
    "## 파일 읽기"
   ]
  },
  {
   "cell_type": "markdown",
   "metadata": {
    "id": "zV8PDf6z5k1S"
   },
   "source": [
    "pandas의 read_csv를 활용하여 csv 파일을 데이터프레임 형태로 불러옵니다."
   ]
  },
  {
   "cell_type": "code",
   "execution_count": 56,
   "metadata": {
    "ExecuteTime": {
     "end_time": "2022-10-05T05:18:52.807182Z",
     "start_time": "2022-10-05T05:18:52.763299Z"
    },
    "id": "mNmHj38F5k1T"
   },
   "outputs": [],
   "source": [
    "#파일 불러오기\n",
    "data = pd.read_csv(\"./FIFA.csv\", \n",
    "                  index_col = None)"
   ]
  },
  {
   "cell_type": "code",
   "execution_count": 57,
   "metadata": {
    "ExecuteTime": {
     "end_time": "2022-10-05T05:18:52.822142Z",
     "start_time": "2022-10-05T05:18:52.810175Z"
    },
    "id": "n6WeQLJePGv7"
   },
   "outputs": [],
   "source": [
    "df = data.copy()"
   ]
  },
  {
   "cell_type": "markdown",
   "metadata": {
    "id": "F05K6V0c4Tuj"
   },
   "source": [
    "## 데이터 구조 확인"
   ]
  },
  {
   "cell_type": "markdown",
   "metadata": {
    "id": "d0t6A8fh5k1W"
   },
   "source": [
    "                                                      <데이터 변수 설명>\n",
    "\n",
    "| 변수 | 설명 \n",
    "| --- | --- | \n",
    "| id | 선수 고유의 아이디 |  \n",
    "| name | 이름 |\n",
    "| age | 나이 |\n",
    "| continent | 선수들의 국적이 포함되어 있는 대륙 | \n",
    "| contract_until | 선수의 계약기간 만료시기 |  \n",
    "| position | 선수가 선호하는 포지션 ex) 공격수, 수비수|  \n",
    "| prefer_foot | 선수가 선호하는 발 ex) 오른발 |  \n",
    "| reputation | 선수가 유명도 - 높은 수치일 수록 유명한 선수 |  \n",
    "| stat_overall | 선수의 현재 능력치 |  \n",
    "| stat_potential | 선수가 경험 및 노력을 통해 발전할 수 있는 정도 |  \n",
    "| stat_skill_moves | 선수의 개인기 능력치 |  \n",
    "| value | FIFA가 선정한 선수의 이적 시장 가격 (단위 : 유로) |  \n"
   ]
  },
  {
   "cell_type": "markdown",
   "metadata": {
    "id": "z5jWQJBF5k1X"
   },
   "source": [
    "df.head(), df.describe(), df.info()로 전반적인 데이터프레임의 구조를 확인해볼 수 있습니다. "
   ]
  },
  {
   "cell_type": "code",
   "execution_count": 58,
   "metadata": {
    "ExecuteTime": {
     "end_time": "2022-10-05T05:18:52.853060Z",
     "start_time": "2022-10-05T05:18:52.825135Z"
    },
    "colab": {
     "base_uri": "https://localhost:8080/",
     "height": 206
    },
    "id": "N17NwMHogz0_",
    "outputId": "3ddd0ec5-97bf-4dc5-ee0a-4bf9e5fcc838"
   },
   "outputs": [
    {
     "data": {
      "text/html": [
       "<div>\n",
       "<style scoped>\n",
       "    .dataframe tbody tr th:only-of-type {\n",
       "        vertical-align: middle;\n",
       "    }\n",
       "\n",
       "    .dataframe tbody tr th {\n",
       "        vertical-align: top;\n",
       "    }\n",
       "\n",
       "    .dataframe thead th {\n",
       "        text-align: right;\n",
       "    }\n",
       "</style>\n",
       "<table border=\"1\" class=\"dataframe\">\n",
       "  <thead>\n",
       "    <tr style=\"text-align: right;\">\n",
       "      <th></th>\n",
       "      <th>id</th>\n",
       "      <th>name</th>\n",
       "      <th>age</th>\n",
       "      <th>continent</th>\n",
       "      <th>contract_until</th>\n",
       "      <th>position</th>\n",
       "      <th>prefer_foot</th>\n",
       "      <th>reputation</th>\n",
       "      <th>stat_overall</th>\n",
       "      <th>stat_potential</th>\n",
       "      <th>stat_skill_moves</th>\n",
       "      <th>value</th>\n",
       "    </tr>\n",
       "  </thead>\n",
       "  <tbody>\n",
       "    <tr>\n",
       "      <th>0</th>\n",
       "      <td>11784.0</td>\n",
       "      <td>T. Lindenhahn</td>\n",
       "      <td>27</td>\n",
       "      <td>europe</td>\n",
       "      <td>2021</td>\n",
       "      <td>DF</td>\n",
       "      <td>?</td>\n",
       "      <td>1</td>\n",
       "      <td>63.0</td>\n",
       "      <td>63.0</td>\n",
       "      <td>3</td>\n",
       "      <td>300000</td>\n",
       "    </tr>\n",
       "    <tr>\n",
       "      <th>1</th>\n",
       "      <td>2436.0</td>\n",
       "      <td>V. Misidjan</td>\n",
       "      <td>24</td>\n",
       "      <td>europe</td>\n",
       "      <td>2021</td>\n",
       "      <td>MF</td>\n",
       "      <td>?</td>\n",
       "      <td>1</td>\n",
       "      <td>74.0</td>\n",
       "      <td>77.0</td>\n",
       "      <td>3</td>\n",
       "      <td>7000000</td>\n",
       "    </tr>\n",
       "    <tr>\n",
       "      <th>2</th>\n",
       "      <td>8196.0</td>\n",
       "      <td>S. Aresti</td>\n",
       "      <td>32</td>\n",
       "      <td>europe</td>\n",
       "      <td>2020</td>\n",
       "      <td>GK</td>\n",
       "      <td>?</td>\n",
       "      <td>1</td>\n",
       "      <td>67.0</td>\n",
       "      <td>67.0</td>\n",
       "      <td>1</td>\n",
       "      <td>450000</td>\n",
       "    </tr>\n",
       "    <tr>\n",
       "      <th>3</th>\n",
       "      <td>16446.0</td>\n",
       "      <td>H. Al Ruwaili</td>\n",
       "      <td>23</td>\n",
       "      <td>asia</td>\n",
       "      <td>2020</td>\n",
       "      <td>DF</td>\n",
       "      <td>?</td>\n",
       "      <td>1</td>\n",
       "      <td>53.0</td>\n",
       "      <td>60.0</td>\n",
       "      <td>2</td>\n",
       "      <td>70000</td>\n",
       "    </tr>\n",
       "    <tr>\n",
       "      <th>4</th>\n",
       "      <td>7388.0</td>\n",
       "      <td>E. Soriano</td>\n",
       "      <td>29</td>\n",
       "      <td>europe</td>\n",
       "      <td>2019</td>\n",
       "      <td>ST</td>\n",
       "      <td>?</td>\n",
       "      <td>1</td>\n",
       "      <td>67.0</td>\n",
       "      <td>67.0</td>\n",
       "      <td>2</td>\n",
       "      <td>750000</td>\n",
       "    </tr>\n",
       "  </tbody>\n",
       "</table>\n",
       "</div>"
      ],
      "text/plain": [
       "        id           name  age continent contract_until position prefer_foot  \\\n",
       "0  11784.0  T. Lindenhahn   27    europe           2021       DF           ?   \n",
       "1   2436.0    V. Misidjan   24    europe           2021       MF           ?   \n",
       "2   8196.0      S. Aresti   32    europe           2020       GK           ?   \n",
       "3  16446.0  H. Al Ruwaili   23      asia           2020       DF           ?   \n",
       "4   7388.0     E. Soriano   29    europe           2019       ST           ?   \n",
       "\n",
       "   reputation  stat_overall  stat_potential  stat_skill_moves    value  \n",
       "0           1          63.0            63.0                 3   300000  \n",
       "1           1          74.0            77.0                 3  7000000  \n",
       "2           1          67.0            67.0                 1   450000  \n",
       "3           1          53.0            60.0                 2    70000  \n",
       "4           1          67.0            67.0                 2   750000  "
      ]
     },
     "execution_count": 58,
     "metadata": {},
     "output_type": "execute_result"
    }
   ],
   "source": [
    "# dataframe.head()\n",
    "# 데이터프레임 상위 5개 행 확인\n",
    "df.head(5)"
   ]
  },
  {
   "cell_type": "markdown",
   "metadata": {
    "id": "VCEEBHGu5k1Z"
   },
   "source": [
    "**과제 1: 데이터프레임 하위 7개 행을 확인해보세요!**"
   ]
  },
  {
   "cell_type": "code",
   "execution_count": 59,
   "metadata": {
    "ExecuteTime": {
     "end_time": "2022-10-05T05:18:52.884975Z",
     "start_time": "2022-10-05T05:18:52.857050Z"
    },
    "colab": {
     "base_uri": "https://localhost:8080/",
     "height": 269
    },
    "id": "kssGSOYt5k1a",
    "outputId": "1fd9eb8d-8f33-4246-b43d-32549664cfef"
   },
   "outputs": [
    {
     "data": {
      "text/html": [
       "<div>\n",
       "<style scoped>\n",
       "    .dataframe tbody tr th:only-of-type {\n",
       "        vertical-align: middle;\n",
       "    }\n",
       "\n",
       "    .dataframe tbody tr th {\n",
       "        vertical-align: top;\n",
       "    }\n",
       "\n",
       "    .dataframe thead th {\n",
       "        text-align: right;\n",
       "    }\n",
       "</style>\n",
       "<table border=\"1\" class=\"dataframe\">\n",
       "  <thead>\n",
       "    <tr style=\"text-align: right;\">\n",
       "      <th></th>\n",
       "      <th>id</th>\n",
       "      <th>name</th>\n",
       "      <th>age</th>\n",
       "      <th>continent</th>\n",
       "      <th>contract_until</th>\n",
       "      <th>position</th>\n",
       "      <th>prefer_foot</th>\n",
       "      <th>reputation</th>\n",
       "      <th>stat_overall</th>\n",
       "      <th>stat_potential</th>\n",
       "      <th>stat_skill_moves</th>\n",
       "      <th>value</th>\n",
       "    </tr>\n",
       "  </thead>\n",
       "  <tbody>\n",
       "    <tr>\n",
       "      <th>8925</th>\n",
       "      <td>7805.0</td>\n",
       "      <td>C. Sepúlveda</td>\n",
       "      <td>26</td>\n",
       "      <td>south america</td>\n",
       "      <td>2019</td>\n",
       "      <td>MF</td>\n",
       "      <td>right</td>\n",
       "      <td>1</td>\n",
       "      <td>67.0</td>\n",
       "      <td>72.0</td>\n",
       "      <td>2</td>\n",
       "      <td>850000</td>\n",
       "    </tr>\n",
       "    <tr>\n",
       "      <th>8926</th>\n",
       "      <td>10746.0</td>\n",
       "      <td>I. Abass</td>\n",
       "      <td>19</td>\n",
       "      <td>africa</td>\n",
       "      <td>2023</td>\n",
       "      <td>ST</td>\n",
       "      <td>right</td>\n",
       "      <td>1</td>\n",
       "      <td>64.0</td>\n",
       "      <td>77.0</td>\n",
       "      <td>3</td>\n",
       "      <td>850000</td>\n",
       "    </tr>\n",
       "    <tr>\n",
       "      <th>8927</th>\n",
       "      <td>5424.0</td>\n",
       "      <td>D. Odoi</td>\n",
       "      <td>30</td>\n",
       "      <td>europe</td>\n",
       "      <td>2019</td>\n",
       "      <td>DF</td>\n",
       "      <td>right</td>\n",
       "      <td>1</td>\n",
       "      <td>69.0</td>\n",
       "      <td>69.0</td>\n",
       "      <td>3</td>\n",
       "      <td>775000</td>\n",
       "    </tr>\n",
       "    <tr>\n",
       "      <th>8928</th>\n",
       "      <td>16664.0</td>\n",
       "      <td>M. Tilio</td>\n",
       "      <td>16</td>\n",
       "      <td>oceania</td>\n",
       "      <td>2019</td>\n",
       "      <td>MF</td>\n",
       "      <td>left</td>\n",
       "      <td>1</td>\n",
       "      <td>52.0</td>\n",
       "      <td>69.0</td>\n",
       "      <td>2</td>\n",
       "      <td>100000</td>\n",
       "    </tr>\n",
       "    <tr>\n",
       "      <th>8929</th>\n",
       "      <td>13515.0</td>\n",
       "      <td>V. Myhra</td>\n",
       "      <td>21</td>\n",
       "      <td>europe</td>\n",
       "      <td>2018</td>\n",
       "      <td>GK</td>\n",
       "      <td>right</td>\n",
       "      <td>1</td>\n",
       "      <td>61.0</td>\n",
       "      <td>72.0</td>\n",
       "      <td>1</td>\n",
       "      <td>350000</td>\n",
       "    </tr>\n",
       "    <tr>\n",
       "      <th>8930</th>\n",
       "      <td>876.0</td>\n",
       "      <td>R. Vormer</td>\n",
       "      <td>30</td>\n",
       "      <td>europe</td>\n",
       "      <td>2022</td>\n",
       "      <td>MF</td>\n",
       "      <td>right</td>\n",
       "      <td>2</td>\n",
       "      <td>78.0</td>\n",
       "      <td>78.0</td>\n",
       "      <td>3</td>\n",
       "      <td>9500000</td>\n",
       "    </tr>\n",
       "    <tr>\n",
       "      <th>8931</th>\n",
       "      <td>13317.0</td>\n",
       "      <td>H. Eisa</td>\n",
       "      <td>25</td>\n",
       "      <td>africa</td>\n",
       "      <td>2019</td>\n",
       "      <td>ST</td>\n",
       "      <td>right</td>\n",
       "      <td>1</td>\n",
       "      <td>61.0</td>\n",
       "      <td>NaN</td>\n",
       "      <td>2</td>\n",
       "      <td>350000</td>\n",
       "    </tr>\n",
       "  </tbody>\n",
       "</table>\n",
       "</div>"
      ],
      "text/plain": [
       "           id          name  age      continent contract_until position  \\\n",
       "8925   7805.0  C. Sepúlveda   26  south america           2019       MF   \n",
       "8926  10746.0      I. Abass   19         africa           2023       ST   \n",
       "8927   5424.0       D. Odoi   30         europe           2019       DF   \n",
       "8928  16664.0      M. Tilio   16        oceania           2019       MF   \n",
       "8929  13515.0      V. Myhra   21         europe           2018       GK   \n",
       "8930    876.0     R. Vormer   30         europe           2022       MF   \n",
       "8931  13317.0       H. Eisa   25         africa           2019       ST   \n",
       "\n",
       "     prefer_foot  reputation  stat_overall  stat_potential  stat_skill_moves  \\\n",
       "8925       right           1          67.0            72.0                 2   \n",
       "8926       right           1          64.0            77.0                 3   \n",
       "8927       right           1          69.0            69.0                 3   \n",
       "8928        left           1          52.0            69.0                 2   \n",
       "8929       right           1          61.0            72.0                 1   \n",
       "8930       right           2          78.0            78.0                 3   \n",
       "8931       right           1          61.0             NaN                 2   \n",
       "\n",
       "        value  \n",
       "8925   850000  \n",
       "8926   850000  \n",
       "8927   775000  \n",
       "8928   100000  \n",
       "8929   350000  \n",
       "8930  9500000  \n",
       "8931   350000  "
      ]
     },
     "execution_count": 59,
     "metadata": {},
     "output_type": "execute_result"
    }
   ],
   "source": [
    "# 데이터프레임 하위 7개 행 확인\n",
    "df.tail(7)"
   ]
  },
  {
   "cell_type": "markdown",
   "metadata": {
    "id": "qELLRxnb5k1a"
   },
   "source": [
    "# 결측치 처리"
   ]
  },
  {
   "cell_type": "markdown",
   "metadata": {
    "id": "IUIh61Gn5k1b"
   },
   "source": [
    "## 결측치 확인\n",
    "dataframe.info()를 통해서 데이터프레임의 자료형, 결측치 개수를 알 수 있습니다."
   ]
  },
  {
   "cell_type": "code",
   "execution_count": 60,
   "metadata": {
    "ExecuteTime": {
     "end_time": "2022-10-05T05:18:52.931848Z",
     "start_time": "2022-10-05T05:18:52.888964Z"
    },
    "colab": {
     "base_uri": "https://localhost:8080/"
    },
    "id": "kXW5h14dg1KT",
    "outputId": "55e773dc-5b48-4893-f4bf-b9f83705dfea"
   },
   "outputs": [
    {
     "name": "stdout",
     "output_type": "stream",
     "text": [
      "<class 'pandas.core.frame.DataFrame'>\n",
      "RangeIndex: 8932 entries, 0 to 8931\n",
      "Data columns (total 12 columns):\n",
      " #   Column            Non-Null Count  Dtype  \n",
      "---  ------            --------------  -----  \n",
      " 0   id                8756 non-null   float64\n",
      " 1   name              8932 non-null   object \n",
      " 2   age               8932 non-null   int64  \n",
      " 3   continent         8932 non-null   object \n",
      " 4   contract_until    8932 non-null   object \n",
      " 5   position          8932 non-null   object \n",
      " 6   prefer_foot       8932 non-null   object \n",
      " 7   reputation        8932 non-null   int64  \n",
      " 8   stat_overall      8802 non-null   float64\n",
      " 9   stat_potential    7140 non-null   float64\n",
      " 10  stat_skill_moves  8932 non-null   int64  \n",
      " 11  value             8932 non-null   int64  \n",
      "dtypes: float64(3), int64(4), object(5)\n",
      "memory usage: 837.5+ KB\n"
     ]
    }
   ],
   "source": [
    "# 결측치 확인\n",
    "df.info()"
   ]
  },
  {
   "cell_type": "code",
   "execution_count": 61,
   "metadata": {
    "ExecuteTime": {
     "end_time": "2022-10-05T05:18:52.962765Z",
     "start_time": "2022-10-05T05:18:52.934841Z"
    },
    "colab": {
     "base_uri": "https://localhost:8080/"
    },
    "id": "P-qUQ5Ym5k1c",
    "outputId": "41decbd3-f954-41b5-c3f0-54a80a10be14"
   },
   "outputs": [
    {
     "data": {
      "text/plain": [
       "id                   176\n",
       "name                   0\n",
       "age                    0\n",
       "continent              0\n",
       "contract_until         0\n",
       "position               0\n",
       "prefer_foot            0\n",
       "reputation             0\n",
       "stat_overall         130\n",
       "stat_potential      1792\n",
       "stat_skill_moves       0\n",
       "value                  0\n",
       "dtype: int64"
      ]
     },
     "execution_count": 61,
     "metadata": {},
     "output_type": "execute_result"
    }
   ],
   "source": [
    "# 결측치 확인\n",
    "df.isnull().sum()"
   ]
  },
  {
   "cell_type": "markdown",
   "metadata": {
    "id": "ZKWni4hkl6-z"
   },
   "source": [
    "- df.info(), df.isnull().sum으로 확인해 본 결과, id, stat_overall, stat_potential에 결측치가 존재하는 것을 알 수 있습니다.<br>\n",
    "- name, continent, contract_until, position, prefer_foot의 데이터 타입인 object는 pandas에서 문자열 type라고 생각해주시면 됩니다.<br>\n",
    "\n",
    "그럼 결측치가 존재하는 id, stat_overall, stat_potential의 결측치를 처리하는 과정을 각각 진행해보도록 하겠습니다."
   ]
  },
  {
   "cell_type": "markdown",
   "metadata": {
    "id": "KXM03rSE5k1d"
   },
   "source": [
    "**과제2: describe을 활용해 데이터의 평균, 4분위수, 최소값, 최대값을 확인해보세요!** "
   ]
  },
  {
   "cell_type": "code",
   "execution_count": 62,
   "metadata": {
    "ExecuteTime": {
     "end_time": "2022-10-05T05:18:53.009944Z",
     "start_time": "2022-10-05T05:18:52.965759Z"
    },
    "colab": {
     "base_uri": "https://localhost:8080/",
     "height": 300
    },
    "id": "qr3XyipOjcA5",
    "outputId": "243bc067-5a91-4327-eb2a-981965f9d756"
   },
   "outputs": [
    {
     "data": {
      "text/html": [
       "<div>\n",
       "<style scoped>\n",
       "    .dataframe tbody tr th:only-of-type {\n",
       "        vertical-align: middle;\n",
       "    }\n",
       "\n",
       "    .dataframe tbody tr th {\n",
       "        vertical-align: top;\n",
       "    }\n",
       "\n",
       "    .dataframe thead th {\n",
       "        text-align: right;\n",
       "    }\n",
       "</style>\n",
       "<table border=\"1\" class=\"dataframe\">\n",
       "  <thead>\n",
       "    <tr style=\"text-align: right;\">\n",
       "      <th></th>\n",
       "      <th>id</th>\n",
       "      <th>age</th>\n",
       "      <th>reputation</th>\n",
       "      <th>stat_overall</th>\n",
       "      <th>stat_potential</th>\n",
       "      <th>stat_skill_moves</th>\n",
       "      <th>value</th>\n",
       "    </tr>\n",
       "  </thead>\n",
       "  <tbody>\n",
       "    <tr>\n",
       "      <th>count</th>\n",
       "      <td>8756.000000</td>\n",
       "      <td>8932.000000</td>\n",
       "      <td>8932.000000</td>\n",
       "      <td>8802.000000</td>\n",
       "      <td>7140.000000</td>\n",
       "      <td>8932.000000</td>\n",
       "      <td>8.932000e+03</td>\n",
       "    </tr>\n",
       "    <tr>\n",
       "      <th>mean</th>\n",
       "      <td>7972.833029</td>\n",
       "      <td>25.209136</td>\n",
       "      <td>1.130878</td>\n",
       "      <td>67.100091</td>\n",
       "      <td>72.003081</td>\n",
       "      <td>2.401702</td>\n",
       "      <td>2.778673e+06</td>\n",
       "    </tr>\n",
       "    <tr>\n",
       "      <th>std</th>\n",
       "      <td>4842.075657</td>\n",
       "      <td>4.635515</td>\n",
       "      <td>0.423792</td>\n",
       "      <td>6.854393</td>\n",
       "      <td>5.981808</td>\n",
       "      <td>0.776048</td>\n",
       "      <td>5.840982e+06</td>\n",
       "    </tr>\n",
       "    <tr>\n",
       "      <th>min</th>\n",
       "      <td>0.000000</td>\n",
       "      <td>16.000000</td>\n",
       "      <td>1.000000</td>\n",
       "      <td>47.000000</td>\n",
       "      <td>48.000000</td>\n",
       "      <td>1.000000</td>\n",
       "      <td>1.000000e+04</td>\n",
       "    </tr>\n",
       "    <tr>\n",
       "      <th>25%</th>\n",
       "      <td>3755.750000</td>\n",
       "      <td>21.000000</td>\n",
       "      <td>1.000000</td>\n",
       "      <td>63.000000</td>\n",
       "      <td>68.000000</td>\n",
       "      <td>2.000000</td>\n",
       "      <td>3.750000e+05</td>\n",
       "    </tr>\n",
       "    <tr>\n",
       "      <th>50%</th>\n",
       "      <td>7707.500000</td>\n",
       "      <td>25.000000</td>\n",
       "      <td>1.000000</td>\n",
       "      <td>67.000000</td>\n",
       "      <td>72.000000</td>\n",
       "      <td>2.000000</td>\n",
       "      <td>8.250000e+05</td>\n",
       "    </tr>\n",
       "    <tr>\n",
       "      <th>75%</th>\n",
       "      <td>12084.250000</td>\n",
       "      <td>28.000000</td>\n",
       "      <td>1.000000</td>\n",
       "      <td>72.000000</td>\n",
       "      <td>76.000000</td>\n",
       "      <td>3.000000</td>\n",
       "      <td>2.600000e+06</td>\n",
       "    </tr>\n",
       "    <tr>\n",
       "      <th>max</th>\n",
       "      <td>16948.000000</td>\n",
       "      <td>40.000000</td>\n",
       "      <td>5.000000</td>\n",
       "      <td>94.000000</td>\n",
       "      <td>94.000000</td>\n",
       "      <td>5.000000</td>\n",
       "      <td>1.105000e+08</td>\n",
       "    </tr>\n",
       "  </tbody>\n",
       "</table>\n",
       "</div>"
      ],
      "text/plain": [
       "                 id          age   reputation  stat_overall  stat_potential  \\\n",
       "count   8756.000000  8932.000000  8932.000000   8802.000000     7140.000000   \n",
       "mean    7972.833029    25.209136     1.130878     67.100091       72.003081   \n",
       "std     4842.075657     4.635515     0.423792      6.854393        5.981808   \n",
       "min        0.000000    16.000000     1.000000     47.000000       48.000000   \n",
       "25%     3755.750000    21.000000     1.000000     63.000000       68.000000   \n",
       "50%     7707.500000    25.000000     1.000000     67.000000       72.000000   \n",
       "75%    12084.250000    28.000000     1.000000     72.000000       76.000000   \n",
       "max    16948.000000    40.000000     5.000000     94.000000       94.000000   \n",
       "\n",
       "       stat_skill_moves         value  \n",
       "count       8932.000000  8.932000e+03  \n",
       "mean           2.401702  2.778673e+06  \n",
       "std            0.776048  5.840982e+06  \n",
       "min            1.000000  1.000000e+04  \n",
       "25%            2.000000  3.750000e+05  \n",
       "50%            2.000000  8.250000e+05  \n",
       "75%            3.000000  2.600000e+06  \n",
       "max            5.000000  1.105000e+08  "
      ]
     },
     "execution_count": 62,
     "metadata": {},
     "output_type": "execute_result"
    }
   ],
   "source": [
    "#데이터프레임 각 칼럼의 통계치 확인\n",
    "df.describe()"
   ]
  },
  {
   "cell_type": "markdown",
   "metadata": {
    "id": "BeV4bx-S8xzg"
   },
   "source": [
    "## id\n",
    "id column은 value를 예측하는데 도움이 되지 않기 때문에 해당 column 전체를 삭제합니다.<br>\n"
   ]
  },
  {
   "cell_type": "markdown",
   "metadata": {
    "id": "G_IqY6d35k1e"
   },
   "source": [
    "**과제 3: id column 전체를 삭제해보세요!(Hint: df.drop을 활용해보세요)**"
   ]
  },
  {
   "cell_type": "code",
   "execution_count": 63,
   "metadata": {
    "ExecuteTime": {
     "end_time": "2022-10-05T05:18:53.024628Z",
     "start_time": "2022-10-05T05:18:53.012957Z"
    },
    "id": "1yMjrg5jJHAq"
   },
   "outputs": [],
   "source": [
    "df.drop(['id'], axis = 1, inplace = True)"
   ]
  },
  {
   "cell_type": "markdown",
   "metadata": {
    "id": "nV8NhlkM9A_L"
   },
   "source": [
    "## prefer_foot\n",
    "\n",
    "value_counts를 통해 prefer_foot의 value 및 결측치의 개수를 확인하고, 최빈값으로 대체함으로써 결측치를 처리해줍니다."
   ]
  },
  {
   "cell_type": "markdown",
   "metadata": {
    "id": "dl9Fi4CH5k1f"
   },
   "source": [
    "**과제 4: 결측치를 최빈값으로 대체해보세요!**"
   ]
  },
  {
   "cell_type": "code",
   "execution_count": 64,
   "metadata": {
    "ExecuteTime": {
     "end_time": "2022-10-05T05:18:53.040629Z",
     "start_time": "2022-10-05T05:18:53.026645Z"
    },
    "id": "9JeXdQctNusA"
   },
   "outputs": [],
   "source": [
    "#결측치를 최빈값인 right로 대체\n",
    "df = df.replace({'prefer_foot' :'?'}, 'right')"
   ]
  },
  {
   "cell_type": "code",
   "execution_count": 65,
   "metadata": {
    "ExecuteTime": {
     "end_time": "2022-10-05T05:18:53.055592Z",
     "start_time": "2022-10-05T05:18:53.043600Z"
    },
    "colab": {
     "base_uri": "https://localhost:8080/"
    },
    "id": "DU75G68bN5qB",
    "outputId": "c1bc638c-1ff0-4683-cf6c-8ae8467ef031"
   },
   "outputs": [
    {
     "data": {
      "text/plain": [
       "prefer_foot\n",
       "right          6952\n",
       "left           1980\n",
       "dtype: int64"
      ]
     },
     "execution_count": 65,
     "metadata": {},
     "output_type": "execute_result"
    }
   ],
   "source": [
    "#결측치 처리 확인\n",
    "df[['prefer_foot']].value_counts()"
   ]
  },
  {
   "cell_type": "markdown",
   "metadata": {
    "id": "atiHuBNl99JW"
   },
   "source": [
    "## stat_potential\n",
    "stat_potential, stat_overall 간의 관계를 파악하고, 상관계수가 높다면 각각의 값을 이용하는 방법으로 결측치를 처리해줍니다."
   ]
  },
  {
   "cell_type": "markdown",
   "metadata": {
    "id": "q_OUr75L5k1h"
   },
   "source": [
    "상관관계를 확인할 때, 시각화를 이용하기 위해 시각화를 위한 라이브러리를 불러옵니다."
   ]
  },
  {
   "cell_type": "code",
   "execution_count": 66,
   "metadata": {
    "ExecuteTime": {
     "end_time": "2022-10-05T05:18:53.070560Z",
     "start_time": "2022-10-05T05:18:53.058559Z"
    },
    "id": "Pn7s8-NJ5k1h"
   },
   "outputs": [],
   "source": [
    "#시각화를 위해 matplotlib 호출\n",
    "\n",
    "import matplotlib\n",
    "import matplotlib.pyplot as plt\n",
    "import seaborn as sns"
   ]
  },
  {
   "cell_type": "markdown",
   "metadata": {
    "id": "9j7GAkHB5k1h"
   },
   "source": [
    "scatter plot, heatmap을 이용해 두 변수 간 상관관계를 확인해줍니다."
   ]
  },
  {
   "cell_type": "code",
   "execution_count": 67,
   "metadata": {
    "ExecuteTime": {
     "end_time": "2022-10-05T05:18:53.228147Z",
     "start_time": "2022-10-05T05:18:53.073519Z"
    },
    "colab": {
     "base_uri": "https://localhost:8080/",
     "height": 283
    },
    "id": "p9iEdpwcJdsx",
    "outputId": "828f5b40-0e15-4a34-8976-7b97855932af"
   },
   "outputs": [
    {
     "data": {
      "text/plain": [
       "<matplotlib.collections.PathCollection at 0x14813f18c40>"
      ]
     },
     "execution_count": 67,
     "metadata": {},
     "output_type": "execute_result"
    },
    {
     "data": {
      "image/png": "[encoded data removed]",
      "text/plain": [
       "<Figure size 640x480 with 1 Axes>"
      ]
     },
     "metadata": {},
     "output_type": "display_data"
    }
   ],
   "source": [
    "# scatterplot을 통해 상관관계 확인\n",
    "\n",
    "plt.scatter(df.stat_potential, df.stat_overall)"
   ]
  },
  {
   "cell_type": "code",
   "execution_count": 68,
   "metadata": {
    "ExecuteTime": {
     "end_time": "2022-10-05T05:18:53.572220Z",
     "start_time": "2022-10-05T05:18:53.230100Z"
    },
    "colab": {
     "base_uri": "https://localhost:8080/",
     "height": 359
    },
    "id": "oBw5-q6L_MmB",
    "outputId": "c55b5b39-2b08-4ac9-eb55-8c6baf55dfb4"
   },
   "outputs": [
    {
     "data": {
      "text/plain": [
       "<AxesSubplot:>"
      ]
     },
     "execution_count": 68,
     "metadata": {},
     "output_type": "execute_result"
    },
    {
     "data": {
      "image/png": "[encoded data removed]",
      "text/plain": [
       "<Figure size 640x480 with 2 Axes>"
      ]
     },
     "metadata": {},
     "output_type": "display_data"
    }
   ],
   "source": [
    "# heatmap을 통해 상관계수 파악\n",
    "\n",
    "sns.heatmap(df.corr(),\n",
    "            annot = True)"
   ]
  },
  {
   "cell_type": "markdown",
   "metadata": {
    "id": "snnnioQ__6N1"
   },
   "source": [
    "- scatter plot을 봤을 때 두 변수간 선형 관계가 존재하고, heatmap에서도 상관계수가 0.66임을 알 수 있기 때문에 각각의 값으로 대체함으로써 결측치를 처리해줍니다."
   ]
  },
  {
   "cell_type": "code",
   "execution_count": 69,
   "metadata": {
    "ExecuteTime": {
     "end_time": "2022-10-05T05:18:53.588170Z",
     "start_time": "2022-10-05T05:18:53.574182Z"
    },
    "id": "k_IdCYDsJ4AH"
   },
   "outputs": [],
   "source": [
    "#각각의 값으로 대체\n",
    "\n",
    "df = df.fillna({'stat_potential':df['stat_overall']})\n",
    "df = df.fillna({'stat_overall':df['stat_potential']})"
   ]
  },
  {
   "cell_type": "code",
   "execution_count": 70,
   "metadata": {
    "ExecuteTime": {
     "end_time": "2022-10-05T05:18:53.620057Z",
     "start_time": "2022-10-05T05:18:53.590136Z"
    },
    "colab": {
     "base_uri": "https://localhost:8080/"
    },
    "id": "u1nPwCnX5k1j",
    "outputId": "99120a1a-b316-4b60-855c-f6ec7d29c1da"
   },
   "outputs": [
    {
     "name": "stdout",
     "output_type": "stream",
     "text": [
      "<class 'pandas.core.frame.DataFrame'>\n",
      "RangeIndex: 8932 entries, 0 to 8931\n",
      "Data columns (total 11 columns):\n",
      " #   Column            Non-Null Count  Dtype  \n",
      "---  ------            --------------  -----  \n",
      " 0   name              8932 non-null   object \n",
      " 1   age               8932 non-null   int64  \n",
      " 2   continent         8932 non-null   object \n",
      " 3   contract_until    8932 non-null   object \n",
      " 4   position          8932 non-null   object \n",
      " 5   prefer_foot       8932 non-null   object \n",
      " 6   reputation        8932 non-null   int64  \n",
      " 7   stat_overall      8912 non-null   float64\n",
      " 8   stat_potential    8912 non-null   float64\n",
      " 9   stat_skill_moves  8932 non-null   int64  \n",
      " 10  value             8932 non-null   int64  \n",
      "dtypes: float64(2), int64(4), object(5)\n",
      "memory usage: 767.7+ KB\n"
     ]
    }
   ],
   "source": [
    "#결측치 처리 확인\n",
    "df.info()"
   ]
  },
  {
   "cell_type": "markdown",
   "metadata": {
    "id": "FmQCGybg5k1j"
   },
   "source": [
    "-  stat_overall과 stat_potential 모두 결측치가 존재하는 row는 20개입니다. 따라서, 최종적으로 결측치 20개가 존재합니다.\n",
    "-  값을 삭제해도 모델 학습에 큰 무리가 없으므로, 해당 row를 삭제함으로써 결측치를 처리해줍니다."
   ]
  },
  {
   "cell_type": "code",
   "execution_count": 71,
   "metadata": {
    "ExecuteTime": {
     "end_time": "2022-10-05T05:18:53.651017Z",
     "start_time": "2022-10-05T05:18:53.622086Z"
    },
    "id": "uzz3onf6Mjll"
   },
   "outputs": [],
   "source": [
    "#결측치 삭제\n",
    "df.dropna(how = 'any', inplace = True)"
   ]
  },
  {
   "cell_type": "code",
   "execution_count": 72,
   "metadata": {
    "ExecuteTime": {
     "end_time": "2022-10-05T05:18:53.681928Z",
     "start_time": "2022-10-05T05:18:53.653967Z"
    },
    "colab": {
     "base_uri": "https://localhost:8080/",
     "height": 363
    },
    "id": "ARVcQBOC24ja",
    "outputId": "182cb90c-76a5-43d6-ff3e-febde0414ff5"
   },
   "outputs": [
    {
     "data": {
      "text/plain": [
       "name                0\n",
       "age                 0\n",
       "continent           0\n",
       "contract_until      0\n",
       "position            0\n",
       "prefer_foot         0\n",
       "reputation          0\n",
       "stat_overall        0\n",
       "stat_potential      0\n",
       "stat_skill_moves    0\n",
       "value               0\n",
       "dtype: int64"
      ]
     },
     "execution_count": 72,
     "metadata": {},
     "output_type": "execute_result"
    }
   ],
   "source": [
    "#결측치 처리 결과 확인\n",
    "df.isnull().sum()"
   ]
  },
  {
   "cell_type": "markdown",
   "metadata": {
    "id": "0Xisxk0M5k1k"
   },
   "source": [
    "# EDA"
   ]
  },
  {
   "cell_type": "markdown",
   "metadata": {
    "id": "EKFJ7qdh5k1l"
   },
   "source": [
    "우선, EDA를 위해 시각화에 필요한 라이브러리를 호출해줍니다."
   ]
  },
  {
   "cell_type": "code",
   "execution_count": 73,
   "metadata": {
    "ExecuteTime": {
     "end_time": "2022-10-05T05:18:53.697893Z",
     "start_time": "2022-10-05T05:18:53.684885Z"
    },
    "id": "QadDpF2j5k1l"
   },
   "outputs": [],
   "source": [
    "#시각화 라이브러리 호출\n",
    "import matplotlib\n",
    "import matplotlib.pyplot as plt\n",
    "import seaborn as sns"
   ]
  },
  {
   "cell_type": "markdown",
   "metadata": {
    "id": "NnFX3k6m5k1l"
   },
   "source": [
    "먼저 position별 value의 변화를 나타내주는 factorplot을 그려줍니다."
   ]
  },
  {
   "cell_type": "code",
   "execution_count": 74,
   "metadata": {
    "ExecuteTime": {
     "end_time": "2022-10-05T05:18:54.191570Z",
     "start_time": "2022-10-05T05:18:53.699844Z"
    },
    "colab": {
     "base_uri": "https://localhost:8080/",
     "height": 387
    },
    "id": "1g0wWORn5k1m",
    "outputId": "1c9786a5-defd-4f7e-b35a-203d52fcc034"
   },
   "outputs": [
    {
     "data": {
      "text/plain": [
       "<seaborn.axisgrid.FacetGrid at 0x14813e27460>"
      ]
     },
     "execution_count": 74,
     "metadata": {},
     "output_type": "execute_result"
    },
    {
     "data": {
      "image/png": "[encoded data removed]",
      "text/plain": [
       "<Figure size 500x500 with 1 Axes>"
      ]
     },
     "metadata": {},
     "output_type": "display_data"
    }
   ],
   "source": [
    "# position별 value의 변화 알아보기\n",
    "sns.factorplot('position', 'value', data = df)"
   ]
  },
  {
   "cell_type": "markdown",
   "metadata": {
    "id": "JQL2JfIV5k1m"
   },
   "source": [
    "다음으로, position별 value를 reputation별로 알아보는 EDA를 진행해보도록 하겠습니다."
   ]
  },
  {
   "cell_type": "code",
   "execution_count": 75,
   "metadata": {
    "ExecuteTime": {
     "end_time": "2022-10-05T05:18:55.751360Z",
     "start_time": "2022-10-05T05:18:54.193525Z"
    },
    "colab": {
     "base_uri": "https://localhost:8080/",
     "height": 329
    },
    "id": "cugVB4o45k1m",
    "outputId": "e4372e04-e981-45b8-a475-f6a0cbf4bf08"
   },
   "outputs": [
    {
     "data": {
      "text/plain": [
       "<seaborn.axisgrid.FacetGrid at 0x14813e0bfd0>"
      ]
     },
     "execution_count": 75,
     "metadata": {},
     "output_type": "execute_result"
    },
    {
     "data": {
      "image/png": "[encoded data removed]",
      "text/plain": [
       "<Figure size 2500x500 with 5 Axes>"
      ]
     },
     "metadata": {},
     "output_type": "display_data"
    }
   ],
   "source": [
    "# reputation별로 position별 value의 변화 알아보기\n",
    "\n",
    "sns.factorplot('position', 'value', col = 'reputation', data = df)"
   ]
  },
  {
   "cell_type": "markdown",
   "metadata": {
    "id": "YEC5OQUq5k1m"
   },
   "source": [
    "**과제 5: 위의 그래프와 같이, position별 stat_skill_moves의 변화를 알아보기 위해 두 변수 간 factorplot을 그려보세요!**"
   ]
  },
  {
   "cell_type": "code",
   "execution_count": 76,
   "metadata": {
    "ExecuteTime": {
     "end_time": "2022-10-05T05:18:56.256053Z",
     "start_time": "2022-10-05T05:18:55.756345Z"
    },
    "colab": {
     "base_uri": "https://localhost:8080/",
     "height": 387
    },
    "id": "nS4jaeR75k1n",
    "outputId": "6e36aa24-a184-4fd5-e2fb-b175c573f75e"
   },
   "outputs": [
    {
     "data": {
      "text/plain": [
       "<seaborn.axisgrid.FacetGrid at 0x14815297ac0>"
      ]
     },
     "execution_count": 76,
     "metadata": {},
     "output_type": "execute_result"
    },
    {
     "data": {
      "image/png": "[encoded data removed]",
      "text/plain": [
       "<Figure size 500x500 with 1 Axes>"
      ]
     },
     "metadata": {},
     "output_type": "display_data"
    }
   ],
   "source": [
    "sns.factorplot('position', 'stat_skill_moves', data = df)"
   ]
  },
  {
   "cell_type": "code",
   "execution_count": 77,
   "metadata": {
    "ExecuteTime": {
     "end_time": "2022-10-05T05:18:56.685861Z",
     "start_time": "2022-10-05T05:18:56.258005Z"
    },
    "colab": {
     "base_uri": "https://localhost:8080/",
     "height": 308
    },
    "id": "lPN3xmbH5k1n",
    "outputId": "22390020-0990-41ec-f006-50610230d9f3"
   },
   "outputs": [
    {
     "data": {
      "text/plain": [
       "<AxesSubplot:xlabel='value', ylabel='Density'>"
      ]
     },
     "execution_count": 77,
     "metadata": {},
     "output_type": "execute_result"
    },
    {
     "data": {
      "image/png": "[encoded data removed]",
      "text/plain": [
       "<Figure size 640x480 with 1 Axes>"
      ]
     },
     "metadata": {},
     "output_type": "display_data"
    }
   ],
   "source": [
    "sns.distplot(df['value'])"
   ]
  },
  {
   "cell_type": "code",
   "execution_count": 78,
   "metadata": {
    "ExecuteTime": {
     "end_time": "2022-10-05T05:18:57.112719Z",
     "start_time": "2022-10-05T05:18:56.689850Z"
    },
    "colab": {
     "base_uri": "https://localhost:8080/",
     "height": 298
    },
    "id": "GjtEYcKe5k1n",
    "outputId": "55205237-4bed-46ad-cb8b-7c0d030a9656"
   },
   "outputs": [
    {
     "data": {
      "text/plain": [
       "<AxesSubplot:xlabel='stat_potential', ylabel='Density'>"
      ]
     },
     "execution_count": 78,
     "metadata": {},
     "output_type": "execute_result"
    },
    {
     "data": {
      "image/png": "[encoded data removed]",
      "text/plain": [
       "<Figure size 640x480 with 1 Axes>"
      ]
     },
     "metadata": {},
     "output_type": "display_data"
    }
   ],
   "source": [
    "sns.distplot(df['stat_potential'])"
   ]
  },
  {
   "cell_type": "markdown",
   "metadata": {
    "id": "wd3amP6S5k1o"
   },
   "source": [
    "**과제 6: 다음으로 position 별 선수의 수를 나타내주는 PieChart와, position별 선수가 선호하는 발의 수를 나타내주는 CountPlot을 함께 그려보세요!**"
   ]
  },
  {
   "cell_type": "code",
   "execution_count": 79,
   "metadata": {
    "ExecuteTime": {
     "end_time": "2022-10-05T05:18:57.584459Z",
     "start_time": "2022-10-05T05:18:57.115712Z"
    },
    "colab": {
     "base_uri": "https://localhost:8080/",
     "height": 350
    },
    "id": "mvpNPbRO5k1o",
    "outputId": "eef9efee-bdc2-401c-c89b-35d50bf2c548"
   },
   "outputs": [
    {
     "data": {
      "image/png": "[encoded data removed]",
      "text/plain": [
       "<Figure size 1500x500 with 2 Axes>"
      ]
     },
     "metadata": {},
     "output_type": "display_data"
    }
   ],
   "source": [
    "f, ax = plt.subplots(1,2, figsize=(15, 5))\n",
    "\n",
    "df['position'].value_counts().plot.pie(autopct='%1.1f%%',\n",
    "                                         ax=ax[0],\n",
    "                                         shadow=True,\n",
    "                                         fontsize=15)\n",
    "ax[0].set_title('Position No.')\n",
    "\n",
    "sns.countplot('position', hue='prefer_foot', data=df, ax=ax[1]) \n",
    "ax[1].set_title('Number of prefered foot in diff. position')\n",
    "\n",
    "\n",
    "plt.show()"
   ]
  },
  {
   "cell_type": "markdown",
   "metadata": {
    "id": "LkdxyEltApTo"
   },
   "source": [
    "# 회귀분석"
   ]
  },
  {
   "cell_type": "markdown",
   "metadata": {
    "id": "BEkSUHQQ5k1p"
   },
   "source": [
    "먼저, data를 분리하기위한 train_test_split, data scaling을 위한 StandardScaler, 회귀분석을 위한 ols 등 회귀분석에 필요한 라이브러리를 호출합니다."
   ]
  },
  {
   "cell_type": "code",
   "execution_count": 80,
   "metadata": {
    "ExecuteTime": {
     "end_time": "2022-10-05T05:18:57.599418Z",
     "start_time": "2022-10-05T05:18:57.589446Z"
    },
    "id": "I2oQE4EY5k1p"
   },
   "outputs": [],
   "source": [
    "from sklearn.model_selection import train_test_split\n",
    "from sklearn.preprocessing import LabelEncoder, StandardScaler\n",
    "from statsmodels.regression import linear_model\n",
    "from sklearn.preprocessing import PolynomialFeatures\n",
    "from statsmodels.formula.api import ols\n",
    "import statsmodels.api as sm"
   ]
  },
  {
   "cell_type": "markdown",
   "metadata": {
    "id": "9tnMPJDg5k1p"
   },
   "source": [
    "## 회귀모델 학습을 위한 전처리"
   ]
  },
  {
   "cell_type": "code",
   "execution_count": 81,
   "metadata": {
    "ExecuteTime": {
     "end_time": "2022-10-05T05:18:57.615377Z",
     "start_time": "2022-10-05T05:18:57.605404Z"
    },
    "id": "kcS2d4TmM124"
   },
   "outputs": [],
   "source": [
    "# 선수의 이름은 value를 예측하는데 영향이 없음. 따라서 삭제\n",
    "\n",
    "df.drop(['name'], axis = 1, inplace = True)"
   ]
  },
  {
   "cell_type": "code",
   "execution_count": 82,
   "metadata": {
    "ExecuteTime": {
     "end_time": "2022-10-05T05:18:57.661255Z",
     "start_time": "2022-10-05T05:18:57.620364Z"
    },
    "colab": {
     "base_uri": "https://localhost:8080/"
    },
    "id": "4MNwgk72MxxO",
    "outputId": "f34937d0-92ae-47e9-afac-37069635045f"
   },
   "outputs": [
    {
     "name": "stdout",
     "output_type": "stream",
     "text": [
      "<class 'pandas.core.frame.DataFrame'>\n",
      "Int64Index: 8912 entries, 0 to 8931\n",
      "Data columns (total 10 columns):\n",
      " #   Column            Non-Null Count  Dtype  \n",
      "---  ------            --------------  -----  \n",
      " 0   age               8912 non-null   int64  \n",
      " 1   continent         8912 non-null   object \n",
      " 2   contract_until    8912 non-null   object \n",
      " 3   position          8912 non-null   object \n",
      " 4   prefer_foot       8912 non-null   object \n",
      " 5   reputation        8912 non-null   int64  \n",
      " 6   stat_overall      8912 non-null   float64\n",
      " 7   stat_potential    8912 non-null   float64\n",
      " 8   stat_skill_moves  8912 non-null   int64  \n",
      " 9   value             8912 non-null   int64  \n",
      "dtypes: float64(2), int64(4), object(4)\n",
      "memory usage: 765.9+ KB\n"
     ]
    }
   ],
   "source": [
    "# object 타입을 label encoding과 get_dummies를 통해 변환한다\n",
    "\n",
    "df.info()"
   ]
  },
  {
   "cell_type": "code",
   "execution_count": 83,
   "metadata": {
    "ExecuteTime": {
     "end_time": "2022-10-05T05:18:57.693167Z",
     "start_time": "2022-10-05T05:18:57.665244Z"
    },
    "colab": {
     "base_uri": "https://localhost:8080/",
     "height": 206
    },
    "id": "YU6q_XTMEOfs",
    "outputId": "ad436bfd-6554-42dd-8d5b-7321f25daf84"
   },
   "outputs": [
    {
     "data": {
      "text/html": [
       "<div>\n",
       "<style scoped>\n",
       "    .dataframe tbody tr th:only-of-type {\n",
       "        vertical-align: middle;\n",
       "    }\n",
       "\n",
       "    .dataframe tbody tr th {\n",
       "        vertical-align: top;\n",
       "    }\n",
       "\n",
       "    .dataframe thead th {\n",
       "        text-align: right;\n",
       "    }\n",
       "</style>\n",
       "<table border=\"1\" class=\"dataframe\">\n",
       "  <thead>\n",
       "    <tr style=\"text-align: right;\">\n",
       "      <th></th>\n",
       "      <th>age</th>\n",
       "      <th>continent</th>\n",
       "      <th>contract_until</th>\n",
       "      <th>position</th>\n",
       "      <th>prefer_foot</th>\n",
       "      <th>reputation</th>\n",
       "      <th>stat_overall</th>\n",
       "      <th>stat_potential</th>\n",
       "      <th>stat_skill_moves</th>\n",
       "      <th>value</th>\n",
       "    </tr>\n",
       "  </thead>\n",
       "  <tbody>\n",
       "    <tr>\n",
       "      <th>0</th>\n",
       "      <td>27</td>\n",
       "      <td>europe</td>\n",
       "      <td>2021</td>\n",
       "      <td>DF</td>\n",
       "      <td>right</td>\n",
       "      <td>1</td>\n",
       "      <td>63.0</td>\n",
       "      <td>63.0</td>\n",
       "      <td>3</td>\n",
       "      <td>300000</td>\n",
       "    </tr>\n",
       "    <tr>\n",
       "      <th>1</th>\n",
       "      <td>24</td>\n",
       "      <td>europe</td>\n",
       "      <td>2021</td>\n",
       "      <td>MF</td>\n",
       "      <td>right</td>\n",
       "      <td>1</td>\n",
       "      <td>74.0</td>\n",
       "      <td>77.0</td>\n",
       "      <td>3</td>\n",
       "      <td>7000000</td>\n",
       "    </tr>\n",
       "    <tr>\n",
       "      <th>2</th>\n",
       "      <td>32</td>\n",
       "      <td>europe</td>\n",
       "      <td>2020</td>\n",
       "      <td>GK</td>\n",
       "      <td>right</td>\n",
       "      <td>1</td>\n",
       "      <td>67.0</td>\n",
       "      <td>67.0</td>\n",
       "      <td>1</td>\n",
       "      <td>450000</td>\n",
       "    </tr>\n",
       "    <tr>\n",
       "      <th>3</th>\n",
       "      <td>23</td>\n",
       "      <td>asia</td>\n",
       "      <td>2020</td>\n",
       "      <td>DF</td>\n",
       "      <td>right</td>\n",
       "      <td>1</td>\n",
       "      <td>53.0</td>\n",
       "      <td>60.0</td>\n",
       "      <td>2</td>\n",
       "      <td>70000</td>\n",
       "    </tr>\n",
       "    <tr>\n",
       "      <th>4</th>\n",
       "      <td>29</td>\n",
       "      <td>europe</td>\n",
       "      <td>2019</td>\n",
       "      <td>ST</td>\n",
       "      <td>right</td>\n",
       "      <td>1</td>\n",
       "      <td>67.0</td>\n",
       "      <td>67.0</td>\n",
       "      <td>2</td>\n",
       "      <td>750000</td>\n",
       "    </tr>\n",
       "  </tbody>\n",
       "</table>\n",
       "</div>"
      ],
      "text/plain": [
       "   age continent contract_until position prefer_foot  reputation  \\\n",
       "0   27    europe           2021       DF       right           1   \n",
       "1   24    europe           2021       MF       right           1   \n",
       "2   32    europe           2020       GK       right           1   \n",
       "3   23      asia           2020       DF       right           1   \n",
       "4   29    europe           2019       ST       right           1   \n",
       "\n",
       "   stat_overall  stat_potential  stat_skill_moves    value  \n",
       "0          63.0            63.0                 3   300000  \n",
       "1          74.0            77.0                 3  7000000  \n",
       "2          67.0            67.0                 1   450000  \n",
       "3          53.0            60.0                 2    70000  \n",
       "4          67.0            67.0                 2   750000  "
      ]
     },
     "execution_count": 83,
     "metadata": {},
     "output_type": "execute_result"
    }
   ],
   "source": [
    "df.head()"
   ]
  },
  {
   "cell_type": "code",
   "execution_count": 84,
   "metadata": {
    "ExecuteTime": {
     "end_time": "2022-10-05T05:18:57.709125Z",
     "start_time": "2022-10-05T05:18:57.697157Z"
    },
    "id": "gmyy8rM6E7nt"
   },
   "outputs": [],
   "source": [
    "q1 = 375000      # 1분위수\n",
    "q3 = 2600000     # 3분위수\n",
    "\n",
    "# tukey fences를 이용해 이상치 제거\n",
    "df = df[(df['value'] > (q1-1.5*(q3-q1))) & (df['value'] < (q3+1.5*(q3-q1)))]\n",
    "df.reset_index(inplace = True)"
   ]
  },
  {
   "cell_type": "code",
   "execution_count": 85,
   "metadata": {
    "ExecuteTime": {
     "end_time": "2022-10-05T05:18:57.741039Z",
     "start_time": "2022-10-05T05:18:57.713117Z"
    },
    "id": "gJmGKgcOFtdH"
   },
   "outputs": [],
   "source": [
    "# position과 prefer_foot을 get_dummies를 통해 변환한다\n",
    "\n",
    "df1 = pd.get_dummies(df, \n",
    "                     columns = ['position', 'prefer_foot'],\n",
    "                     drop_first = False)"
   ]
  },
  {
   "cell_type": "code",
   "execution_count": 86,
   "metadata": {
    "ExecuteTime": {
     "end_time": "2022-10-05T05:18:57.756996Z",
     "start_time": "2022-10-05T05:18:57.744032Z"
    },
    "id": "RFi-40Ry8Tx5"
   },
   "outputs": [],
   "source": [
    "# 종속변수와 독립변수를 지정한다\n",
    "\n",
    "df1_y = df1['value']\n",
    "df1_x = df1.drop(['index','continent','value', 'contract_until'], axis = 1)"
   ]
  },
  {
   "cell_type": "code",
   "execution_count": 87,
   "metadata": {
    "ExecuteTime": {
     "end_time": "2022-10-05T05:18:57.788913Z",
     "start_time": "2022-10-05T05:18:57.759991Z"
    },
    "colab": {
     "base_uri": "https://localhost:8080/",
     "height": 363
    },
    "id": "joujAFkN2fX6",
    "outputId": "b04106ff-35f3-435e-ea32-7bd4c703e3a9"
   },
   "outputs": [
    {
     "data": {
      "text/html": [
       "<div>\n",
       "<style scoped>\n",
       "    .dataframe tbody tr th:only-of-type {\n",
       "        vertical-align: middle;\n",
       "    }\n",
       "\n",
       "    .dataframe tbody tr th {\n",
       "        vertical-align: top;\n",
       "    }\n",
       "\n",
       "    .dataframe thead th {\n",
       "        text-align: right;\n",
       "    }\n",
       "</style>\n",
       "<table border=\"1\" class=\"dataframe\">\n",
       "  <thead>\n",
       "    <tr style=\"text-align: right;\">\n",
       "      <th></th>\n",
       "      <th>age</th>\n",
       "      <th>reputation</th>\n",
       "      <th>stat_overall</th>\n",
       "      <th>stat_potential</th>\n",
       "      <th>stat_skill_moves</th>\n",
       "      <th>position_DF</th>\n",
       "      <th>position_GK</th>\n",
       "      <th>position_MF</th>\n",
       "      <th>position_ST</th>\n",
       "      <th>prefer_foot_left</th>\n",
       "      <th>prefer_foot_right</th>\n",
       "    </tr>\n",
       "  </thead>\n",
       "  <tbody>\n",
       "    <tr>\n",
       "      <th>0</th>\n",
       "      <td>27</td>\n",
       "      <td>1</td>\n",
       "      <td>63.0</td>\n",
       "      <td>63.0</td>\n",
       "      <td>3</td>\n",
       "      <td>1</td>\n",
       "      <td>0</td>\n",
       "      <td>0</td>\n",
       "      <td>0</td>\n",
       "      <td>0</td>\n",
       "      <td>1</td>\n",
       "    </tr>\n",
       "    <tr>\n",
       "      <th>1</th>\n",
       "      <td>32</td>\n",
       "      <td>1</td>\n",
       "      <td>67.0</td>\n",
       "      <td>67.0</td>\n",
       "      <td>1</td>\n",
       "      <td>0</td>\n",
       "      <td>1</td>\n",
       "      <td>0</td>\n",
       "      <td>0</td>\n",
       "      <td>0</td>\n",
       "      <td>1</td>\n",
       "    </tr>\n",
       "    <tr>\n",
       "      <th>2</th>\n",
       "      <td>23</td>\n",
       "      <td>1</td>\n",
       "      <td>53.0</td>\n",
       "      <td>60.0</td>\n",
       "      <td>2</td>\n",
       "      <td>1</td>\n",
       "      <td>0</td>\n",
       "      <td>0</td>\n",
       "      <td>0</td>\n",
       "      <td>0</td>\n",
       "      <td>1</td>\n",
       "    </tr>\n",
       "    <tr>\n",
       "      <th>3</th>\n",
       "      <td>29</td>\n",
       "      <td>1</td>\n",
       "      <td>67.0</td>\n",
       "      <td>67.0</td>\n",
       "      <td>2</td>\n",
       "      <td>0</td>\n",
       "      <td>0</td>\n",
       "      <td>0</td>\n",
       "      <td>1</td>\n",
       "      <td>0</td>\n",
       "      <td>1</td>\n",
       "    </tr>\n",
       "    <tr>\n",
       "      <th>4</th>\n",
       "      <td>23</td>\n",
       "      <td>1</td>\n",
       "      <td>58.0</td>\n",
       "      <td>64.0</td>\n",
       "      <td>3</td>\n",
       "      <td>0</td>\n",
       "      <td>0</td>\n",
       "      <td>1</td>\n",
       "      <td>0</td>\n",
       "      <td>0</td>\n",
       "      <td>1</td>\n",
       "    </tr>\n",
       "    <tr>\n",
       "      <th>5</th>\n",
       "      <td>25</td>\n",
       "      <td>1</td>\n",
       "      <td>54.0</td>\n",
       "      <td>57.0</td>\n",
       "      <td>2</td>\n",
       "      <td>1</td>\n",
       "      <td>0</td>\n",
       "      <td>0</td>\n",
       "      <td>0</td>\n",
       "      <td>0</td>\n",
       "      <td>1</td>\n",
       "    </tr>\n",
       "    <tr>\n",
       "      <th>6</th>\n",
       "      <td>27</td>\n",
       "      <td>1</td>\n",
       "      <td>66.0</td>\n",
       "      <td>66.0</td>\n",
       "      <td>3</td>\n",
       "      <td>0</td>\n",
       "      <td>0</td>\n",
       "      <td>1</td>\n",
       "      <td>0</td>\n",
       "      <td>0</td>\n",
       "      <td>1</td>\n",
       "    </tr>\n",
       "    <tr>\n",
       "      <th>7</th>\n",
       "      <td>21</td>\n",
       "      <td>1</td>\n",
       "      <td>62.0</td>\n",
       "      <td>68.0</td>\n",
       "      <td>3</td>\n",
       "      <td>1</td>\n",
       "      <td>0</td>\n",
       "      <td>0</td>\n",
       "      <td>0</td>\n",
       "      <td>0</td>\n",
       "      <td>1</td>\n",
       "    </tr>\n",
       "    <tr>\n",
       "      <th>8</th>\n",
       "      <td>24</td>\n",
       "      <td>1</td>\n",
       "      <td>73.0</td>\n",
       "      <td>78.0</td>\n",
       "      <td>1</td>\n",
       "      <td>0</td>\n",
       "      <td>1</td>\n",
       "      <td>0</td>\n",
       "      <td>0</td>\n",
       "      <td>0</td>\n",
       "      <td>1</td>\n",
       "    </tr>\n",
       "    <tr>\n",
       "      <th>9</th>\n",
       "      <td>25</td>\n",
       "      <td>1</td>\n",
       "      <td>73.0</td>\n",
       "      <td>77.0</td>\n",
       "      <td>3</td>\n",
       "      <td>0</td>\n",
       "      <td>0</td>\n",
       "      <td>0</td>\n",
       "      <td>1</td>\n",
       "      <td>0</td>\n",
       "      <td>1</td>\n",
       "    </tr>\n",
       "  </tbody>\n",
       "</table>\n",
       "</div>"
      ],
      "text/plain": [
       "   age  reputation  stat_overall  stat_potential  stat_skill_moves  \\\n",
       "0   27           1          63.0            63.0                 3   \n",
       "1   32           1          67.0            67.0                 1   \n",
       "2   23           1          53.0            60.0                 2   \n",
       "3   29           1          67.0            67.0                 2   \n",
       "4   23           1          58.0            64.0                 3   \n",
       "5   25           1          54.0            57.0                 2   \n",
       "6   27           1          66.0            66.0                 3   \n",
       "7   21           1          62.0            68.0                 3   \n",
       "8   24           1          73.0            78.0                 1   \n",
       "9   25           1          73.0            77.0                 3   \n",
       "\n",
       "   position_DF  position_GK  position_MF  position_ST  prefer_foot_left  \\\n",
       "0            1            0            0            0                 0   \n",
       "1            0            1            0            0                 0   \n",
       "2            1            0            0            0                 0   \n",
       "3            0            0            0            1                 0   \n",
       "4            0            0            1            0                 0   \n",
       "5            1            0            0            0                 0   \n",
       "6            0            0            1            0                 0   \n",
       "7            1            0            0            0                 0   \n",
       "8            0            1            0            0                 0   \n",
       "9            0            0            0            1                 0   \n",
       "\n",
       "   prefer_foot_right  \n",
       "0                  1  \n",
       "1                  1  \n",
       "2                  1  \n",
       "3                  1  \n",
       "4                  1  \n",
       "5                  1  \n",
       "6                  1  \n",
       "7                  1  \n",
       "8                  1  \n",
       "9                  1  "
      ]
     },
     "execution_count": 87,
     "metadata": {},
     "output_type": "execute_result"
    }
   ],
   "source": [
    "df1_x.head(10)"
   ]
  },
  {
   "cell_type": "markdown",
   "metadata": {
    "id": "NhZZbXXDvoDs"
   },
   "source": [
    "# 선형회귀"
   ]
  },
  {
   "cell_type": "markdown",
   "metadata": {
    "id": "dHJYXVz3myjH"
   },
   "source": [
    "## 다중회귀분석"
   ]
  },
  {
   "cell_type": "code",
   "execution_count": 88,
   "metadata": {
    "ExecuteTime": {
     "end_time": "2022-10-05T05:18:57.866704Z",
     "start_time": "2022-10-05T05:18:57.792902Z"
    },
    "colab": {
     "base_uri": "https://localhost:8080/",
     "height": 679
    },
    "id": "CbvWt-VbO9aW",
    "outputId": "5677c4bf-08ff-4de4-f779-c9d22c6e6f6b"
   },
   "outputs": [
    {
     "data": {
      "text/html": [
       "<table class=\"simpletable\">\n",
       "<caption>OLS Regression Results</caption>\n",
       "<tr>\n",
       "  <th>Dep. Variable:</th>          <td>value</td>      <th>  R-squared:         </th>  <td>   0.629</td>  \n",
       "</tr>\n",
       "<tr>\n",
       "  <th>Model:</th>                   <td>OLS</td>       <th>  Adj. R-squared:    </th>  <td>   0.629</td>  \n",
       "</tr>\n",
       "<tr>\n",
       "  <th>Method:</th>             <td>Least Squares</td>  <th>  F-statistic:       </th>  <td>   1456.</td>  \n",
       "</tr>\n",
       "<tr>\n",
       "  <th>Date:</th>             <td>Wed, 05 Oct 2022</td> <th>  Prob (F-statistic):</th>   <td>  0.00</td>   \n",
       "</tr>\n",
       "<tr>\n",
       "  <th>Time:</th>                 <td>14:18:57</td>     <th>  Log-Likelihood:    </th> <td>-1.1575e+05</td>\n",
       "</tr>\n",
       "<tr>\n",
       "  <th>No. Observations:</th>      <td>  7735</td>      <th>  AIC:               </th>  <td>2.315e+05</td> \n",
       "</tr>\n",
       "<tr>\n",
       "  <th>Df Residuals:</th>          <td>  7725</td>      <th>  BIC:               </th>  <td>2.316e+05</td> \n",
       "</tr>\n",
       "<tr>\n",
       "  <th>Df Model:</th>              <td>     9</td>      <th>                     </th>      <td> </td>     \n",
       "</tr>\n",
       "<tr>\n",
       "  <th>Covariance Type:</th>      <td>nonrobust</td>    <th>                     </th>      <td> </td>     \n",
       "</tr>\n",
       "</table>\n",
       "<table class=\"simpletable\">\n",
       "<tr>\n",
       "          <td></td>             <th>coef</th>     <th>std err</th>      <th>t</th>      <th>P>|t|</th>  <th>[0.025</th>    <th>0.975]</th>  \n",
       "</tr>\n",
       "<tr>\n",
       "  <th>age</th>               <td>-7.797e+04</td> <td> 2823.931</td> <td>  -27.609</td> <td> 0.000</td> <td>-8.35e+04</td> <td>-7.24e+04</td>\n",
       "</tr>\n",
       "<tr>\n",
       "  <th>reputation</th>        <td> 5.616e+05</td> <td> 4.02e+04</td> <td>   13.972</td> <td> 0.000</td> <td> 4.83e+05</td> <td>  6.4e+05</td>\n",
       "</tr>\n",
       "<tr>\n",
       "  <th>stat_overall</th>      <td> 1.845e+05</td> <td> 2849.497</td> <td>   64.751</td> <td> 0.000</td> <td> 1.79e+05</td> <td>  1.9e+05</td>\n",
       "</tr>\n",
       "<tr>\n",
       "  <th>stat_potential</th>    <td> 8277.7422</td> <td> 2365.953</td> <td>    3.499</td> <td> 0.000</td> <td> 3639.833</td> <td> 1.29e+04</td>\n",
       "</tr>\n",
       "<tr>\n",
       "  <th>stat_skill_moves</th>  <td> 1.305e+05</td> <td> 1.98e+04</td> <td>    6.591</td> <td> 0.000</td> <td> 9.17e+04</td> <td> 1.69e+05</td>\n",
       "</tr>\n",
       "<tr>\n",
       "  <th>position_DF</th>       <td>-3.578e+06</td> <td> 4.48e+04</td> <td>  -79.906</td> <td> 0.000</td> <td>-3.67e+06</td> <td>-3.49e+06</td>\n",
       "</tr>\n",
       "<tr>\n",
       "  <th>position_GK</th>       <td>-3.345e+06</td> <td> 5.13e+04</td> <td>  -65.189</td> <td> 0.000</td> <td>-3.45e+06</td> <td>-3.24e+06</td>\n",
       "</tr>\n",
       "<tr>\n",
       "  <th>position_MF</th>       <td>-3.515e+06</td> <td>  4.5e+04</td> <td>  -78.102</td> <td> 0.000</td> <td> -3.6e+06</td> <td>-3.43e+06</td>\n",
       "</tr>\n",
       "<tr>\n",
       "  <th>position_ST</th>       <td>-3.458e+06</td> <td> 4.67e+04</td> <td>  -74.059</td> <td> 0.000</td> <td>-3.55e+06</td> <td>-3.37e+06</td>\n",
       "</tr>\n",
       "<tr>\n",
       "  <th>prefer_foot_left</th>  <td>-6.971e+06</td> <td> 8.55e+04</td> <td>  -81.553</td> <td> 0.000</td> <td>-7.14e+06</td> <td> -6.8e+06</td>\n",
       "</tr>\n",
       "<tr>\n",
       "  <th>prefer_foot_right</th> <td>-6.926e+06</td> <td>  8.4e+04</td> <td>  -82.408</td> <td> 0.000</td> <td>-7.09e+06</td> <td>-6.76e+06</td>\n",
       "</tr>\n",
       "</table>\n",
       "<table class=\"simpletable\">\n",
       "<tr>\n",
       "  <th>Omnibus:</th>       <td>1659.957</td> <th>  Durbin-Watson:     </th> <td>   2.016</td>\n",
       "</tr>\n",
       "<tr>\n",
       "  <th>Prob(Omnibus):</th>  <td> 0.000</td>  <th>  Jarque-Bera (JB):  </th> <td>3871.222</td>\n",
       "</tr>\n",
       "<tr>\n",
       "  <th>Skew:</th>           <td> 1.206</td>  <th>  Prob(JB):          </th> <td>    0.00</td>\n",
       "</tr>\n",
       "<tr>\n",
       "  <th>Kurtosis:</th>       <td> 5.490</td>  <th>  Cond. No.          </th> <td>9.34e+17</td>\n",
       "</tr>\n",
       "</table><br/><br/>Notes:<br/>[1] Standard Errors assume that the covariance matrix of the errors is correctly specified.<br/>[2] The smallest eigenvalue is 8.71e-29. This might indicate that there are<br/>strong multicollinearity problems or that the design matrix is singular."
      ],
      "text/plain": [
       "<class 'statsmodels.iolib.summary.Summary'>\n",
       "\"\"\"\n",
       "                            OLS Regression Results                            \n",
       "==============================================================================\n",
       "Dep. Variable:                  value   R-squared:                       0.629\n",
       "Model:                            OLS   Adj. R-squared:                  0.629\n",
       "Method:                 Least Squares   F-statistic:                     1456.\n",
       "Date:                Wed, 05 Oct 2022   Prob (F-statistic):               0.00\n",
       "Time:                        14:18:57   Log-Likelihood:            -1.1575e+05\n",
       "No. Observations:                7735   AIC:                         2.315e+05\n",
       "Df Residuals:                    7725   BIC:                         2.316e+05\n",
       "Df Model:                           9                                         \n",
       "Covariance Type:            nonrobust                                         \n",
       "=====================================================================================\n",
       "                        coef    std err          t      P>|t|      [0.025      0.975]\n",
       "-------------------------------------------------------------------------------------\n",
       "age               -7.797e+04   2823.931    -27.609      0.000   -8.35e+04   -7.24e+04\n",
       "reputation         5.616e+05   4.02e+04     13.972      0.000    4.83e+05     6.4e+05\n",
       "stat_overall       1.845e+05   2849.497     64.751      0.000    1.79e+05     1.9e+05\n",
       "stat_potential     8277.7422   2365.953      3.499      0.000    3639.833    1.29e+04\n",
       "stat_skill_moves   1.305e+05   1.98e+04      6.591      0.000    9.17e+04    1.69e+05\n",
       "position_DF       -3.578e+06   4.48e+04    -79.906      0.000   -3.67e+06   -3.49e+06\n",
       "position_GK       -3.345e+06   5.13e+04    -65.189      0.000   -3.45e+06   -3.24e+06\n",
       "position_MF       -3.515e+06    4.5e+04    -78.102      0.000    -3.6e+06   -3.43e+06\n",
       "position_ST       -3.458e+06   4.67e+04    -74.059      0.000   -3.55e+06   -3.37e+06\n",
       "prefer_foot_left  -6.971e+06   8.55e+04    -81.553      0.000   -7.14e+06    -6.8e+06\n",
       "prefer_foot_right -6.926e+06    8.4e+04    -82.408      0.000   -7.09e+06   -6.76e+06\n",
       "==============================================================================\n",
       "Omnibus:                     1659.957   Durbin-Watson:                   2.016\n",
       "Prob(Omnibus):                  0.000   Jarque-Bera (JB):             3871.222\n",
       "Skew:                           1.206   Prob(JB):                         0.00\n",
       "Kurtosis:                       5.490   Cond. No.                     9.34e+17\n",
       "==============================================================================\n",
       "\n",
       "Notes:\n",
       "[1] Standard Errors assume that the covariance matrix of the errors is correctly specified.\n",
       "[2] The smallest eigenvalue is 8.71e-29. This might indicate that there are\n",
       "strong multicollinearity problems or that the design matrix is singular.\n",
       "\"\"\""
      ]
     },
     "execution_count": 88,
     "metadata": {},
     "output_type": "execute_result"
    }
   ],
   "source": [
    "from statsmodels.regression import linear_model\n",
    "\n",
    "model = linear_model.OLS(df1_y, df1_x).fit()\n",
    "model.summary()"
   ]
  },
  {
   "cell_type": "markdown",
   "metadata": {
    "id": "yvFX0vLylA77"
   },
   "source": [
    "- R square 값이 0.63\n",
    "- 변수선택법을 이용한 뒤, R_square 값을 다시 확인해보자!!"
   ]
  },
  {
   "cell_type": "markdown",
   "metadata": {
    "id": "yVq0lA7hq-kL"
   },
   "source": [
    "## 변수 선택법"
   ]
  },
  {
   "cell_type": "code",
   "execution_count": 89,
   "metadata": {
    "ExecuteTime": {
     "end_time": "2022-10-05T05:18:57.912581Z",
     "start_time": "2022-10-05T05:18:57.870693Z"
    },
    "id": "wiyTMc54rCN_"
   },
   "outputs": [],
   "source": [
    "import statsmodels.api as sm\n",
    "\n",
    "variables = df1_x.columns.tolist() ## 설명 변수 리스트 / 반응변수는 df1_y\n",
    "\n",
    "backward_selected = variables ## 초기에는 모든 변수가 선택된 상태\n",
    "sl_remove = 0.05\n",
    "sv_per_step = [] ## 각 스텝별로 선택된 변수들\n",
    "adjusted_r_squared = [] ## 각 스텝별 수정된 결정계수\n",
    "steps = [] ## 스텝\n",
    "step = 0\n",
    "while len(backward_selected) > 0:\n",
    "    X = sm.add_constant(df1[backward_selected])\n",
    "    p_vals = sm.OLS(df1_y, X).fit().pvalues[1:] ## 절편항의 p-value는 뺀다\n",
    "    max_pval = p_vals.max() ## 최대 p-value\n",
    "    if max_pval >= sl_remove: ## 최대 p-value값이 기준값보다 크거나 같으면 제외\n",
    "        remove_variable = p_vals.idxmax()\n",
    "        backward_selected.remove(remove_variable)\n",
    "        step += 1\n",
    "        steps.append(step)\n",
    "        adj_r_squared = sm.OLS(y,sm.add_constant(df1[backward_selected])).fit().rsquared_adj\n",
    "        adjusted_r_squared.append(adj_r_squared)\n",
    "        sv_per_step.append(backward_selected.copy())\n",
    "    else:\n",
    "        break"
   ]
  },
  {
   "cell_type": "code",
   "execution_count": 90,
   "metadata": {
    "ExecuteTime": {
     "end_time": "2022-10-05T05:18:57.992368Z",
     "start_time": "2022-10-05T05:18:57.916570Z"
    },
    "colab": {
     "base_uri": "https://localhost:8080/",
     "height": 679
    },
    "id": "2VzNGQu1rCLf",
    "outputId": "8217219e-cba9-47e1-8b53-77ca11229664"
   },
   "outputs": [
    {
     "data": {
      "text/html": [
       "<table class=\"simpletable\">\n",
       "<caption>OLS Regression Results</caption>\n",
       "<tr>\n",
       "  <th>Dep. Variable:</th>          <td>value</td>      <th>  R-squared:         </th>  <td>   0.629</td>  \n",
       "</tr>\n",
       "<tr>\n",
       "  <th>Model:</th>                   <td>OLS</td>       <th>  Adj. R-squared:    </th>  <td>   0.629</td>  \n",
       "</tr>\n",
       "<tr>\n",
       "  <th>Method:</th>             <td>Least Squares</td>  <th>  F-statistic:       </th>  <td>   1456.</td>  \n",
       "</tr>\n",
       "<tr>\n",
       "  <th>Date:</th>             <td>Wed, 05 Oct 2022</td> <th>  Prob (F-statistic):</th>   <td>  0.00</td>   \n",
       "</tr>\n",
       "<tr>\n",
       "  <th>Time:</th>                 <td>14:18:57</td>     <th>  Log-Likelihood:    </th> <td>-1.1575e+05</td>\n",
       "</tr>\n",
       "<tr>\n",
       "  <th>No. Observations:</th>      <td>  7735</td>      <th>  AIC:               </th>  <td>2.315e+05</td> \n",
       "</tr>\n",
       "<tr>\n",
       "  <th>Df Residuals:</th>          <td>  7725</td>      <th>  BIC:               </th>  <td>2.316e+05</td> \n",
       "</tr>\n",
       "<tr>\n",
       "  <th>Df Model:</th>              <td>     9</td>      <th>                     </th>      <td> </td>     \n",
       "</tr>\n",
       "<tr>\n",
       "  <th>Covariance Type:</th>      <td>nonrobust</td>    <th>                     </th>      <td> </td>     \n",
       "</tr>\n",
       "</table>\n",
       "<table class=\"simpletable\">\n",
       "<tr>\n",
       "          <td></td>             <th>coef</th>     <th>std err</th>      <th>t</th>      <th>P>|t|</th>  <th>[0.025</th>    <th>0.975]</th>  \n",
       "</tr>\n",
       "<tr>\n",
       "  <th>age</th>               <td>-7.797e+04</td> <td> 2823.931</td> <td>  -27.609</td> <td> 0.000</td> <td>-8.35e+04</td> <td>-7.24e+04</td>\n",
       "</tr>\n",
       "<tr>\n",
       "  <th>reputation</th>        <td> 5.616e+05</td> <td> 4.02e+04</td> <td>   13.972</td> <td> 0.000</td> <td> 4.83e+05</td> <td>  6.4e+05</td>\n",
       "</tr>\n",
       "<tr>\n",
       "  <th>stat_overall</th>      <td> 1.845e+05</td> <td> 2849.497</td> <td>   64.751</td> <td> 0.000</td> <td> 1.79e+05</td> <td>  1.9e+05</td>\n",
       "</tr>\n",
       "<tr>\n",
       "  <th>stat_potential</th>    <td> 8277.7422</td> <td> 2365.953</td> <td>    3.499</td> <td> 0.000</td> <td> 3639.833</td> <td> 1.29e+04</td>\n",
       "</tr>\n",
       "<tr>\n",
       "  <th>stat_skill_moves</th>  <td> 1.305e+05</td> <td> 1.98e+04</td> <td>    6.591</td> <td> 0.000</td> <td> 9.17e+04</td> <td> 1.69e+05</td>\n",
       "</tr>\n",
       "<tr>\n",
       "  <th>position_DF</th>       <td>-3.578e+06</td> <td> 4.48e+04</td> <td>  -79.906</td> <td> 0.000</td> <td>-3.67e+06</td> <td>-3.49e+06</td>\n",
       "</tr>\n",
       "<tr>\n",
       "  <th>position_GK</th>       <td>-3.345e+06</td> <td> 5.13e+04</td> <td>  -65.189</td> <td> 0.000</td> <td>-3.45e+06</td> <td>-3.24e+06</td>\n",
       "</tr>\n",
       "<tr>\n",
       "  <th>position_MF</th>       <td>-3.515e+06</td> <td>  4.5e+04</td> <td>  -78.102</td> <td> 0.000</td> <td> -3.6e+06</td> <td>-3.43e+06</td>\n",
       "</tr>\n",
       "<tr>\n",
       "  <th>position_ST</th>       <td>-3.458e+06</td> <td> 4.67e+04</td> <td>  -74.059</td> <td> 0.000</td> <td>-3.55e+06</td> <td>-3.37e+06</td>\n",
       "</tr>\n",
       "<tr>\n",
       "  <th>prefer_foot_left</th>  <td>-6.971e+06</td> <td> 8.55e+04</td> <td>  -81.553</td> <td> 0.000</td> <td>-7.14e+06</td> <td> -6.8e+06</td>\n",
       "</tr>\n",
       "<tr>\n",
       "  <th>prefer_foot_right</th> <td>-6.926e+06</td> <td>  8.4e+04</td> <td>  -82.408</td> <td> 0.000</td> <td>-7.09e+06</td> <td>-6.76e+06</td>\n",
       "</tr>\n",
       "</table>\n",
       "<table class=\"simpletable\">\n",
       "<tr>\n",
       "  <th>Omnibus:</th>       <td>1659.957</td> <th>  Durbin-Watson:     </th> <td>   2.016</td>\n",
       "</tr>\n",
       "<tr>\n",
       "  <th>Prob(Omnibus):</th>  <td> 0.000</td>  <th>  Jarque-Bera (JB):  </th> <td>3871.222</td>\n",
       "</tr>\n",
       "<tr>\n",
       "  <th>Skew:</th>           <td> 1.206</td>  <th>  Prob(JB):          </th> <td>    0.00</td>\n",
       "</tr>\n",
       "<tr>\n",
       "  <th>Kurtosis:</th>       <td> 5.490</td>  <th>  Cond. No.          </th> <td>9.34e+17</td>\n",
       "</tr>\n",
       "</table><br/><br/>Notes:<br/>[1] Standard Errors assume that the covariance matrix of the errors is correctly specified.<br/>[2] The smallest eigenvalue is 8.71e-29. This might indicate that there are<br/>strong multicollinearity problems or that the design matrix is singular."
      ],
      "text/plain": [
       "<class 'statsmodels.iolib.summary.Summary'>\n",
       "\"\"\"\n",
       "                            OLS Regression Results                            \n",
       "==============================================================================\n",
       "Dep. Variable:                  value   R-squared:                       0.629\n",
       "Model:                            OLS   Adj. R-squared:                  0.629\n",
       "Method:                 Least Squares   F-statistic:                     1456.\n",
       "Date:                Wed, 05 Oct 2022   Prob (F-statistic):               0.00\n",
       "Time:                        14:18:57   Log-Likelihood:            -1.1575e+05\n",
       "No. Observations:                7735   AIC:                         2.315e+05\n",
       "Df Residuals:                    7725   BIC:                         2.316e+05\n",
       "Df Model:                           9                                         \n",
       "Covariance Type:            nonrobust                                         \n",
       "=====================================================================================\n",
       "                        coef    std err          t      P>|t|      [0.025      0.975]\n",
       "-------------------------------------------------------------------------------------\n",
       "age               -7.797e+04   2823.931    -27.609      0.000   -8.35e+04   -7.24e+04\n",
       "reputation         5.616e+05   4.02e+04     13.972      0.000    4.83e+05     6.4e+05\n",
       "stat_overall       1.845e+05   2849.497     64.751      0.000    1.79e+05     1.9e+05\n",
       "stat_potential     8277.7422   2365.953      3.499      0.000    3639.833    1.29e+04\n",
       "stat_skill_moves   1.305e+05   1.98e+04      6.591      0.000    9.17e+04    1.69e+05\n",
       "position_DF       -3.578e+06   4.48e+04    -79.906      0.000   -3.67e+06   -3.49e+06\n",
       "position_GK       -3.345e+06   5.13e+04    -65.189      0.000   -3.45e+06   -3.24e+06\n",
       "position_MF       -3.515e+06    4.5e+04    -78.102      0.000    -3.6e+06   -3.43e+06\n",
       "position_ST       -3.458e+06   4.67e+04    -74.059      0.000   -3.55e+06   -3.37e+06\n",
       "prefer_foot_left  -6.971e+06   8.55e+04    -81.553      0.000   -7.14e+06    -6.8e+06\n",
       "prefer_foot_right -6.926e+06    8.4e+04    -82.408      0.000   -7.09e+06   -6.76e+06\n",
       "==============================================================================\n",
       "Omnibus:                     1659.957   Durbin-Watson:                   2.016\n",
       "Prob(Omnibus):                  0.000   Jarque-Bera (JB):             3871.222\n",
       "Skew:                           1.206   Prob(JB):                         0.00\n",
       "Kurtosis:                       5.490   Cond. No.                     9.34e+17\n",
       "==============================================================================\n",
       "\n",
       "Notes:\n",
       "[1] Standard Errors assume that the covariance matrix of the errors is correctly specified.\n",
       "[2] The smallest eigenvalue is 8.71e-29. This might indicate that there are\n",
       "strong multicollinearity problems or that the design matrix is singular.\n",
       "\"\"\""
      ]
     },
     "execution_count": 90,
     "metadata": {},
     "output_type": "execute_result"
    }
   ],
   "source": [
    "model = linear_model.OLS(df1_y, df1[backward_selected]).fit()\n",
    "model.summary()"
   ]
  },
  {
   "cell_type": "markdown",
   "metadata": {
    "id": "2OBTJZVLuft3"
   },
   "source": [
    "- 결과값이 차이가 없다...\n",
    "- 기본 OLS로 진행한다"
   ]
  },
  {
   "cell_type": "markdown",
   "metadata": {
    "id": "RG8XKLxCvYGI"
   },
   "source": [
    "# 로지스틱 회귀 / 소프트맥스"
   ]
  },
  {
   "cell_type": "code",
   "execution_count": 91,
   "metadata": {
    "ExecuteTime": {
     "end_time": "2022-10-05T05:18:58.008326Z",
     "start_time": "2022-10-05T05:18:57.996357Z"
    },
    "colab": {
     "base_uri": "https://localhost:8080/"
    },
    "id": "lulP6PBEv473",
    "outputId": "f5d98d39-093b-4153-cbd1-bce53b1920d7"
   },
   "outputs": [
    {
     "data": {
      "text/plain": [
       "8932"
      ]
     },
     "execution_count": 91,
     "metadata": {},
     "output_type": "execute_result"
    }
   ],
   "source": [
    "lr_df = data.copy()\n",
    "len(lr_df)"
   ]
  },
  {
   "cell_type": "code",
   "execution_count": 92,
   "metadata": {
    "ExecuteTime": {
     "end_time": "2022-10-05T05:18:58.024285Z",
     "start_time": "2022-10-05T05:18:58.012315Z"
    },
    "id": "_IeM9-bF5k1u"
   },
   "outputs": [],
   "source": [
    "lr_df_y = df1['value']\n",
    "lr_df_x = df1.drop(['index','continent', 'value', 'contract_until'], axis = 1)"
   ]
  },
  {
   "cell_type": "code",
   "execution_count": 93,
   "metadata": {
    "ExecuteTime": {
     "end_time": "2022-10-05T05:18:58.040241Z",
     "start_time": "2022-10-05T05:18:58.028271Z"
    },
    "id": "QjeKQgZm5k1u"
   },
   "outputs": [],
   "source": [
    "# 종속변수를 연속형 변수에서 범주형 변수로 변환\n",
    "\n",
    "bins_label = ['value0','value1','value2','value3','value4','value5','value6']\n",
    "lr_df_y = pd.cut(lr_df_y, 7, right=False, labels=bins_label)"
   ]
  },
  {
   "cell_type": "code",
   "execution_count": 94,
   "metadata": {
    "ExecuteTime": {
     "end_time": "2022-10-05T05:18:58.072157Z",
     "start_time": "2022-10-05T05:18:58.045227Z"
    },
    "colab": {
     "base_uri": "https://localhost:8080/"
    },
    "id": "uXH0uKVN5k1u",
    "outputId": "084bd734-5477-45aa-ed28-98e78a95e7a7"
   },
   "outputs": [
    {
     "data": {
      "text/plain": [
       "value0    4349\n",
       "value1    1630\n",
       "value2     524\n",
       "value3     441\n",
       "value4     329\n",
       "value5     238\n",
       "value6     224\n",
       "Name: value, dtype: int64"
      ]
     },
     "execution_count": 94,
     "metadata": {},
     "output_type": "execute_result"
    }
   ],
   "source": [
    "# 종속변수 값 분포 확인\n",
    "\n",
    "lr_df_y.value_counts()"
   ]
  },
  {
   "cell_type": "code",
   "execution_count": 95,
   "metadata": {
    "ExecuteTime": {
     "end_time": "2022-10-05T05:19:01.125989Z",
     "start_time": "2022-10-05T05:18:58.102076Z"
    },
    "colab": {
     "base_uri": "https://localhost:8080/"
    },
    "id": "XUmOKi6A5k1v",
    "outputId": "e3a7fcea-6068-4f32-d891-1303e622bb4b"
   },
   "outputs": [
    {
     "name": "stdout",
     "output_type": "stream",
     "text": [
      "0.709\n",
      "0.718\n"
     ]
    }
   ],
   "source": [
    "from sklearn.metrics import accuracy_score, roc_auc_score\n",
    "from sklearn.linear_model import LogisticRegression\n",
    "from sklearn.model_selection import train_test_split\n",
    "import time\n",
    "\n",
    "train_X, test_X, train_y, test_y = train_test_split(lr_df_x, lr_df_y, random_state=42)\n",
    "\n",
    "start = time.time()\n",
    "\n",
    "lr_clf = LogisticRegression(C=20, max_iter=1000)\n",
    "lr_clf.fit(train_X, train_y)\n",
    "lr_preds = lr_clf.predict(test_X)\n",
    "\n",
    "end = time.time()\n",
    "\n",
    "print(lr_clf.score(train_X, train_y).round(3))\n",
    "print(lr_clf.score(test_X, test_y).round(3))\n",
    "no_pca_time = end-start\n",
    "# 0.709\n",
    "# 0.717"
   ]
  },
  {
   "cell_type": "markdown",
   "metadata": {
    "id": "tJ_OVjRR5k1v"
   },
   "source": [
    "**과제 7: statsmodels 모듈을 이용해서 선형다중회귀분석을 시행하고, 결과를 해석해보세요!**"
   ]
  },
  {
   "cell_type": "code",
   "execution_count": 96,
   "metadata": {
    "ExecuteTime": {
     "end_time": "2022-10-05T05:19:01.187826Z",
     "start_time": "2022-10-05T05:19:01.128982Z"
    },
    "colab": {
     "base_uri": "https://localhost:8080/",
     "height": 679
    },
    "id": "3uKGgKDm5k1v",
    "outputId": "0f799511-a8e4-4d80-cdfd-0f2a75ea6d5b"
   },
   "outputs": [
    {
     "data": {
      "text/html": [
       "<table class=\"simpletable\">\n",
       "<caption>OLS Regression Results</caption>\n",
       "<tr>\n",
       "  <th>Dep. Variable:</th>          <td>value</td>      <th>  R-squared:         </th>  <td>   0.629</td>  \n",
       "</tr>\n",
       "<tr>\n",
       "  <th>Model:</th>                   <td>OLS</td>       <th>  Adj. R-squared:    </th>  <td>   0.629</td>  \n",
       "</tr>\n",
       "<tr>\n",
       "  <th>Method:</th>             <td>Least Squares</td>  <th>  F-statistic:       </th>  <td>   1456.</td>  \n",
       "</tr>\n",
       "<tr>\n",
       "  <th>Date:</th>             <td>Wed, 05 Oct 2022</td> <th>  Prob (F-statistic):</th>   <td>  0.00</td>   \n",
       "</tr>\n",
       "<tr>\n",
       "  <th>Time:</th>                 <td>14:19:01</td>     <th>  Log-Likelihood:    </th> <td>-1.1575e+05</td>\n",
       "</tr>\n",
       "<tr>\n",
       "  <th>No. Observations:</th>      <td>  7735</td>      <th>  AIC:               </th>  <td>2.315e+05</td> \n",
       "</tr>\n",
       "<tr>\n",
       "  <th>Df Residuals:</th>          <td>  7725</td>      <th>  BIC:               </th>  <td>2.316e+05</td> \n",
       "</tr>\n",
       "<tr>\n",
       "  <th>Df Model:</th>              <td>     9</td>      <th>                     </th>      <td> </td>     \n",
       "</tr>\n",
       "<tr>\n",
       "  <th>Covariance Type:</th>      <td>nonrobust</td>    <th>                     </th>      <td> </td>     \n",
       "</tr>\n",
       "</table>\n",
       "<table class=\"simpletable\">\n",
       "<tr>\n",
       "          <td></td>             <th>coef</th>     <th>std err</th>      <th>t</th>      <th>P>|t|</th>  <th>[0.025</th>    <th>0.975]</th>  \n",
       "</tr>\n",
       "<tr>\n",
       "  <th>age</th>               <td>-7.797e+04</td> <td> 2823.931</td> <td>  -27.609</td> <td> 0.000</td> <td>-8.35e+04</td> <td>-7.24e+04</td>\n",
       "</tr>\n",
       "<tr>\n",
       "  <th>reputation</th>        <td> 5.616e+05</td> <td> 4.02e+04</td> <td>   13.972</td> <td> 0.000</td> <td> 4.83e+05</td> <td>  6.4e+05</td>\n",
       "</tr>\n",
       "<tr>\n",
       "  <th>stat_overall</th>      <td> 1.845e+05</td> <td> 2849.497</td> <td>   64.751</td> <td> 0.000</td> <td> 1.79e+05</td> <td>  1.9e+05</td>\n",
       "</tr>\n",
       "<tr>\n",
       "  <th>stat_potential</th>    <td> 8277.7422</td> <td> 2365.953</td> <td>    3.499</td> <td> 0.000</td> <td> 3639.833</td> <td> 1.29e+04</td>\n",
       "</tr>\n",
       "<tr>\n",
       "  <th>stat_skill_moves</th>  <td> 1.305e+05</td> <td> 1.98e+04</td> <td>    6.591</td> <td> 0.000</td> <td> 9.17e+04</td> <td> 1.69e+05</td>\n",
       "</tr>\n",
       "<tr>\n",
       "  <th>position_DF</th>       <td>-3.578e+06</td> <td> 4.48e+04</td> <td>  -79.906</td> <td> 0.000</td> <td>-3.67e+06</td> <td>-3.49e+06</td>\n",
       "</tr>\n",
       "<tr>\n",
       "  <th>position_GK</th>       <td>-3.345e+06</td> <td> 5.13e+04</td> <td>  -65.189</td> <td> 0.000</td> <td>-3.45e+06</td> <td>-3.24e+06</td>\n",
       "</tr>\n",
       "<tr>\n",
       "  <th>position_MF</th>       <td>-3.515e+06</td> <td>  4.5e+04</td> <td>  -78.102</td> <td> 0.000</td> <td> -3.6e+06</td> <td>-3.43e+06</td>\n",
       "</tr>\n",
       "<tr>\n",
       "  <th>position_ST</th>       <td>-3.458e+06</td> <td> 4.67e+04</td> <td>  -74.059</td> <td> 0.000</td> <td>-3.55e+06</td> <td>-3.37e+06</td>\n",
       "</tr>\n",
       "<tr>\n",
       "  <th>prefer_foot_left</th>  <td>-6.971e+06</td> <td> 8.55e+04</td> <td>  -81.553</td> <td> 0.000</td> <td>-7.14e+06</td> <td> -6.8e+06</td>\n",
       "</tr>\n",
       "<tr>\n",
       "  <th>prefer_foot_right</th> <td>-6.926e+06</td> <td>  8.4e+04</td> <td>  -82.408</td> <td> 0.000</td> <td>-7.09e+06</td> <td>-6.76e+06</td>\n",
       "</tr>\n",
       "</table>\n",
       "<table class=\"simpletable\">\n",
       "<tr>\n",
       "  <th>Omnibus:</th>       <td>1659.957</td> <th>  Durbin-Watson:     </th> <td>   2.016</td>\n",
       "</tr>\n",
       "<tr>\n",
       "  <th>Prob(Omnibus):</th>  <td> 0.000</td>  <th>  Jarque-Bera (JB):  </th> <td>3871.222</td>\n",
       "</tr>\n",
       "<tr>\n",
       "  <th>Skew:</th>           <td> 1.206</td>  <th>  Prob(JB):          </th> <td>    0.00</td>\n",
       "</tr>\n",
       "<tr>\n",
       "  <th>Kurtosis:</th>       <td> 5.490</td>  <th>  Cond. No.          </th> <td>9.34e+17</td>\n",
       "</tr>\n",
       "</table><br/><br/>Notes:<br/>[1] Standard Errors assume that the covariance matrix of the errors is correctly specified.<br/>[2] The smallest eigenvalue is 8.71e-29. This might indicate that there are<br/>strong multicollinearity problems or that the design matrix is singular."
      ],
      "text/plain": [
       "<class 'statsmodels.iolib.summary.Summary'>\n",
       "\"\"\"\n",
       "                            OLS Regression Results                            \n",
       "==============================================================================\n",
       "Dep. Variable:                  value   R-squared:                       0.629\n",
       "Model:                            OLS   Adj. R-squared:                  0.629\n",
       "Method:                 Least Squares   F-statistic:                     1456.\n",
       "Date:                Wed, 05 Oct 2022   Prob (F-statistic):               0.00\n",
       "Time:                        14:19:01   Log-Likelihood:            -1.1575e+05\n",
       "No. Observations:                7735   AIC:                         2.315e+05\n",
       "Df Residuals:                    7725   BIC:                         2.316e+05\n",
       "Df Model:                           9                                         \n",
       "Covariance Type:            nonrobust                                         \n",
       "=====================================================================================\n",
       "                        coef    std err          t      P>|t|      [0.025      0.975]\n",
       "-------------------------------------------------------------------------------------\n",
       "age               -7.797e+04   2823.931    -27.609      0.000   -8.35e+04   -7.24e+04\n",
       "reputation         5.616e+05   4.02e+04     13.972      0.000    4.83e+05     6.4e+05\n",
       "stat_overall       1.845e+05   2849.497     64.751      0.000    1.79e+05     1.9e+05\n",
       "stat_potential     8277.7422   2365.953      3.499      0.000    3639.833    1.29e+04\n",
       "stat_skill_moves   1.305e+05   1.98e+04      6.591      0.000    9.17e+04    1.69e+05\n",
       "position_DF       -3.578e+06   4.48e+04    -79.906      0.000   -3.67e+06   -3.49e+06\n",
       "position_GK       -3.345e+06   5.13e+04    -65.189      0.000   -3.45e+06   -3.24e+06\n",
       "position_MF       -3.515e+06    4.5e+04    -78.102      0.000    -3.6e+06   -3.43e+06\n",
       "position_ST       -3.458e+06   4.67e+04    -74.059      0.000   -3.55e+06   -3.37e+06\n",
       "prefer_foot_left  -6.971e+06   8.55e+04    -81.553      0.000   -7.14e+06    -6.8e+06\n",
       "prefer_foot_right -6.926e+06    8.4e+04    -82.408      0.000   -7.09e+06   -6.76e+06\n",
       "==============================================================================\n",
       "Omnibus:                     1659.957   Durbin-Watson:                   2.016\n",
       "Prob(Omnibus):                  0.000   Jarque-Bera (JB):             3871.222\n",
       "Skew:                           1.206   Prob(JB):                         0.00\n",
       "Kurtosis:                       5.490   Cond. No.                     9.34e+17\n",
       "==============================================================================\n",
       "\n",
       "Notes:\n",
       "[1] Standard Errors assume that the covariance matrix of the errors is correctly specified.\n",
       "[2] The smallest eigenvalue is 8.71e-29. This might indicate that there are\n",
       "strong multicollinearity problems or that the design matrix is singular.\n",
       "\"\"\""
      ]
     },
     "execution_count": 96,
     "metadata": {},
     "output_type": "execute_result"
    }
   ],
   "source": [
    "from statsmodels.regression import linear_model\n",
    "\n",
    "model = linear_model.OLS(df1_y, df1_x).fit()\n",
    "model.summary()"
   ]
  },
  {
   "cell_type": "markdown",
   "metadata": {
    "id": "krXdMxjj5k1v"
   },
   "source": [
    "**과제 8: train_test_split을 이용해 train 데이터와 test 데이터로 분리해보세요!**"
   ]
  },
  {
   "cell_type": "code",
   "execution_count": 97,
   "metadata": {
    "ExecuteTime": {
     "end_time": "2022-10-05T05:19:01.203785Z",
     "start_time": "2022-10-05T05:19:01.191814Z"
    },
    "id": "lzJIWpCw5k1w"
   },
   "outputs": [],
   "source": [
    "from sklearn.linear_model import LogisticRegression\n",
    "from sklearn.model_selection import train_test_split\n",
    "\n",
    "train_X, test_X, train_y, test_y = train_test_split(lr_df_x, lr_df_y, random_state=42)"
   ]
  },
  {
   "cell_type": "markdown",
   "metadata": {
    "id": "cNzIf1Wb5k1w"
   },
   "source": [
    "**과제 9: 로지스틱 회귀 모형을 생성하고, train 데이터로 모델을 학습시킨 뒤, test 데이터를 통해 예측해보세요!**"
   ]
  },
  {
   "cell_type": "code",
   "execution_count": 98,
   "metadata": {
    "ExecuteTime": {
     "end_time": "2022-10-05T05:19:03.785879Z",
     "start_time": "2022-10-05T05:19:01.207772Z"
    },
    "id": "o5O9MQI75k1w"
   },
   "outputs": [],
   "source": [
    "lr_clf = LogisticRegression(C=20, max_iter=1000)\n",
    "lr_clf.fit(train_X, train_y)\n",
    "lr_preds = lr_clf.predict(test_X)"
   ]
  },
  {
   "cell_type": "markdown",
   "metadata": {
    "id": "YvCGZJt55k1w"
   },
   "source": [
    "**과제 10: score()을 통해 로지스틱 회귀 모형의 정확도를 확인해보세요!**"
   ]
  },
  {
   "cell_type": "code",
   "execution_count": 99,
   "metadata": {
    "ExecuteTime": {
     "end_time": "2022-10-05T05:19:03.817794Z",
     "start_time": "2022-10-05T05:19:03.788871Z"
    },
    "colab": {
     "base_uri": "https://localhost:8080/"
    },
    "id": "iWT1mBqx5k1x",
    "outputId": "7062b977-874e-4446-fa54-6f9e6069ac48"
   },
   "outputs": [
    {
     "name": "stdout",
     "output_type": "stream",
     "text": [
      "0.709\n",
      "0.718\n"
     ]
    }
   ],
   "source": [
    "# 로지스틱 회귀 모형 결과확인\n",
    "\n",
    "print(lr_clf.score(train_X, train_y).round(3))\n",
    "print(lr_clf.score(test_X, test_y).round(3))\n",
    "# 0.702\n",
    "# 0.713"
   ]
  },
  {
   "cell_type": "markdown",
   "metadata": {
    "id": "u8E3obw4v5ZU"
   },
   "source": [
    "# PCA"
   ]
  },
  {
   "cell_type": "markdown",
   "metadata": {
    "id": "McS5fak-5k1z"
   },
   "source": [
    "**과제 11: 먼저 표준화를 진행해줍니다!(Hint: MinMaxScaler or StandardScaler 등을 이용해보세요!)**"
   ]
  },
  {
   "cell_type": "code",
   "execution_count": 100,
   "metadata": {
    "ExecuteTime": {
     "end_time": "2022-10-05T05:19:03.848711Z",
     "start_time": "2022-10-05T05:19:03.820785Z"
    },
    "id": "h29yB1oL5k1z"
   },
   "outputs": [],
   "source": [
    "from sklearn.preprocessing import MinMaxScaler,StandardScaler \n",
    "from sklearn.decomposition import PCA\n",
    "import time\n",
    "\n",
    "scale_x = MinMaxScaler().fit_transform(df1_x)"
   ]
  },
  {
   "cell_type": "markdown",
   "metadata": {
    "id": "faiIpqb75k10"
   },
   "source": [
    "그리고 scree plot을 그려줍니다."
   ]
  },
  {
   "cell_type": "code",
   "execution_count": 101,
   "metadata": {
    "ExecuteTime": {
     "end_time": "2022-10-05T05:19:03.894588Z",
     "start_time": "2022-10-05T05:19:03.852699Z"
    }
   },
   "outputs": [
    {
     "data": {
      "text/html": [
       "<div>\n",
       "<style scoped>\n",
       "    .dataframe tbody tr th:only-of-type {\n",
       "        vertical-align: middle;\n",
       "    }\n",
       "\n",
       "    .dataframe tbody tr th {\n",
       "        vertical-align: top;\n",
       "    }\n",
       "\n",
       "    .dataframe thead th {\n",
       "        text-align: right;\n",
       "    }\n",
       "</style>\n",
       "<table border=\"1\" class=\"dataframe\">\n",
       "  <thead>\n",
       "    <tr style=\"text-align: right;\">\n",
       "      <th></th>\n",
       "      <th>age</th>\n",
       "      <th>reputation</th>\n",
       "      <th>stat_overall</th>\n",
       "      <th>stat_potential</th>\n",
       "      <th>stat_skill_moves</th>\n",
       "      <th>position_DF</th>\n",
       "      <th>position_GK</th>\n",
       "      <th>position_MF</th>\n",
       "      <th>position_ST</th>\n",
       "      <th>prefer_foot_left</th>\n",
       "      <th>prefer_foot_right</th>\n",
       "    </tr>\n",
       "  </thead>\n",
       "  <tbody>\n",
       "    <tr>\n",
       "      <th>0</th>\n",
       "      <td>0.458333</td>\n",
       "      <td>0.0</td>\n",
       "      <td>0.390244</td>\n",
       "      <td>0.365854</td>\n",
       "      <td>0.50</td>\n",
       "      <td>1.0</td>\n",
       "      <td>0.0</td>\n",
       "      <td>0.0</td>\n",
       "      <td>0.0</td>\n",
       "      <td>0.0</td>\n",
       "      <td>1.0</td>\n",
       "    </tr>\n",
       "    <tr>\n",
       "      <th>1</th>\n",
       "      <td>0.666667</td>\n",
       "      <td>0.0</td>\n",
       "      <td>0.487805</td>\n",
       "      <td>0.463415</td>\n",
       "      <td>0.00</td>\n",
       "      <td>0.0</td>\n",
       "      <td>1.0</td>\n",
       "      <td>0.0</td>\n",
       "      <td>0.0</td>\n",
       "      <td>0.0</td>\n",
       "      <td>1.0</td>\n",
       "    </tr>\n",
       "    <tr>\n",
       "      <th>2</th>\n",
       "      <td>0.291667</td>\n",
       "      <td>0.0</td>\n",
       "      <td>0.146341</td>\n",
       "      <td>0.292683</td>\n",
       "      <td>0.25</td>\n",
       "      <td>1.0</td>\n",
       "      <td>0.0</td>\n",
       "      <td>0.0</td>\n",
       "      <td>0.0</td>\n",
       "      <td>0.0</td>\n",
       "      <td>1.0</td>\n",
       "    </tr>\n",
       "    <tr>\n",
       "      <th>3</th>\n",
       "      <td>0.541667</td>\n",
       "      <td>0.0</td>\n",
       "      <td>0.487805</td>\n",
       "      <td>0.463415</td>\n",
       "      <td>0.25</td>\n",
       "      <td>0.0</td>\n",
       "      <td>0.0</td>\n",
       "      <td>0.0</td>\n",
       "      <td>1.0</td>\n",
       "      <td>0.0</td>\n",
       "      <td>1.0</td>\n",
       "    </tr>\n",
       "    <tr>\n",
       "      <th>4</th>\n",
       "      <td>0.291667</td>\n",
       "      <td>0.0</td>\n",
       "      <td>0.268293</td>\n",
       "      <td>0.390244</td>\n",
       "      <td>0.50</td>\n",
       "      <td>0.0</td>\n",
       "      <td>0.0</td>\n",
       "      <td>1.0</td>\n",
       "      <td>0.0</td>\n",
       "      <td>0.0</td>\n",
       "      <td>1.0</td>\n",
       "    </tr>\n",
       "  </tbody>\n",
       "</table>\n",
       "</div>"
      ],
      "text/plain": [
       "        age  reputation  stat_overall  stat_potential  stat_skill_moves  \\\n",
       "0  0.458333         0.0      0.390244        0.365854              0.50   \n",
       "1  0.666667         0.0      0.487805        0.463415              0.00   \n",
       "2  0.291667         0.0      0.146341        0.292683              0.25   \n",
       "3  0.541667         0.0      0.487805        0.463415              0.25   \n",
       "4  0.291667         0.0      0.268293        0.390244              0.50   \n",
       "\n",
       "   position_DF  position_GK  position_MF  position_ST  prefer_foot_left  \\\n",
       "0          1.0          0.0          0.0          0.0               0.0   \n",
       "1          0.0          1.0          0.0          0.0               0.0   \n",
       "2          1.0          0.0          0.0          0.0               0.0   \n",
       "3          0.0          0.0          0.0          1.0               0.0   \n",
       "4          0.0          0.0          1.0          0.0               0.0   \n",
       "\n",
       "   prefer_foot_right  \n",
       "0                1.0  \n",
       "1                1.0  \n",
       "2                1.0  \n",
       "3                1.0  \n",
       "4                1.0  "
      ]
     },
     "execution_count": 101,
     "metadata": {},
     "output_type": "execute_result"
    }
   ],
   "source": [
    "features = list(df1_x.columns)\n",
    "pd.DataFrame(scale_x, columns = features).head()"
   ]
  },
  {
   "cell_type": "code",
   "execution_count": 102,
   "metadata": {
    "ExecuteTime": {
     "end_time": "2022-10-05T05:19:03.924508Z",
     "start_time": "2022-10-05T05:19:03.898577Z"
    },
    "id": "M_Y8bWCR5k10"
   },
   "outputs": [],
   "source": [
    "pca_all=PCA(n_components = len(df1_x.columns))\n",
    "pca_all_fit = pca_all.fit_transform(df1_x)"
   ]
  },
  {
   "cell_type": "code",
   "execution_count": 103,
   "metadata": {
    "ExecuteTime": {
     "end_time": "2022-10-05T05:19:04.210744Z",
     "start_time": "2022-10-05T05:19:03.928497Z"
    }
   },
   "outputs": [
    {
     "data": {
      "text/plain": [
       "[<matplotlib.lines.Line2D at 0x14816060790>]"
      ]
     },
     "execution_count": 103,
     "metadata": {},
     "output_type": "execute_result"
    },
    {
     "data": {
      "image/png": "[encoded data removed]",
      "text/plain": [
       "<Figure size 640x480 with 1 Axes>"
      ]
     },
     "metadata": {},
     "output_type": "display_data"
    }
   ],
   "source": [
    "#Scree plot\n",
    "value_number = np.arange(pca_all.n_components) + 1\n",
    "plt.title('Scree plot')\n",
    "plt.xlabel('Number of Components')\n",
    "plt.ylabel('Variance Explained')\n",
    "plt.plot(value_number, pca_all.explained_variance_ratio_, 'o-')"
   ]
  },
  {
   "cell_type": "markdown",
   "metadata": {
    "id": "XtjvZRP95k11"
   },
   "source": [
    "**과제 12: 제시된 scree plot을 보고 주성분 개수를 정해서, pca를 진행해보세요!**"
   ]
  },
  {
   "cell_type": "code",
   "execution_count": 104,
   "metadata": {
    "ExecuteTime": {
     "end_time": "2022-10-05T05:19:04.242658Z",
     "start_time": "2022-10-05T05:19:04.213736Z"
    },
    "id": "_Venkc9E5k11"
   },
   "outputs": [],
   "source": [
    "pca = PCA(n_components = 3)\n",
    "pcaComponents = pca.fit_transform(df1_x)"
   ]
  },
  {
   "cell_type": "code",
   "execution_count": 105,
   "metadata": {
    "ExecuteTime": {
     "end_time": "2022-10-05T05:19:04.274573Z",
     "start_time": "2022-10-05T05:19:04.245651Z"
    }
   },
   "outputs": [
    {
     "data": {
      "text/html": [
       "<div>\n",
       "<style scoped>\n",
       "    .dataframe tbody tr th:only-of-type {\n",
       "        vertical-align: middle;\n",
       "    }\n",
       "\n",
       "    .dataframe tbody tr th {\n",
       "        vertical-align: top;\n",
       "    }\n",
       "\n",
       "    .dataframe thead th {\n",
       "        text-align: right;\n",
       "    }\n",
       "</style>\n",
       "<table border=\"1\" class=\"dataframe\">\n",
       "  <thead>\n",
       "    <tr style=\"text-align: right;\">\n",
       "      <th></th>\n",
       "      <th>pca_component1</th>\n",
       "      <th>pca_component2</th>\n",
       "      <th>pca_component3</th>\n",
       "      <th>target</th>\n",
       "    </tr>\n",
       "  </thead>\n",
       "  <tbody>\n",
       "    <tr>\n",
       "      <th>0</th>\n",
       "      <td>-5.097058</td>\n",
       "      <td>-5.268871</td>\n",
       "      <td>0.606844</td>\n",
       "      <td>value0</td>\n",
       "    </tr>\n",
       "    <tr>\n",
       "      <th>1</th>\n",
       "      <td>1.729789</td>\n",
       "      <td>-7.091212</td>\n",
       "      <td>-2.035024</td>\n",
       "      <td>value0</td>\n",
       "    </tr>\n",
       "    <tr>\n",
       "      <th>2</th>\n",
       "      <td>-15.663825</td>\n",
       "      <td>-2.416401</td>\n",
       "      <td>-1.823588</td>\n",
       "      <td>value0</td>\n",
       "    </tr>\n",
       "    <tr>\n",
       "      <th>3</th>\n",
       "      <td>0.814291</td>\n",
       "      <td>-4.875995</td>\n",
       "      <td>-0.135914</td>\n",
       "      <td>value0</td>\n",
       "    </tr>\n",
       "    <tr>\n",
       "      <th>4</th>\n",
       "      <td>-9.568420</td>\n",
       "      <td>-0.728870</td>\n",
       "      <td>-0.594794</td>\n",
       "      <td>value0</td>\n",
       "    </tr>\n",
       "  </tbody>\n",
       "</table>\n",
       "</div>"
      ],
      "text/plain": [
       "   pca_component1  pca_component2  pca_component3  target\n",
       "0       -5.097058       -5.268871        0.606844  value0\n",
       "1        1.729789       -7.091212       -2.035024  value0\n",
       "2      -15.663825       -2.416401       -1.823588  value0\n",
       "3        0.814291       -4.875995       -0.135914  value0\n",
       "4       -9.568420       -0.728870       -0.594794  value0"
      ]
     },
     "execution_count": 105,
     "metadata": {},
     "output_type": "execute_result"
    }
   ],
   "source": [
    "# 주성분으로 이루어진 데이터 프레임을 구성하세요\n",
    "principalDf = pd.DataFrame(data = pcaComponents, \n",
    "                           columns = ['pca_component1','pca_component2','pca_component3'])\n",
    "principalDf['target'] = lr_df_y\n",
    "principalDf.head()"
   ]
  },
  {
   "cell_type": "markdown",
   "metadata": {
    "id": "5ciR1pDqv8v9"
   },
   "source": [
    "## PCA 이후 로지스틱 회귀 / 소프트맥스"
   ]
  },
  {
   "cell_type": "markdown",
   "metadata": {
    "id": "HoqGHEhD5k12"
   },
   "source": [
    "pca를 진행한 데이터를 이용해, 로지스틱 회귀를 하고, 결과를 비교해 봅시다."
   ]
  },
  {
   "cell_type": "code",
   "execution_count": 106,
   "metadata": {
    "ExecuteTime": {
     "end_time": "2022-10-05T05:19:04.988663Z",
     "start_time": "2022-10-05T05:19:04.277566Z"
    },
    "id": "JtmVeY1f5k12"
   },
   "outputs": [],
   "source": [
    "train_X, test_X, train_y, test_y = train_test_split(principalDf[principalDf.columns[0:3]], \n",
    "                                                    principalDf['target'], \n",
    "                                                    random_state=42)\n",
    "\n",
    "start = time.time()\n",
    "\n",
    "lr_clf = LogisticRegression(C=20, max_iter=1000)\n",
    "lr_clf.fit(train_X, train_y)\n",
    "lr_preds = lr_clf.predict(test_X)\n",
    "\n",
    "end = time.time()\n",
    "\n",
    "yes_pca_time = end - start"
   ]
  },
  {
   "cell_type": "markdown",
   "metadata": {
    "id": "PyA3CkHa5k13"
   },
   "source": [
    "**과제 13: 모형의 정확도를 확인해보세요!(Hint: score()를 활용해보세요!)**"
   ]
  },
  {
   "cell_type": "code",
   "execution_count": 107,
   "metadata": {
    "ExecuteTime": {
     "end_time": "2022-10-05T05:19:05.034540Z",
     "start_time": "2022-10-05T05:19:04.992653Z"
    }
   },
   "outputs": [
    {
     "name": "stdout",
     "output_type": "stream",
     "text": [
      "0.807\n",
      "0.814\n"
     ]
    }
   ],
   "source": [
    "print(lr_clf.score(train_X, train_y).round(3))\n",
    "print(lr_clf.score(test_X, test_y).round(3))\n",
    "# 0.689\n",
    "# 0.703"
   ]
  },
  {
   "cell_type": "code",
   "execution_count": 108,
   "metadata": {
    "ExecuteTime": {
     "end_time": "2022-10-05T05:19:05.050499Z",
     "start_time": "2022-10-05T05:19:05.038531Z"
    },
    "colab": {
     "base_uri": "https://localhost:8080/"
    },
    "id": "mfx5qKza_U5q",
    "outputId": "0ce34ce4-8e71-4b37-e862-99dbd494471c"
   },
   "outputs": [
    {
     "name": "stdout",
     "output_type": "stream",
     "text": [
      "PCA를 진행하지 않은 로지스틱 회귀모형의 소요 시간은 2.977초\n",
      "PCA를 진행한 로지스틱 회귀모형의 소요 시간은 0.686초\n"
     ]
    }
   ],
   "source": [
    "# PCA를 진행했을 때 걸린 시간과 PCA를 진행하지 않았을 때 걸린 시간을 비교해보세요\n",
    "\n",
    "print(f'PCA를 진행하지 않은 로지스틱 회귀모형의 소요 시간은 {round(no_pca_time, 3)}초')\n",
    "print(f'PCA를 진행한 로지스틱 회귀모형의 소요 시간은 {round(yes_pca_time, 3)}초')"
   ]
  },
  {
   "cell_type": "markdown",
   "metadata": {
    "id": "MBGZin6qwC24"
   },
   "source": [
    "## PCA 결과 해석\n",
    "\n",
    "PCA를 진행하지 않았을 때의 결과가 더 낫다. **그렇다면 PCA를 언제 사용해야 할까?**<br>\n",
    "\n",
    "- 현재 자신이 분석하는 **데이터와 상황에 따라서 적절하게** 사용. 수백 개가 넘는 feature가 있는 아주 큰 데이터를 생각해보자. feature 간의 관계를 다 파악하고 어떤 독립변수가 설명력이 높은지 찾으려면 시간이 오래 걸릴 수 있다. 각 feature 간 관계를 파악할지라도, 모델이 학습하는데 오랜 시간이 걸린다\n",
    "\n",
    "- 이때, feature selection, PCA 등 여러 기법을 통해서 유의미한 변수만을 사용한다면 시간을 단축할 수 있다."
   ]
  }
 ],
 "metadata": {
  "colab": {
   "collapsed_sections": [],
   "provenance": [],
   "toc_visible": true
  },
  "kernelspec": {
   "display_name": "Python 3 (ipykernel)",
   "language": "python",
   "name": "python3"
  },
  "language_info": {
   "codemirror_mode": {
    "name": "ipython",
    "version": 3
   },
   "file_extension": ".py",
   "mimetype": "text/x-python",
   "name": "python",
   "nbconvert_exporter": "python",
   "pygments_lexer": "ipython3",
   "version": "3.9.13"
  },
  "toc": {
   "base_numbering": 1,
   "nav_menu": {},
   "number_sections": true,
   "sideBar": true,
   "skip_h1_title": false,
   "title_cell": "Table of Contents",
   "title_sidebar": "Contents",
   "toc_cell": false,
   "toc_position": {
    "height": "calc(100% - 180px)",
    "left": "10px",
    "top": "150px",
    "width": "284.441px"
   },
   "toc_section_display": true,
   "toc_window_display": true
  },
  "varInspector": {
   "cols": {
    "lenName": 16,
    "lenType": 16,
    "lenVar": 40
   },
   "kernels_config": {
    "python": {
     "delete_cmd_postfix": "",
     "delete_cmd_prefix": "del ",
     "library": "var_list.py",
     "varRefreshCmd": "print(var_dic_list())"
    },
    "r": {
     "delete_cmd_postfix": ") ",
     "delete_cmd_prefix": "rm(",
     "library": "var_list.r",
     "varRefreshCmd": "cat(var_dic_list()) "
    }
   },
   "types_to_exclude": [
    "module",
    "function",
    "builtin_function_or_method",
    "instance",
    "_Feature"
   ],
   "window_display": false
  }
 },
 "nbformat": 4,
 "nbformat_minor": 1
}
