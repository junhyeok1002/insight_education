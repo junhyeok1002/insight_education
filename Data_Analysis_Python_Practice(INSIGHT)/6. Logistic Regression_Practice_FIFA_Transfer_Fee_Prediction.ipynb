{
 "cells": [
  {
   "cell_type": "markdown",
   "metadata": {},
   "source": [
    "8기_최준혁"
   ]
  },
  {
   "cell_type": "markdown",
   "metadata": {
    "id": "ace_fbLw5k1K"
   },
   "source": [
    "# 필요 라이브러리 호출하기"
   ]
  },
  {
   "cell_type": "markdown",
   "metadata": {
    "id": "vqWO_rpE5k1P"
   },
   "source": [
    "pandas, numpy 등 데이터 읽기에 필요한 라이브러리를 호출해줍니다. "
   ]
  },
  {
   "cell_type": "code",
   "execution_count": 1,
   "metadata": {
    "ExecuteTime": {
     "end_time": "2022-09-07T00:21:42.955935Z",
     "start_time": "2022-09-07T00:21:42.701669Z"
    },
    "id": "UFUCDR83gpdQ"
   },
   "outputs": [],
   "source": [
    "# 필요 라이브러리 호출\n",
    "import pandas as pd\n",
    "import numpy as np\n",
    "import warnings\n",
    "warnings.filterwarnings('ignore')"
   ]
  },
  {
   "cell_type": "markdown",
   "metadata": {
    "id": "YEbW0mLz5k1S"
   },
   "source": [
    "## 파일 읽기"
   ]
  },
  {
   "cell_type": "markdown",
   "metadata": {
    "id": "zV8PDf6z5k1S"
   },
   "source": [
    "pandas의 read_csv를 활용하여 csv 파일을 데이터프레임 형태로 불러옵니다."
   ]
  },
  {
   "cell_type": "code",
   "execution_count": 2,
   "metadata": {
    "ExecuteTime": {
     "end_time": "2022-09-07T00:23:28.092228Z",
     "start_time": "2022-09-07T00:23:28.068698Z"
    },
    "id": "mNmHj38F5k1T"
   },
   "outputs": [],
   "source": [
    "# 파일 불러오기\n",
    "data = pd.read_csv(\"./FIFA.csv\", index_col = None)\n",
    "df = data.copy()"
   ]
  },
  {
   "cell_type": "code",
   "execution_count": 3,
   "metadata": {
    "ExecuteTime": {
     "end_time": "2022-09-07T00:23:59.245018Z",
     "start_time": "2022-09-07T00:23:59.236002Z"
    },
    "id": "1yMjrg5jJHAq"
   },
   "outputs": [],
   "source": [
    "# 로지스틱 회귀를 위한 전처리\n",
    "df.drop(['id','name','continent', 'contract_until'], axis = 1, inplace = True)\n",
    "df.replace({'prefer_foot' :'?'}, 'right', inplace = True)\n",
    "df.fillna({'stat_potential':df['stat_overall']}, inplace=True)\n",
    "df.fillna({'stat_overall':df['stat_potential']}, inplace=True)\n",
    "df.dropna(how = 'any', inplace = True)\n",
    "\n",
    "q1 = 375000      # 1분위수\n",
    "q3 = 2600000     # 3분위수\n",
    "\n",
    "df = df[(df['value'] > (q1-1.5*(q3-q1))) & (df['value'] < (q3+1.5*(q3-q1)))]\n",
    "df.reset_index(drop = True, inplace = True)\n",
    "\n",
    "df = pd.get_dummies(df, \n",
    "                    columns = ['position', 'prefer_foot'],\n",
    "                    drop_first = False)"
   ]
  },
  {
   "cell_type": "code",
   "execution_count": 4,
   "metadata": {
    "colab": {
     "base_uri": "https://localhost:8080/",
     "height": 270
    },
    "id": "ufqTNz3DvU8y",
    "outputId": "c31ef37c-098a-48a6-d4cd-33527a20c238"
   },
   "outputs": [
    {
     "data": {
      "text/html": [
       "<div>\n",
       "<style scoped>\n",
       "    .dataframe tbody tr th:only-of-type {\n",
       "        vertical-align: middle;\n",
       "    }\n",
       "\n",
       "    .dataframe tbody tr th {\n",
       "        vertical-align: top;\n",
       "    }\n",
       "\n",
       "    .dataframe thead th {\n",
       "        text-align: right;\n",
       "    }\n",
       "</style>\n",
       "<table border=\"1\" class=\"dataframe\">\n",
       "  <thead>\n",
       "    <tr style=\"text-align: right;\">\n",
       "      <th></th>\n",
       "      <th>age</th>\n",
       "      <th>reputation</th>\n",
       "      <th>stat_overall</th>\n",
       "      <th>stat_potential</th>\n",
       "      <th>stat_skill_moves</th>\n",
       "      <th>value</th>\n",
       "      <th>position_DF</th>\n",
       "      <th>position_GK</th>\n",
       "      <th>position_MF</th>\n",
       "      <th>position_ST</th>\n",
       "      <th>prefer_foot_left</th>\n",
       "      <th>prefer_foot_right</th>\n",
       "    </tr>\n",
       "  </thead>\n",
       "  <tbody>\n",
       "    <tr>\n",
       "      <th>0</th>\n",
       "      <td>27</td>\n",
       "      <td>1</td>\n",
       "      <td>63.0</td>\n",
       "      <td>63.0</td>\n",
       "      <td>3</td>\n",
       "      <td>300000</td>\n",
       "      <td>1</td>\n",
       "      <td>0</td>\n",
       "      <td>0</td>\n",
       "      <td>0</td>\n",
       "      <td>0</td>\n",
       "      <td>1</td>\n",
       "    </tr>\n",
       "    <tr>\n",
       "      <th>1</th>\n",
       "      <td>32</td>\n",
       "      <td>1</td>\n",
       "      <td>67.0</td>\n",
       "      <td>67.0</td>\n",
       "      <td>1</td>\n",
       "      <td>450000</td>\n",
       "      <td>0</td>\n",
       "      <td>1</td>\n",
       "      <td>0</td>\n",
       "      <td>0</td>\n",
       "      <td>0</td>\n",
       "      <td>1</td>\n",
       "    </tr>\n",
       "    <tr>\n",
       "      <th>2</th>\n",
       "      <td>23</td>\n",
       "      <td>1</td>\n",
       "      <td>53.0</td>\n",
       "      <td>60.0</td>\n",
       "      <td>2</td>\n",
       "      <td>70000</td>\n",
       "      <td>1</td>\n",
       "      <td>0</td>\n",
       "      <td>0</td>\n",
       "      <td>0</td>\n",
       "      <td>0</td>\n",
       "      <td>1</td>\n",
       "    </tr>\n",
       "    <tr>\n",
       "      <th>3</th>\n",
       "      <td>29</td>\n",
       "      <td>1</td>\n",
       "      <td>67.0</td>\n",
       "      <td>67.0</td>\n",
       "      <td>2</td>\n",
       "      <td>750000</td>\n",
       "      <td>0</td>\n",
       "      <td>0</td>\n",
       "      <td>0</td>\n",
       "      <td>1</td>\n",
       "      <td>0</td>\n",
       "      <td>1</td>\n",
       "    </tr>\n",
       "    <tr>\n",
       "      <th>4</th>\n",
       "      <td>23</td>\n",
       "      <td>1</td>\n",
       "      <td>58.0</td>\n",
       "      <td>64.0</td>\n",
       "      <td>3</td>\n",
       "      <td>150000</td>\n",
       "      <td>0</td>\n",
       "      <td>0</td>\n",
       "      <td>1</td>\n",
       "      <td>0</td>\n",
       "      <td>0</td>\n",
       "      <td>1</td>\n",
       "    </tr>\n",
       "  </tbody>\n",
       "</table>\n",
       "</div>"
      ],
      "text/plain": [
       "   age  reputation  stat_overall  stat_potential  stat_skill_moves   value  \\\n",
       "0   27           1          63.0            63.0                 3  300000   \n",
       "1   32           1          67.0            67.0                 1  450000   \n",
       "2   23           1          53.0            60.0                 2   70000   \n",
       "3   29           1          67.0            67.0                 2  750000   \n",
       "4   23           1          58.0            64.0                 3  150000   \n",
       "\n",
       "   position_DF  position_GK  position_MF  position_ST  prefer_foot_left  \\\n",
       "0            1            0            0            0                 0   \n",
       "1            0            1            0            0                 0   \n",
       "2            1            0            0            0                 0   \n",
       "3            0            0            0            1                 0   \n",
       "4            0            0            1            0                 0   \n",
       "\n",
       "   prefer_foot_right  \n",
       "0                  1  \n",
       "1                  1  \n",
       "2                  1  \n",
       "3                  1  \n",
       "4                  1  "
      ]
     },
     "execution_count": 4,
     "metadata": {},
     "output_type": "execute_result"
    }
   ],
   "source": [
    "df.head()"
   ]
  },
  {
   "cell_type": "markdown",
   "metadata": {
    "id": "RG8XKLxCvYGI"
   },
   "source": [
    "# 로지스틱 회귀 / 소프트맥스"
   ]
  },
  {
   "cell_type": "code",
   "execution_count": 5,
   "metadata": {
    "ExecuteTime": {
     "end_time": "2022-09-07T00:27:07.533672Z",
     "start_time": "2022-09-07T00:27:07.517143Z"
    },
    "id": "_IeM9-bF5k1u"
   },
   "outputs": [],
   "source": [
    "lr_df_y = df['value']\n",
    "lr_df_x = df.drop(['value'], axis = 1)"
   ]
  },
  {
   "cell_type": "code",
   "execution_count": 6,
   "metadata": {
    "ExecuteTime": {
     "end_time": "2022-09-07T00:27:19.701475Z",
     "start_time": "2022-09-07T00:27:19.691476Z"
    },
    "id": "QjeKQgZm5k1u"
   },
   "outputs": [],
   "source": [
    "# 종속변수를 연속형 변수에서 범주형 변수로 변환\n",
    "\n",
    "bins_label = ['value0','value1','value2','value3','value4','value5','value6']\n",
    "lr_df_y = pd.cut(lr_df_y, 7, right=False, labels=bins_label)"
   ]
  },
  {
   "cell_type": "code",
   "execution_count": 7,
   "metadata": {
    "ExecuteTime": {
     "end_time": "2022-09-07T00:27:20.383857Z",
     "start_time": "2022-09-07T00:27:20.379852Z"
    },
    "colab": {
     "base_uri": "https://localhost:8080/"
    },
    "id": "uXH0uKVN5k1u",
    "outputId": "59d3897f-7d8e-40cd-d970-ae2728c6bfcc"
   },
   "outputs": [
    {
     "data": {
      "text/plain": [
       "value0    4349\n",
       "value1    1630\n",
       "value2     524\n",
       "value3     441\n",
       "value4     329\n",
       "value5     238\n",
       "value6     224\n",
       "Name: value, dtype: int64"
      ]
     },
     "execution_count": 7,
     "metadata": {},
     "output_type": "execute_result"
    }
   ],
   "source": [
    "# 종속변수 값 분포 확인\n",
    "\n",
    "lr_df_y.value_counts()"
   ]
  },
  {
   "cell_type": "markdown",
   "metadata": {
    "id": "cFkggREQxLoi"
   },
   "source": [
    "# 과제"
   ]
  },
  {
   "cell_type": "markdown",
   "metadata": {
    "id": "AMdxlurwxGqG"
   },
   "source": [
    "**과제 1: train_test_split을 이용해 train 데이터와 test 데이터로 분리해보세요!**"
   ]
  },
  {
   "cell_type": "code",
   "execution_count": 8,
   "metadata": {
    "ExecuteTime": {
     "end_time": "2022-09-07T00:28:13.737832Z",
     "start_time": "2022-09-07T00:28:13.692135Z"
    },
    "id": "rv9DRpaLxGqJ"
   },
   "outputs": [],
   "source": [
    "from sklearn.linear_model import LogisticRegression\n",
    "from sklearn.model_selection import train_test_split\n",
    "\n",
    "X = lr_df_x\n",
    "y = lr_df_y\n",
    "\n",
    "train_X, test_X, train_y, test_y = train_test_split(X, y,test_size=0.3, random_state=156)"
   ]
  },
  {
   "cell_type": "markdown",
   "metadata": {
    "id": "BdGda5-GxGqL"
   },
   "source": [
    "**과제 2: 로지스틱 회귀 모형을 생성하고, 주어진 param_value를 이용해서 gridSearch로 최적 하이퍼 파라미터를 구해보세요!**"
   ]
  },
  {
   "cell_type": "code",
   "execution_count": 9,
   "metadata": {
    "colab": {
     "base_uri": "https://localhost:8080/"
    },
    "id": "IQ0u14SgxGqN",
    "outputId": "11a525e3-7e95-41e7-b4a7-8b23ca6c1029"
   },
   "outputs": [
    {
     "data": {
      "text/plain": [
       "GridSearchCV(cv=5, estimator=LogisticRegression(),\n",
       "             param_grid={'C': [0.01, 0.1, 1, 10, 100]})"
      ]
     },
     "execution_count": 9,
     "metadata": {},
     "output_type": "execute_result"
    }
   ],
   "source": [
    "from sklearn.model_selection import GridSearchCV\n",
    "\n",
    "param_value = {'C':[0.01,0.1,1,10,100]}\n",
    "\n",
    "# 로지스틱 회귀 모형 생성\n",
    "model = LogisticRegression()\n",
    "\n",
    "# gridSearch 모형 생성\n",
    "gridSearch = GridSearchCV(model,param_grid = param_value,cv=5) \n",
    "\n",
    "# gridSearch 모형 학습\n",
    "gridSearch.fit(train_X,train_y)"
   ]
  },
  {
   "cell_type": "markdown",
   "metadata": {
    "id": "2LxKuCouxGqP"
   },
   "source": [
    "**과제3: 로지스틱 회귀 모형의 최적 파라미터 값을 찾아보세요!!**"
   ]
  },
  {
   "cell_type": "code",
   "execution_count": 10,
   "metadata": {
    "colab": {
     "base_uri": "https://localhost:8080/"
    },
    "id": "Q7_DgwzwxGqP",
    "outputId": "b69ecdeb-adb3-403b-d737-09f1956d920d"
   },
   "outputs": [
    {
     "name": "stdout",
     "output_type": "stream",
     "text": [
      "{'C': 100}\n"
     ]
    }
   ],
   "source": [
    "# gridSearch.best_params를 통해 최적의 하이퍼 파라미터 값을 찾을 수 있습니다\n",
    "\n",
    "print(gridSearch.best_params_)"
   ]
  },
  {
   "cell_type": "markdown",
   "metadata": {
    "id": "8OaPK0nvxGqR"
   },
   "source": [
    "**과제 4: 최적 하이퍼 파라미터를 통해 로지스틱 회귀 모형을 학습시키고, LogisticRegression().score()를 통해 정확도를 확인해보세요**"
   ]
  },
  {
   "cell_type": "code",
   "execution_count": 11,
   "metadata": {
    "id": "qt874hgvxGqS"
   },
   "outputs": [],
   "source": [
    "# GridSearch를 통해 찾은 하이퍼 파라미터를 지정해 로지스틱 회귀 모형을 생성합니다\n",
    "lr_clf = LogisticRegression(C = 100)  \n",
    "\n",
    "# 로지스틱 회귀모형 학습\n",
    "lr_clf.fit(train_X, train_y)\n",
    "\n",
    "# 로지스틱 회귀 모형 예측\n",
    "lr_preds = lr_clf.predict(test_X)"
   ]
  },
  {
   "cell_type": "code",
   "execution_count": 12,
   "metadata": {
    "ExecuteTime": {
     "end_time": "2022-09-07T00:28:26.529100Z",
     "start_time": "2022-09-07T00:28:26.516719Z"
    },
    "colab": {
     "base_uri": "https://localhost:8080/"
    },
    "id": "rFfxnDH0xGqT",
    "outputId": "feeed807-2567-4c4c-edcb-e50eb352fe76"
   },
   "outputs": [
    {
     "name": "stdout",
     "output_type": "stream",
     "text": [
      "0.5816401920945696\n",
      "0.5756139595002154\n"
     ]
    },
    {
     "data": {
      "text/plain": [
       "'\\n원래 결과\\n0.5759351835890364\\n0.5791106514994829\\n'"
      ]
     },
     "execution_count": 12,
     "metadata": {},
     "output_type": "execute_result"
    }
   ],
   "source": [
    "# 로지스틱 회귀 모형 결과확인\n",
    "\n",
    "# 로지스틱 회귀 모형 학습용 데이터 점수 확인\n",
    "print(lr_clf.score(train_X, train_y))\n",
    "\n",
    "# 로지스틱 회귀 모형 검증용 데이터 점수 확인\n",
    "print(lr_clf.score(test_X, test_y))\n",
    "'''\n",
    "원래 결과\n",
    "0.5759351835890364\n",
    "0.5791106514994829\n",
    "''' "
   ]
  },
  {
   "cell_type": "markdown",
   "metadata": {},
   "source": [
    "질문 : 이거 score는 원래 결과랑 왜 다른건가요? test, train를 어떻게 분리하냐에 따라서 score가 변하긴 하던데 중요하지 않은 문제로 보면 될까요?"
   ]
  },
  {
   "cell_type": "code",
   "execution_count": null,
   "metadata": {},
   "outputs": [],
   "source": []
  }
 ],
 "metadata": {
  "colab": {
   "collapsed_sections": [],
   "provenance": []
  },
  "kernelspec": {
   "display_name": "Python 3 (ipykernel)",
   "language": "python",
   "name": "python3"
  },
  "language_info": {
   "codemirror_mode": {
    "name": "ipython",
    "version": 3
   },
   "file_extension": ".py",
   "mimetype": "text/x-python",
   "name": "python",
   "nbconvert_exporter": "python",
   "pygments_lexer": "ipython3",
   "version": "3.9.7"
  },
  "toc": {
   "base_numbering": 1,
   "nav_menu": {},
   "number_sections": true,
   "sideBar": true,
   "skip_h1_title": false,
   "title_cell": "Table of Contents",
   "title_sidebar": "Contents",
   "toc_cell": false,
   "toc_position": {
    "height": "calc(100% - 180px)",
    "left": "10px",
    "top": "150px",
    "width": "284.444px"
   },
   "toc_section_display": true,
   "toc_window_display": true
  },
  "varInspector": {
   "cols": {
    "lenName": 16,
    "lenType": 16,
    "lenVar": 40
   },
   "kernels_config": {
    "python": {
     "delete_cmd_postfix": "",
     "delete_cmd_prefix": "del ",
     "library": "var_list.py",
     "varRefreshCmd": "print(var_dic_list())"
    },
    "r": {
     "delete_cmd_postfix": ") ",
     "delete_cmd_prefix": "rm(",
     "library": "var_list.r",
     "varRefreshCmd": "cat(var_dic_list()) "
    }
   },
   "types_to_exclude": [
    "module",
    "function",
    "builtin_function_or_method",
    "instance",
    "_Feature"
   ],
   "window_display": false
  }
 },
 "nbformat": 4,
 "nbformat_minor": 1
}
