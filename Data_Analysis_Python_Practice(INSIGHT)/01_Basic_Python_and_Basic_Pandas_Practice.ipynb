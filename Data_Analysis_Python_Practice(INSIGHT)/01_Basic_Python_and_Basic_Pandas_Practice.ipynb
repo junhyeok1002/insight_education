{
 "cells": [
  {
   "cell_type": "markdown",
   "id": "30c56052",
   "metadata": {},
   "source": [
    "8기_최준혁_0908과제"
   ]
  },
  {
   "cell_type": "markdown",
   "id": "ce5405eb",
   "metadata": {},
   "source": [
    "과제 1"
   ]
  },
  {
   "cell_type": "code",
   "execution_count": 1,
   "id": "729a42ac",
   "metadata": {},
   "outputs": [
    {
     "name": "stdout",
     "output_type": "stream",
     "text": [
      "생년월일을 입력하시오 : 890724\n",
      "연: 1989\n",
      "월: 07\n",
      "일: 24\n"
     ]
    }
   ],
   "source": [
    "birth = input(\"생년월일을 입력하시오 : \")\n",
    "if len(birth) == 6: birth = '19'+birth\n",
    "print('연: '+birth[0:4])\n",
    "print('월: '+birth[4:6])\n",
    "print('일: '+birth[6:8])"
   ]
  },
  {
   "cell_type": "markdown",
   "id": "d8f4d7f7",
   "metadata": {},
   "source": [
    "과제 2"
   ]
  },
  {
   "cell_type": "code",
   "execution_count": 2,
   "id": "1c45524b",
   "metadata": {},
   "outputs": [
    {
     "name": "stdout",
     "output_type": "stream",
     "text": [
      "휴대전화번호를 입력하시오 : 010-1234-5678\n",
      "입력하신 전화번호 : 01012345678\n"
     ]
    }
   ],
   "source": [
    "phone = input('휴대전화번호를 입력하시오 : ')\n",
    "number = ''\n",
    "for i in phone:\n",
    "    if i.isnumeric() : number += i\n",
    "print('입력하신 전화번호 : '+number)"
   ]
  },
  {
   "cell_type": "markdown",
   "id": "1d4868a3",
   "metadata": {},
   "source": [
    "과제 3"
   ]
  },
  {
   "cell_type": "code",
   "execution_count": 3,
   "id": "d73efe53",
   "metadata": {},
   "outputs": [
    {
     "name": "stdout",
     "output_type": "stream",
     "text": [
      "1~10까지 영어로 입력하시오: One\n",
      "한글번역: 하나\n"
     ]
    }
   ],
   "source": [
    "dict_num = {'one':'하나','two':'둘','three':'셋','four':'넷', 'five':'다섯',\\\n",
    "           'six':'여섯','seven':'일곱','eight':'여덟','nine':'아홉','ten':'열'}\n",
    "eng = input('1~10까지 영어로 입력하시오: ').lower()\n",
    "if eng in dict_num.keys(): print('한글번역: '+dict_num[eng])\n",
    "else : print('잘못된 입력 값입니다')"
   ]
  },
  {
   "cell_type": "markdown",
   "id": "483589c4",
   "metadata": {},
   "source": [
    "과제 4"
   ]
  },
  {
   "cell_type": "code",
   "execution_count": 4,
   "id": "5cef9635",
   "metadata": {},
   "outputs": [
    {
     "name": "stdout",
     "output_type": "stream",
     "text": [
      "반지름을 입력하시오: 1\n",
      "원의 넓이 : 3.14\n"
     ]
    }
   ],
   "source": [
    "r = int(input('반지름을 입력하시오: '))\n",
    "print('원의 넓이 : {}'.format(r**2*3.14))"
   ]
  },
  {
   "cell_type": "markdown",
   "id": "096e9b28",
   "metadata": {},
   "source": [
    "과제 5"
   ]
  },
  {
   "cell_type": "code",
   "execution_count": 5,
   "id": "a6ecdf07",
   "metadata": {},
   "outputs": [
    {
     "name": "stdout",
     "output_type": "stream",
     "text": [
      "상품가격을 입력하시오: 1000\n",
      "지불할 금액을 입력하시오: 1760\n",
      "잔돈 760원 : 500원1개 100원2개 50원1개 10원1개 "
     ]
    }
   ],
   "source": [
    "price = int(input('상품가격을 입력하시오: '))\n",
    "pay = int(input('지불할 금액을 입력하시오: '))\n",
    "change = pay - price\n",
    "D = {500:0, 100:0, 50:0, 10:0}\n",
    "for won in D.keys():\n",
    "    D[won] = change//won\n",
    "    change = change % won\n",
    "print('잔돈 {}원 : '.format(pay-price),end='')\n",
    "for i in D:\n",
    "    print('{}원{}개 '.format(i,D[i]),end='')"
   ]
  },
  {
   "cell_type": "markdown",
   "id": "53209028",
   "metadata": {},
   "source": [
    "과제 6"
   ]
  },
  {
   "cell_type": "code",
   "execution_count": 6,
   "id": "38bddb82",
   "metadata": {},
   "outputs": [
    {
     "name": "stdout",
     "output_type": "stream",
     "text": [
      "홀짝 판별할 정수를 입력하시오: -3\n",
      "-3은 홀수입니다\n"
     ]
    }
   ],
   "source": [
    "num =int(input('홀짝 판별할 정수를 입력하시오: '))\n",
    "if num%2==0 : print('{}은 짝수입니다'.format(num))\n",
    "else : print('{}은 홀수입니다'.format(num))"
   ]
  },
  {
   "cell_type": "markdown",
   "id": "39a67362",
   "metadata": {},
   "source": [
    "과제 7"
   ]
  },
  {
   "cell_type": "code",
   "execution_count": 7,
   "id": "f485698a",
   "metadata": {},
   "outputs": [
    {
     "name": "stdout",
     "output_type": "stream",
     "text": [
      "*\n",
      "**\n",
      "***\n",
      "****\n",
      "*****\n"
     ]
    }
   ],
   "source": [
    "for i in range(5):\n",
    "    for j in range(5): \n",
    "        if j<=i : print('*',end='')\n",
    "    print()"
   ]
  },
  {
   "cell_type": "markdown",
   "id": "b733383a",
   "metadata": {},
   "source": [
    "과제 8"
   ]
  },
  {
   "cell_type": "code",
   "execution_count": 8,
   "id": "dac059ad",
   "metadata": {},
   "outputs": [
    {
     "name": "stdout",
     "output_type": "stream",
     "text": [
      "최댓값은 : 1000\n"
     ]
    }
   ],
   "source": [
    "L = [1,24,3,44,1000,2,0,74]\n",
    "max = None\n",
    "for i in range(len(L)):\n",
    "    if i == 0 : max = L[i]\n",
    "    if L[i] > max : max = L[i]\n",
    "print('최댓값은 : {}'.format(max))"
   ]
  },
  {
   "cell_type": "markdown",
   "id": "f66507db",
   "metadata": {},
   "source": [
    "과제 9"
   ]
  },
  {
   "cell_type": "code",
   "execution_count": 9,
   "id": "a36f15a8",
   "metadata": {},
   "outputs": [
    {
     "name": "stdout",
     "output_type": "stream",
     "text": [
      "48.2\n"
     ]
    }
   ],
   "source": [
    "def means(*args):    #입력 개수에 상관없이 사용하기 위해, 함수 입력 값 자리에 *args를 사용\n",
    "    return sum(args)/len(args)\n",
    "print(means(1, 5, 6, 7, 222))"
   ]
  },
  {
   "cell_type": "markdown",
   "id": "0b212c87",
   "metadata": {},
   "source": [
    "과제 10"
   ]
  },
  {
   "cell_type": "code",
   "execution_count": 10,
   "id": "cf823af6",
   "metadata": {},
   "outputs": [
    {
     "name": "stdout",
     "output_type": "stream",
     "text": [
      "random matrix\n",
      "[[-0.9747184   1.23465112]\n",
      " [ 0.26573621 -1.56751269]\n",
      " [ 1.5476355   0.47316159]\n",
      " [-1.51115242 -0.11574554]\n",
      " [-1.06443703  0.752339  ]] \n",
      "\n",
      "전체합: -0.9600426604763759, 전체평균: -0.0960042660476376 \n",
      "\n",
      "1행| 합: 0.2599327217467753, 평균: 0.12996636087338764\n",
      "2행| 합: -1.3017764799087526, 평균: -0.6508882399543763\n",
      "3행| 합: 2.020797087451684, 평균: 1.010398543725842\n",
      "4행| 합: -1.6268979615667496, 평균: -0.8134489807833748\n",
      "5행| 합: -0.3120980281993331, 평균: -0.15604901409966654\n",
      "\n",
      "1열| 합: -1.736936140818424, 평균: -0.34738722816368484\n",
      "2열| 합: 0.776893480342048, 평균: 0.1553786960684096\n"
     ]
    }
   ],
   "source": [
    "import numpy as np\n",
    "\n",
    "arr = np.random.randn(10)\n",
    "arr = arr.reshape(5,2)\n",
    "print('random matrix') ; print(arr, \"\\n\") \n",
    "print('전체합: {}, 전체평균: {}'.format(arr.sum(), arr.mean()), \"\\n\")\n",
    "row_sum = arr.sum(axis=1) ; row_mean = arr.mean(axis=1)\n",
    "col_sum = arr.sum(axis=0) ; col_mean = arr.mean(axis=0)\n",
    "for i in range(len(row_sum)):\n",
    "    print(\"{}행| 합: {}, 평균: {}\".format(i+1, row_sum[i], row_mean[i]))\n",
    "print()\n",
    "for j in range(len(col_sum)):\n",
    "    print(\"{}열| 합: {}, 평균: {}\".format(j+1, col_sum[j], col_mean[j]))"
   ]
  },
  {
   "cell_type": "markdown",
   "id": "59932c36",
   "metadata": {},
   "source": [
    "과제 11"
   ]
  },
  {
   "cell_type": "code",
   "execution_count": 11,
   "id": "ff066c36",
   "metadata": {},
   "outputs": [
    {
     "name": "stdout",
     "output_type": "stream",
     "text": [
      "11-(1)\n",
      "\n",
      "합격\n",
      "국어    70\n",
      "수학    80\n",
      "과학    90\n",
      "Name: 성적표, dtype: int64\n",
      "불합격\n",
      "영어    30\n",
      "Name: 성적표, dtype: int64\n",
      "\n",
      "11-(2)\n",
      "\n",
      "전체불합격\n"
     ]
    }
   ],
   "source": [
    "import pandas as pd\n",
    "\n",
    "print('11-(1)\\n')\n",
    "grade = {'국어':70,\"영어\":30,\"수학\":80,\"과학\":90}\n",
    "grade = pd.Series(grade, name=\"성적표\")\n",
    "print('합격') ; print(grade[grade >= 50])\n",
    "print('불합격') ; print(grade[grade < 50])\n",
    "\n",
    "print('\\n11-(2)\\n')\n",
    "if grade.mean() >= 70 : print('전체합격')\n",
    "else : print('전체불합격')"
   ]
  },
  {
   "cell_type": "markdown",
   "id": "aa17b47b",
   "metadata": {},
   "source": [
    "과제 12"
   ]
  },
  {
   "cell_type": "code",
   "execution_count": 12,
   "id": "479ecb8d",
   "metadata": {},
   "outputs": [
    {
     "data": {
      "text/html": [
       "<div>\n",
       "<style scoped>\n",
       "    .dataframe tbody tr th:only-of-type {\n",
       "        vertical-align: middle;\n",
       "    }\n",
       "\n",
       "    .dataframe tbody tr th {\n",
       "        vertical-align: top;\n",
       "    }\n",
       "\n",
       "    .dataframe thead th {\n",
       "        text-align: right;\n",
       "    }\n",
       "</style>\n",
       "<table border=\"1\" class=\"dataframe\">\n",
       "  <thead>\n",
       "    <tr style=\"text-align: right;\">\n",
       "      <th></th>\n",
       "      <th>학번</th>\n",
       "      <th>역할</th>\n",
       "    </tr>\n",
       "    <tr>\n",
       "      <th>이름</th>\n",
       "      <th></th>\n",
       "      <th></th>\n",
       "    </tr>\n",
       "  </thead>\n",
       "  <tbody>\n",
       "    <tr>\n",
       "      <th>아이린</th>\n",
       "      <td>16</td>\n",
       "      <td>교육팀장</td>\n",
       "    </tr>\n",
       "    <tr>\n",
       "      <th>슬기</th>\n",
       "      <td>17</td>\n",
       "      <td>교육팀원</td>\n",
       "    </tr>\n",
       "    <tr>\n",
       "      <th>예리</th>\n",
       "      <td>19</td>\n",
       "      <td>교육팀원</td>\n",
       "    </tr>\n",
       "    <tr>\n",
       "      <th>조이</th>\n",
       "      <td>16</td>\n",
       "      <td>교육팀원</td>\n",
       "    </tr>\n",
       "  </tbody>\n",
       "</table>\n",
       "</div>"
      ],
      "text/plain": [
       "     학번    역할\n",
       "이름           \n",
       "아이린  16  교육팀장\n",
       "슬기   17  교육팀원\n",
       "예리   19  교육팀원\n",
       "조이   16  교육팀원"
      ]
     },
     "execution_count": 12,
     "metadata": {},
     "output_type": "execute_result"
    }
   ],
   "source": [
    "import pandas as pd\n",
    "\n",
    "lst = [['웬디', 15, '커뮤', 'AI', '회장'], ['아이린', 16, '경영', '심리', '교육팀장'],\n",
    "       ['슬기', 17, '경영', '빅사', '교육팀원'], ['예리', 19, '경영', '빅사', '교육팀원'],\n",
    "       ['조이', 16, '경제', '빅사', '교육팀원']]\n",
    "\n",
    "df = pd.DataFrame(lst, columns=['이름', '학번', '전공', '복수전공', '역할'])\n",
    "df = df.set_index('이름')\n",
    "\n",
    "df.loc['아이린':'조이',['학번','역할']]"
   ]
  },
  {
   "cell_type": "markdown",
   "id": "eb8ce624",
   "metadata": {},
   "source": [
    "과제 13"
   ]
  },
  {
   "cell_type": "code",
   "execution_count": 13,
   "id": "26aebd7a",
   "metadata": {},
   "outputs": [
    {
     "data": {
      "text/html": [
       "<div>\n",
       "<style scoped>\n",
       "    .dataframe tbody tr th:only-of-type {\n",
       "        vertical-align: middle;\n",
       "    }\n",
       "\n",
       "    .dataframe tbody tr th {\n",
       "        vertical-align: top;\n",
       "    }\n",
       "\n",
       "    .dataframe thead th {\n",
       "        text-align: right;\n",
       "    }\n",
       "</style>\n",
       "<table border=\"1\" class=\"dataframe\">\n",
       "  <thead>\n",
       "    <tr style=\"text-align: right;\">\n",
       "      <th></th>\n",
       "      <th>학번</th>\n",
       "      <th>전공</th>\n",
       "      <th>복수전공</th>\n",
       "      <th>역할</th>\n",
       "    </tr>\n",
       "    <tr>\n",
       "      <th>이름</th>\n",
       "      <th></th>\n",
       "      <th></th>\n",
       "      <th></th>\n",
       "      <th></th>\n",
       "    </tr>\n",
       "  </thead>\n",
       "  <tbody>\n",
       "    <tr>\n",
       "      <th>웬디</th>\n",
       "      <td>15</td>\n",
       "      <td>커뮤</td>\n",
       "      <td>AI</td>\n",
       "      <td>회장</td>\n",
       "    </tr>\n",
       "    <tr>\n",
       "      <th>아이린</th>\n",
       "      <td>16</td>\n",
       "      <td>경영</td>\n",
       "      <td>심리</td>\n",
       "      <td>교육팀장</td>\n",
       "    </tr>\n",
       "    <tr>\n",
       "      <th>슬기</th>\n",
       "      <td>17</td>\n",
       "      <td>경영</td>\n",
       "      <td>빅사</td>\n",
       "      <td>교육팀원</td>\n",
       "    </tr>\n",
       "    <tr>\n",
       "      <th>예리</th>\n",
       "      <td>19</td>\n",
       "      <td>경영</td>\n",
       "      <td>빅사</td>\n",
       "      <td>교육팀원</td>\n",
       "    </tr>\n",
       "    <tr>\n",
       "      <th>조이</th>\n",
       "      <td>16</td>\n",
       "      <td>경제</td>\n",
       "      <td>빅사</td>\n",
       "      <td>교육팀원</td>\n",
       "    </tr>\n",
       "  </tbody>\n",
       "</table>\n",
       "</div>"
      ],
      "text/plain": [
       "     학번  전공 복수전공    역할\n",
       "이름                    \n",
       "웬디   15  커뮤   AI    회장\n",
       "아이린  16  경영   심리  교육팀장\n",
       "슬기   17  경영   빅사  교육팀원\n",
       "예리   19  경영   빅사  교육팀원\n",
       "조이   16  경제   빅사  교육팀원"
      ]
     },
     "execution_count": 13,
     "metadata": {},
     "output_type": "execute_result"
    }
   ],
   "source": [
    "df"
   ]
  },
  {
   "cell_type": "code",
   "execution_count": 14,
   "id": "ab128734",
   "metadata": {},
   "outputs": [
    {
     "data": {
      "text/html": [
       "<div>\n",
       "<style scoped>\n",
       "    .dataframe tbody tr th:only-of-type {\n",
       "        vertical-align: middle;\n",
       "    }\n",
       "\n",
       "    .dataframe tbody tr th {\n",
       "        vertical-align: top;\n",
       "    }\n",
       "\n",
       "    .dataframe thead th {\n",
       "        text-align: right;\n",
       "    }\n",
       "</style>\n",
       "<table border=\"1\" class=\"dataframe\">\n",
       "  <thead>\n",
       "    <tr style=\"text-align: right;\">\n",
       "      <th></th>\n",
       "      <th>학번</th>\n",
       "      <th>전공</th>\n",
       "      <th>복수전공</th>\n",
       "      <th>역할</th>\n",
       "      <th>과제제출여부</th>\n",
       "    </tr>\n",
       "    <tr>\n",
       "      <th>이름</th>\n",
       "      <th></th>\n",
       "      <th></th>\n",
       "      <th></th>\n",
       "      <th></th>\n",
       "      <th></th>\n",
       "    </tr>\n",
       "  </thead>\n",
       "  <tbody>\n",
       "    <tr>\n",
       "      <th>웬디</th>\n",
       "      <td>15</td>\n",
       "      <td>커뮤</td>\n",
       "      <td>AI</td>\n",
       "      <td>회장</td>\n",
       "      <td>yes</td>\n",
       "    </tr>\n",
       "    <tr>\n",
       "      <th>아이린</th>\n",
       "      <td>16</td>\n",
       "      <td>경영</td>\n",
       "      <td>심리</td>\n",
       "      <td>교육팀장</td>\n",
       "      <td>yes</td>\n",
       "    </tr>\n",
       "    <tr>\n",
       "      <th>슬기</th>\n",
       "      <td>17</td>\n",
       "      <td>경영</td>\n",
       "      <td>빅사</td>\n",
       "      <td>교육팀원</td>\n",
       "      <td>yes</td>\n",
       "    </tr>\n",
       "    <tr>\n",
       "      <th>예리</th>\n",
       "      <td>19</td>\n",
       "      <td>경영</td>\n",
       "      <td>빅사</td>\n",
       "      <td>교육팀원</td>\n",
       "      <td>yes</td>\n",
       "    </tr>\n",
       "    <tr>\n",
       "      <th>조이</th>\n",
       "      <td>16</td>\n",
       "      <td>경제</td>\n",
       "      <td>빅사</td>\n",
       "      <td>교육팀원</td>\n",
       "      <td>yes</td>\n",
       "    </tr>\n",
       "    <tr>\n",
       "      <th>정찬빈</th>\n",
       "      <td>19</td>\n",
       "      <td>경영</td>\n",
       "      <td>빅사</td>\n",
       "      <td>인싸담당</td>\n",
       "      <td>yes</td>\n",
       "    </tr>\n",
       "    <tr>\n",
       "      <th>최준혁</th>\n",
       "      <td>18</td>\n",
       "      <td>경제</td>\n",
       "      <td>빅사</td>\n",
       "      <td>아싸담당</td>\n",
       "      <td>yes</td>\n",
       "    </tr>\n",
       "  </tbody>\n",
       "</table>\n",
       "</div>"
      ],
      "text/plain": [
       "     학번  전공 복수전공    역할 과제제출여부\n",
       "이름                           \n",
       "웬디   15  커뮤   AI    회장    yes\n",
       "아이린  16  경영   심리  교육팀장    yes\n",
       "슬기   17  경영   빅사  교육팀원    yes\n",
       "예리   19  경영   빅사  교육팀원    yes\n",
       "조이   16  경제   빅사  교육팀원    yes\n",
       "정찬빈  19  경영   빅사  인싸담당    yes\n",
       "최준혁  18  경제   빅사  아싸담당    yes"
      ]
     },
     "execution_count": 14,
     "metadata": {},
     "output_type": "execute_result"
    }
   ],
   "source": [
    "df_new3 = df.copy()\n",
    "df_new3.loc['정찬빈'] = [19, '경영', '빅사', '인싸담당']\n",
    "df_new3.loc['최준혁'] = [18, '경제', '빅사', '아싸담당']\n",
    "df_new3['과제제출여부'] = 'yes'\n",
    "\n",
    "df_new3"
   ]
  }
 ],
 "metadata": {
  "kernelspec": {
   "display_name": "Python 3 (ipykernel)",
   "language": "python",
   "name": "python3"
  },
  "language_info": {
   "codemirror_mode": {
    "name": "ipython",
    "version": 3
   },
   "file_extension": ".py",
   "mimetype": "text/x-python",
   "name": "python",
   "nbconvert_exporter": "python",
   "pygments_lexer": "ipython3",
   "version": "3.9.7"
  }
 },
 "nbformat": 4,
 "nbformat_minor": 5
}
