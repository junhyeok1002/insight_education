{
 "cells": [
  {
   "cell_type": "markdown",
   "metadata": {},
   "source": [
    "# Pandas란?\n",
    "- 데이터 분석에 특화된 파이썬 라이브러리\n",
    "- 행과 열로 이루어진 데이터 객체를 만들어 다룰 수 있게 되며, 보다 안정적으로 대용량의 데이터들을 처리하는데 매우 편리한 도구\n",
    "- Numpy의 확장판으로, `Numpy 기능` + `구조화 된 데이터 처리 기능`을 보유함"
   ]
  },
  {
   "cell_type": "markdown",
   "metadata": {},
   "source": [
    "## Pandas의 주요 데이터 구조\n",
    "\n",
    "<img src = 'https://dandyrilla.github.io/images/2017-08-12/fig0.png'>\n",
    "\n",
    "|이름|차원|설명|\n",
    "|:-----------:|:-----------:|:-----------:|\n",
    "|Series|1차원|균일한 유형의 배열로 표시된 1차원 데이터|\n",
    "|DataFrame|2차원|인덱스가 같은 하나 이상의 Series가 모여진 2차원 표 형식의 데이터|\n",
    "\n",
    "> Pandas의 핵심은 DataFrame!"
   ]
  },
  {
   "cell_type": "markdown",
   "metadata": {},
   "source": [
    "# DataFrame 생성"
   ]
  },
  {
   "cell_type": "markdown",
   "metadata": {},
   "source": [
    "## 라이브러리 불러오기"
   ]
  },
  {
   "cell_type": "code",
   "execution_count": 1,
   "metadata": {
    "ExecuteTime": {
     "end_time": "2022-09-07T11:24:35.748449Z",
     "start_time": "2022-09-07T11:24:35.393679Z"
    }
   },
   "outputs": [],
   "source": [
    "import pandas as pd"
   ]
  },
  {
   "cell_type": "markdown",
   "metadata": {},
   "source": [
    "## 데이터프레임 만들기 "
   ]
  },
  {
   "cell_type": "code",
   "execution_count": 2,
   "metadata": {
    "ExecuteTime": {
     "end_time": "2022-08-30T06:48:31.820860Z",
     "start_time": "2022-08-30T06:48:31.809807Z"
    }
   },
   "outputs": [
    {
     "data": {
      "text/html": [
       "<div>\n",
       "<style scoped>\n",
       "    .dataframe tbody tr th:only-of-type {\n",
       "        vertical-align: middle;\n",
       "    }\n",
       "\n",
       "    .dataframe tbody tr th {\n",
       "        vertical-align: top;\n",
       "    }\n",
       "\n",
       "    .dataframe thead th {\n",
       "        text-align: right;\n",
       "    }\n",
       "</style>\n",
       "<table border=\"1\" class=\"dataframe\">\n",
       "  <thead>\n",
       "    <tr style=\"text-align: right;\">\n",
       "      <th></th>\n",
       "    </tr>\n",
       "  </thead>\n",
       "  <tbody>\n",
       "  </tbody>\n",
       "</table>\n",
       "</div>"
      ],
      "text/plain": [
       "Empty DataFrame\n",
       "Columns: []\n",
       "Index: []"
      ]
     },
     "execution_count": 2,
     "metadata": {},
     "output_type": "execute_result"
    }
   ],
   "source": [
    "# 괄호 안에서 Shift + Tab을 눌러보세요!\n",
    "pd.DataFrame()"
   ]
  },
  {
   "cell_type": "markdown",
   "metadata": {},
   "source": [
    "**DataFrame의 속성값**\n",
    "```python\n",
    "pd.DataFrame(data = None, index = None, columns = None, dtype = None, copy = False)\n",
    "```\n",
    "- data : DataFrame을 생성할 데이터\n",
    "- index : index에 대한 정보, 미입력시 0부터 순차적으로 부여 (Optional)\n",
    "- columns : 열에 대한 이름값, 미입력시 0부터 순차적으로 부여 (Optional)\n",
    "- dtype : 각 column의 데이터 타입 명시, 미입력시 자체적으로 판단 (Optional)"
   ]
  },
  {
   "cell_type": "markdown",
   "metadata": {},
   "source": [
    "##### 2차원 리스트로 데이터프레임 만들기"
   ]
  },
  {
   "cell_type": "code",
   "execution_count": 3,
   "metadata": {
    "ExecuteTime": {
     "end_time": "2022-08-30T06:49:07.528997Z",
     "start_time": "2022-08-30T06:49:07.513484Z"
    }
   },
   "outputs": [
    {
     "data": {
      "text/html": [
       "<div>\n",
       "<style scoped>\n",
       "    .dataframe tbody tr th:only-of-type {\n",
       "        vertical-align: middle;\n",
       "    }\n",
       "\n",
       "    .dataframe tbody tr th {\n",
       "        vertical-align: top;\n",
       "    }\n",
       "\n",
       "    .dataframe thead th {\n",
       "        text-align: right;\n",
       "    }\n",
       "</style>\n",
       "<table border=\"1\" class=\"dataframe\">\n",
       "  <thead>\n",
       "    <tr style=\"text-align: right;\">\n",
       "      <th></th>\n",
       "      <th>학번</th>\n",
       "      <th>전공</th>\n",
       "      <th>복수전공</th>\n",
       "      <th>역할</th>\n",
       "    </tr>\n",
       "    <tr>\n",
       "      <th>이름</th>\n",
       "      <th></th>\n",
       "      <th></th>\n",
       "      <th></th>\n",
       "      <th></th>\n",
       "    </tr>\n",
       "  </thead>\n",
       "  <tbody>\n",
       "    <tr>\n",
       "      <th>웬디</th>\n",
       "      <td>15</td>\n",
       "      <td>커뮤</td>\n",
       "      <td>AI</td>\n",
       "      <td>회장</td>\n",
       "    </tr>\n",
       "    <tr>\n",
       "      <th>아이린</th>\n",
       "      <td>16</td>\n",
       "      <td>경영</td>\n",
       "      <td>심리</td>\n",
       "      <td>교육팀장</td>\n",
       "    </tr>\n",
       "    <tr>\n",
       "      <th>슬기</th>\n",
       "      <td>17</td>\n",
       "      <td>경영</td>\n",
       "      <td>빅사</td>\n",
       "      <td>교육팀원</td>\n",
       "    </tr>\n",
       "    <tr>\n",
       "      <th>예리</th>\n",
       "      <td>19</td>\n",
       "      <td>경영</td>\n",
       "      <td>빅사</td>\n",
       "      <td>교육팀원</td>\n",
       "    </tr>\n",
       "    <tr>\n",
       "      <th>조이</th>\n",
       "      <td>16</td>\n",
       "      <td>경제</td>\n",
       "      <td>빅사</td>\n",
       "      <td>교육팀원</td>\n",
       "    </tr>\n",
       "  </tbody>\n",
       "</table>\n",
       "</div>"
      ],
      "text/plain": [
       "     학번  전공 복수전공    역할\n",
       "이름                    \n",
       "웬디   15  커뮤   AI    회장\n",
       "아이린  16  경영   심리  교육팀장\n",
       "슬기   17  경영   빅사  교육팀원\n",
       "예리   19  경영   빅사  교육팀원\n",
       "조이   16  경제   빅사  교육팀원"
      ]
     },
     "execution_count": 3,
     "metadata": {},
     "output_type": "execute_result"
    }
   ],
   "source": [
    "lst = [['웬디', 15, '커뮤', 'AI', '회장'], ['아이린', 16, '경영', '심리', '교육팀장'],\n",
    "       ['슬기', 17, '경영', '빅사', '교육팀원'], ['예리', 19, '경영', '빅사', '교육팀원'],\n",
    "       ['조이', 16, '경제', '빅사', '교육팀원']]\n",
    "\n",
    "df = pd.DataFrame(lst, columns=['이름', '학번', '전공', '복수전공', '역할'])\n",
    "df = df.set_index('이름')\n",
    "\n",
    "df"
   ]
  },
  {
   "cell_type": "markdown",
   "metadata": {},
   "source": [
    "##### 사전으로 데이터프레임 만들기"
   ]
  },
  {
   "cell_type": "code",
   "execution_count": 4,
   "metadata": {
    "ExecuteTime": {
     "end_time": "2022-08-30T06:49:14.870284Z",
     "start_time": "2022-08-30T06:49:14.849836Z"
    }
   },
   "outputs": [
    {
     "data": {
      "text/html": [
       "<div>\n",
       "<style scoped>\n",
       "    .dataframe tbody tr th:only-of-type {\n",
       "        vertical-align: middle;\n",
       "    }\n",
       "\n",
       "    .dataframe tbody tr th {\n",
       "        vertical-align: top;\n",
       "    }\n",
       "\n",
       "    .dataframe thead th {\n",
       "        text-align: right;\n",
       "    }\n",
       "</style>\n",
       "<table border=\"1\" class=\"dataframe\">\n",
       "  <thead>\n",
       "    <tr style=\"text-align: right;\">\n",
       "      <th></th>\n",
       "      <th>학번</th>\n",
       "      <th>전공</th>\n",
       "      <th>복수전공</th>\n",
       "      <th>역할</th>\n",
       "    </tr>\n",
       "    <tr>\n",
       "      <th>이름</th>\n",
       "      <th></th>\n",
       "      <th></th>\n",
       "      <th></th>\n",
       "      <th></th>\n",
       "    </tr>\n",
       "  </thead>\n",
       "  <tbody>\n",
       "    <tr>\n",
       "      <th>웬디</th>\n",
       "      <td>15</td>\n",
       "      <td>커뮤</td>\n",
       "      <td>AI</td>\n",
       "      <td>회장</td>\n",
       "    </tr>\n",
       "    <tr>\n",
       "      <th>아이린</th>\n",
       "      <td>16</td>\n",
       "      <td>경영</td>\n",
       "      <td>심리</td>\n",
       "      <td>교육팀장</td>\n",
       "    </tr>\n",
       "    <tr>\n",
       "      <th>슬기</th>\n",
       "      <td>17</td>\n",
       "      <td>경영</td>\n",
       "      <td>빅사</td>\n",
       "      <td>교육팀원</td>\n",
       "    </tr>\n",
       "    <tr>\n",
       "      <th>예리</th>\n",
       "      <td>19</td>\n",
       "      <td>경영</td>\n",
       "      <td>빅사</td>\n",
       "      <td>교육팀원</td>\n",
       "    </tr>\n",
       "    <tr>\n",
       "      <th>조이</th>\n",
       "      <td>16</td>\n",
       "      <td>경제</td>\n",
       "      <td>빅사</td>\n",
       "      <td>교육팀원</td>\n",
       "    </tr>\n",
       "  </tbody>\n",
       "</table>\n",
       "</div>"
      ],
      "text/plain": [
       "     학번  전공 복수전공    역할\n",
       "이름                    \n",
       "웬디   15  커뮤   AI    회장\n",
       "아이린  16  경영   심리  교육팀장\n",
       "슬기   17  경영   빅사  교육팀원\n",
       "예리   19  경영   빅사  교육팀원\n",
       "조이   16  경제   빅사  교육팀원"
      ]
     },
     "execution_count": 4,
     "metadata": {},
     "output_type": "execute_result"
    }
   ],
   "source": [
    "dic = {\n",
    "    '이름': ['웬디', '아이린', '슬기', '예리', '조이'],\n",
    "    '학번': [15, 16, 17, 19, 16],\n",
    "    '전공': ['커뮤', '경영', '경영', '경영', '경제'],\n",
    "    '복수전공': ['AI', '심리', '빅사', '빅사', '빅사'],\n",
    "    '역할': ['회장', '교육팀장', '교육팀원', '교육팀원', '교육팀원']\n",
    "}\n",
    "\n",
    "df2 = pd.DataFrame(dic)\n",
    "df2 = df2.set_index('이름')\n",
    "\n",
    "df2"
   ]
  },
  {
   "cell_type": "markdown",
   "metadata": {},
   "source": [
    "## 데이터프레임 타입 확인 "
   ]
  },
  {
   "cell_type": "code",
   "execution_count": 5,
   "metadata": {
    "ExecuteTime": {
     "end_time": "2022-08-30T06:49:18.631754Z",
     "start_time": "2022-08-30T06:49:18.626738Z"
    }
   },
   "outputs": [
    {
     "data": {
      "text/plain": [
       "pandas.core.frame.DataFrame"
      ]
     },
     "execution_count": 5,
     "metadata": {},
     "output_type": "execute_result"
    }
   ],
   "source": [
    "type(df)"
   ]
  },
  {
   "cell_type": "code",
   "execution_count": 6,
   "metadata": {
    "ExecuteTime": {
     "end_time": "2022-08-30T06:49:24.584726Z",
     "start_time": "2022-08-30T06:49:24.570443Z"
    }
   },
   "outputs": [
    {
     "data": {
      "text/plain": [
       "학번       int64\n",
       "전공      object\n",
       "복수전공    object\n",
       "역할      object\n",
       "dtype: object"
      ]
     },
     "execution_count": 6,
     "metadata": {},
     "output_type": "execute_result"
    }
   ],
   "source": [
    "# 컬럼별 데이터 타입 확인\n",
    "# 각 컬럼은 다양한 데이터 타입으로 구성되며, 같은 컬럼의 데이터 타입은 동일하다\n",
    "df.dtypes"
   ]
  },
  {
   "cell_type": "markdown",
   "metadata": {},
   "source": [
    "# DataFrame 접근"
   ]
  },
  {
   "cell_type": "markdown",
   "metadata": {},
   "source": [
    "## head, tail로 접근하기"
   ]
  },
  {
   "cell_type": "markdown",
   "metadata": {},
   "source": [
    "- `head(개수)` : 위에서부터 개수만큼의 데이터 출력\n",
    "- `tail(개수)` : 밑에서부터 개수만큼의 데이터 출력"
   ]
  },
  {
   "cell_type": "code",
   "execution_count": 7,
   "metadata": {
    "ExecuteTime": {
     "end_time": "2022-08-30T06:49:29.289001Z",
     "start_time": "2022-08-30T06:49:29.283001Z"
    }
   },
   "outputs": [
    {
     "data": {
      "text/html": [
       "<div>\n",
       "<style scoped>\n",
       "    .dataframe tbody tr th:only-of-type {\n",
       "        vertical-align: middle;\n",
       "    }\n",
       "\n",
       "    .dataframe tbody tr th {\n",
       "        vertical-align: top;\n",
       "    }\n",
       "\n",
       "    .dataframe thead th {\n",
       "        text-align: right;\n",
       "    }\n",
       "</style>\n",
       "<table border=\"1\" class=\"dataframe\">\n",
       "  <thead>\n",
       "    <tr style=\"text-align: right;\">\n",
       "      <th></th>\n",
       "      <th>학번</th>\n",
       "      <th>전공</th>\n",
       "      <th>복수전공</th>\n",
       "      <th>역할</th>\n",
       "    </tr>\n",
       "    <tr>\n",
       "      <th>이름</th>\n",
       "      <th></th>\n",
       "      <th></th>\n",
       "      <th></th>\n",
       "      <th></th>\n",
       "    </tr>\n",
       "  </thead>\n",
       "  <tbody>\n",
       "    <tr>\n",
       "      <th>웬디</th>\n",
       "      <td>15</td>\n",
       "      <td>커뮤</td>\n",
       "      <td>AI</td>\n",
       "      <td>회장</td>\n",
       "    </tr>\n",
       "    <tr>\n",
       "      <th>아이린</th>\n",
       "      <td>16</td>\n",
       "      <td>경영</td>\n",
       "      <td>심리</td>\n",
       "      <td>교육팀장</td>\n",
       "    </tr>\n",
       "    <tr>\n",
       "      <th>슬기</th>\n",
       "      <td>17</td>\n",
       "      <td>경영</td>\n",
       "      <td>빅사</td>\n",
       "      <td>교육팀원</td>\n",
       "    </tr>\n",
       "  </tbody>\n",
       "</table>\n",
       "</div>"
      ],
      "text/plain": [
       "     학번  전공 복수전공    역할\n",
       "이름                    \n",
       "웬디   15  커뮤   AI    회장\n",
       "아이린  16  경영   심리  교육팀장\n",
       "슬기   17  경영   빅사  교육팀원"
      ]
     },
     "execution_count": 7,
     "metadata": {},
     "output_type": "execute_result"
    }
   ],
   "source": [
    "df.head(3)"
   ]
  },
  {
   "cell_type": "code",
   "execution_count": 8,
   "metadata": {
    "ExecuteTime": {
     "end_time": "2022-08-30T06:49:31.338519Z",
     "start_time": "2022-08-30T06:49:31.329866Z"
    }
   },
   "outputs": [
    {
     "data": {
      "text/html": [
       "<div>\n",
       "<style scoped>\n",
       "    .dataframe tbody tr th:only-of-type {\n",
       "        vertical-align: middle;\n",
       "    }\n",
       "\n",
       "    .dataframe tbody tr th {\n",
       "        vertical-align: top;\n",
       "    }\n",
       "\n",
       "    .dataframe thead th {\n",
       "        text-align: right;\n",
       "    }\n",
       "</style>\n",
       "<table border=\"1\" class=\"dataframe\">\n",
       "  <thead>\n",
       "    <tr style=\"text-align: right;\">\n",
       "      <th></th>\n",
       "      <th>학번</th>\n",
       "      <th>전공</th>\n",
       "      <th>복수전공</th>\n",
       "      <th>역할</th>\n",
       "    </tr>\n",
       "    <tr>\n",
       "      <th>이름</th>\n",
       "      <th></th>\n",
       "      <th></th>\n",
       "      <th></th>\n",
       "      <th></th>\n",
       "    </tr>\n",
       "  </thead>\n",
       "  <tbody>\n",
       "    <tr>\n",
       "      <th>웬디</th>\n",
       "      <td>15</td>\n",
       "      <td>커뮤</td>\n",
       "      <td>AI</td>\n",
       "      <td>회장</td>\n",
       "    </tr>\n",
       "    <tr>\n",
       "      <th>아이린</th>\n",
       "      <td>16</td>\n",
       "      <td>경영</td>\n",
       "      <td>심리</td>\n",
       "      <td>교육팀장</td>\n",
       "    </tr>\n",
       "    <tr>\n",
       "      <th>슬기</th>\n",
       "      <td>17</td>\n",
       "      <td>경영</td>\n",
       "      <td>빅사</td>\n",
       "      <td>교육팀원</td>\n",
       "    </tr>\n",
       "    <tr>\n",
       "      <th>예리</th>\n",
       "      <td>19</td>\n",
       "      <td>경영</td>\n",
       "      <td>빅사</td>\n",
       "      <td>교육팀원</td>\n",
       "    </tr>\n",
       "    <tr>\n",
       "      <th>조이</th>\n",
       "      <td>16</td>\n",
       "      <td>경제</td>\n",
       "      <td>빅사</td>\n",
       "      <td>교육팀원</td>\n",
       "    </tr>\n",
       "  </tbody>\n",
       "</table>\n",
       "</div>"
      ],
      "text/plain": [
       "     학번  전공 복수전공    역할\n",
       "이름                    \n",
       "웬디   15  커뮤   AI    회장\n",
       "아이린  16  경영   심리  교육팀장\n",
       "슬기   17  경영   빅사  교육팀원\n",
       "예리   19  경영   빅사  교육팀원\n",
       "조이   16  경제   빅사  교육팀원"
      ]
     },
     "execution_count": 8,
     "metadata": {},
     "output_type": "execute_result"
    }
   ],
   "source": [
    "df.tail() #개수를 쓰지 않을 경우 5개만 출력"
   ]
  },
  {
   "cell_type": "markdown",
   "metadata": {},
   "source": [
    "## 행명, 열명으로 접근하기: loc\n",
    ": `df.loc['행명', '열명']`\n",
    "\n",
    "행: row / 열: column\n",
    "\n",
    "|접근 방법|사용 방법|\n",
    "|:--------------------------:|:-----------:|\n",
    "|행명|`df.loc[\"row4\"]`|\n",
    "|행명 리스트|`df.loc[[\"row3\", \"row4\", \"row5\"]]`|\n",
    "|행명 슬라이싱|`df[\"row3\" : \"row5\"]`|\n",
    "|열명|`df.loc[ : , \"col1\"]`|`df[\"col1\"]`|\n",
    "|열명 리스트|`df.loc[ : , [\"col3\", \"col4\", \"col5\"]` or `df[[\"col3\", \"col4\", \"col5\"]]`|\n",
    "|열명 슬라이싱|`df.loc[ : , [\"col3\" : \"col5\"]`|"
   ]
  },
  {
   "cell_type": "markdown",
   "metadata": {},
   "source": [
    "##### 값 1개 인덱싱"
   ]
  },
  {
   "cell_type": "code",
   "execution_count": 9,
   "metadata": {
    "ExecuteTime": {
     "end_time": "2022-08-30T06:49:41.110387Z",
     "start_time": "2022-08-30T06:49:41.104149Z"
    }
   },
   "outputs": [
    {
     "data": {
      "text/plain": [
       "'교육팀장'"
      ]
     },
     "execution_count": 9,
     "metadata": {},
     "output_type": "execute_result"
    }
   ],
   "source": [
    "df.loc['아이린', '역할']"
   ]
  },
  {
   "cell_type": "code",
   "execution_count": 10,
   "metadata": {
    "ExecuteTime": {
     "end_time": "2022-08-30T06:49:44.007960Z",
     "start_time": "2022-08-30T06:49:43.994683Z"
    }
   },
   "outputs": [
    {
     "data": {
      "text/html": [
       "<div>\n",
       "<style scoped>\n",
       "    .dataframe tbody tr th:only-of-type {\n",
       "        vertical-align: middle;\n",
       "    }\n",
       "\n",
       "    .dataframe tbody tr th {\n",
       "        vertical-align: top;\n",
       "    }\n",
       "\n",
       "    .dataframe thead th {\n",
       "        text-align: right;\n",
       "    }\n",
       "</style>\n",
       "<table border=\"1\" class=\"dataframe\">\n",
       "  <thead>\n",
       "    <tr style=\"text-align: right;\">\n",
       "      <th></th>\n",
       "      <th>전공</th>\n",
       "    </tr>\n",
       "    <tr>\n",
       "      <th>이름</th>\n",
       "      <th></th>\n",
       "    </tr>\n",
       "  </thead>\n",
       "  <tbody>\n",
       "    <tr>\n",
       "      <th>웬디</th>\n",
       "      <td>커뮤</td>\n",
       "    </tr>\n",
       "    <tr>\n",
       "      <th>아이린</th>\n",
       "      <td>경영</td>\n",
       "    </tr>\n",
       "    <tr>\n",
       "      <th>슬기</th>\n",
       "      <td>경영</td>\n",
       "    </tr>\n",
       "    <tr>\n",
       "      <th>예리</th>\n",
       "      <td>경영</td>\n",
       "    </tr>\n",
       "    <tr>\n",
       "      <th>조이</th>\n",
       "      <td>경제</td>\n",
       "    </tr>\n",
       "  </tbody>\n",
       "</table>\n",
       "</div>"
      ],
      "text/plain": [
       "     전공\n",
       "이름     \n",
       "웬디   커뮤\n",
       "아이린  경영\n",
       "슬기   경영\n",
       "예리   경영\n",
       "조이   경제"
      ]
     },
     "execution_count": 10,
     "metadata": {},
     "output_type": "execute_result"
    }
   ],
   "source": [
    "df[['전공']]"
   ]
  },
  {
   "cell_type": "markdown",
   "metadata": {},
   "source": [
    "##### 한 줄 인덱싱\n",
    "- 하나의 index만 조회 할 경우 Series Type으로 출력"
   ]
  },
  {
   "cell_type": "code",
   "execution_count": 11,
   "metadata": {
    "ExecuteTime": {
     "end_time": "2022-08-30T06:49:46.951457Z",
     "start_time": "2022-08-30T06:49:46.938842Z"
    }
   },
   "outputs": [
    {
     "data": {
      "text/plain": [
       "학번        17\n",
       "전공        경영\n",
       "복수전공      빅사\n",
       "역할      교육팀원\n",
       "Name: 슬기, dtype: object"
      ]
     },
     "execution_count": 11,
     "metadata": {},
     "output_type": "execute_result"
    }
   ],
   "source": [
    "# 행명으로 접근하기\n",
    "# 컬럼 전체를 지정한다는 의미로 : 를 입력함\n",
    "df.loc['슬기', : ]  # df.loc['슬기']"
   ]
  },
  {
   "cell_type": "code",
   "execution_count": 12,
   "metadata": {
    "ExecuteTime": {
     "end_time": "2022-08-30T06:49:57.622125Z",
     "start_time": "2022-08-30T06:49:57.618259Z"
    }
   },
   "outputs": [
    {
     "data": {
      "text/plain": [
       "이름\n",
       "웬디     커뮤\n",
       "아이린    경영\n",
       "슬기     경영\n",
       "예리     경영\n",
       "조이     경제\n",
       "Name: 전공, dtype: object"
      ]
     },
     "execution_count": 12,
     "metadata": {},
     "output_type": "execute_result"
    }
   ],
   "source": [
    "# 열명으로 접근하기\n",
    "df.loc[ : , '전공']  #df['전공']  #df.전공"
   ]
  },
  {
   "cell_type": "markdown",
   "metadata": {},
   "source": [
    "##### 여러 줄 인덱싱\n",
    "- 여러 index를 조회 할 경우 DataFrame Type으로 출력"
   ]
  },
  {
   "cell_type": "code",
   "execution_count": 13,
   "metadata": {
    "ExecuteTime": {
     "end_time": "2022-08-30T06:50:13.556524Z",
     "start_time": "2022-08-30T06:50:13.539193Z"
    }
   },
   "outputs": [
    {
     "data": {
      "text/html": [
       "<div>\n",
       "<style scoped>\n",
       "    .dataframe tbody tr th:only-of-type {\n",
       "        vertical-align: middle;\n",
       "    }\n",
       "\n",
       "    .dataframe tbody tr th {\n",
       "        vertical-align: top;\n",
       "    }\n",
       "\n",
       "    .dataframe thead th {\n",
       "        text-align: right;\n",
       "    }\n",
       "</style>\n",
       "<table border=\"1\" class=\"dataframe\">\n",
       "  <thead>\n",
       "    <tr style=\"text-align: right;\">\n",
       "      <th></th>\n",
       "      <th>학번</th>\n",
       "      <th>전공</th>\n",
       "      <th>복수전공</th>\n",
       "      <th>역할</th>\n",
       "    </tr>\n",
       "    <tr>\n",
       "      <th>이름</th>\n",
       "      <th></th>\n",
       "      <th></th>\n",
       "      <th></th>\n",
       "      <th></th>\n",
       "    </tr>\n",
       "  </thead>\n",
       "  <tbody>\n",
       "    <tr>\n",
       "      <th>웬디</th>\n",
       "      <td>15</td>\n",
       "      <td>커뮤</td>\n",
       "      <td>AI</td>\n",
       "      <td>회장</td>\n",
       "    </tr>\n",
       "    <tr>\n",
       "      <th>조이</th>\n",
       "      <td>16</td>\n",
       "      <td>경제</td>\n",
       "      <td>빅사</td>\n",
       "      <td>교육팀원</td>\n",
       "    </tr>\n",
       "  </tbody>\n",
       "</table>\n",
       "</div>"
      ],
      "text/plain": [
       "    학번  전공 복수전공    역할\n",
       "이름                   \n",
       "웬디  15  커뮤   AI    회장\n",
       "조이  16  경제   빅사  교육팀원"
      ]
     },
     "execution_count": 13,
     "metadata": {},
     "output_type": "execute_result"
    }
   ],
   "source": [
    "df.loc[['웬디', '조이'], : ]  #df.loc[[웬디', '조이']]"
   ]
  },
  {
   "cell_type": "code",
   "execution_count": 14,
   "metadata": {
    "ExecuteTime": {
     "end_time": "2022-08-30T06:50:17.607155Z",
     "start_time": "2022-08-30T06:50:17.594404Z"
    }
   },
   "outputs": [
    {
     "data": {
      "text/html": [
       "<div>\n",
       "<style scoped>\n",
       "    .dataframe tbody tr th:only-of-type {\n",
       "        vertical-align: middle;\n",
       "    }\n",
       "\n",
       "    .dataframe tbody tr th {\n",
       "        vertical-align: top;\n",
       "    }\n",
       "\n",
       "    .dataframe thead th {\n",
       "        text-align: right;\n",
       "    }\n",
       "</style>\n",
       "<table border=\"1\" class=\"dataframe\">\n",
       "  <thead>\n",
       "    <tr style=\"text-align: right;\">\n",
       "      <th></th>\n",
       "      <th>전공</th>\n",
       "      <th>복수전공</th>\n",
       "    </tr>\n",
       "    <tr>\n",
       "      <th>이름</th>\n",
       "      <th></th>\n",
       "      <th></th>\n",
       "    </tr>\n",
       "  </thead>\n",
       "  <tbody>\n",
       "    <tr>\n",
       "      <th>웬디</th>\n",
       "      <td>커뮤</td>\n",
       "      <td>AI</td>\n",
       "    </tr>\n",
       "    <tr>\n",
       "      <th>아이린</th>\n",
       "      <td>경영</td>\n",
       "      <td>심리</td>\n",
       "    </tr>\n",
       "    <tr>\n",
       "      <th>슬기</th>\n",
       "      <td>경영</td>\n",
       "      <td>빅사</td>\n",
       "    </tr>\n",
       "    <tr>\n",
       "      <th>예리</th>\n",
       "      <td>경영</td>\n",
       "      <td>빅사</td>\n",
       "    </tr>\n",
       "    <tr>\n",
       "      <th>조이</th>\n",
       "      <td>경제</td>\n",
       "      <td>빅사</td>\n",
       "    </tr>\n",
       "  </tbody>\n",
       "</table>\n",
       "</div>"
      ],
      "text/plain": [
       "     전공 복수전공\n",
       "이름          \n",
       "웬디   커뮤   AI\n",
       "아이린  경영   심리\n",
       "슬기   경영   빅사\n",
       "예리   경영   빅사\n",
       "조이   경제   빅사"
      ]
     },
     "execution_count": 14,
     "metadata": {},
     "output_type": "execute_result"
    }
   ],
   "source": [
    "df.loc[ : , ['전공', '복수전공']]  #df[['전공', '복수전공']]"
   ]
  },
  {
   "cell_type": "markdown",
   "metadata": {},
   "source": [
    "##### 슬라이싱"
   ]
  },
  {
   "cell_type": "code",
   "execution_count": 15,
   "metadata": {
    "ExecuteTime": {
     "end_time": "2022-08-30T06:50:20.557093Z",
     "start_time": "2022-08-30T06:50:20.531078Z"
    }
   },
   "outputs": [
    {
     "data": {
      "text/html": [
       "<div>\n",
       "<style scoped>\n",
       "    .dataframe tbody tr th:only-of-type {\n",
       "        vertical-align: middle;\n",
       "    }\n",
       "\n",
       "    .dataframe tbody tr th {\n",
       "        vertical-align: top;\n",
       "    }\n",
       "\n",
       "    .dataframe thead th {\n",
       "        text-align: right;\n",
       "    }\n",
       "</style>\n",
       "<table border=\"1\" class=\"dataframe\">\n",
       "  <thead>\n",
       "    <tr style=\"text-align: right;\">\n",
       "      <th></th>\n",
       "      <th>학번</th>\n",
       "      <th>전공</th>\n",
       "      <th>복수전공</th>\n",
       "      <th>역할</th>\n",
       "    </tr>\n",
       "    <tr>\n",
       "      <th>이름</th>\n",
       "      <th></th>\n",
       "      <th></th>\n",
       "      <th></th>\n",
       "      <th></th>\n",
       "    </tr>\n",
       "  </thead>\n",
       "  <tbody>\n",
       "    <tr>\n",
       "      <th>슬기</th>\n",
       "      <td>17</td>\n",
       "      <td>경영</td>\n",
       "      <td>빅사</td>\n",
       "      <td>교육팀원</td>\n",
       "    </tr>\n",
       "    <tr>\n",
       "      <th>예리</th>\n",
       "      <td>19</td>\n",
       "      <td>경영</td>\n",
       "      <td>빅사</td>\n",
       "      <td>교육팀원</td>\n",
       "    </tr>\n",
       "    <tr>\n",
       "      <th>조이</th>\n",
       "      <td>16</td>\n",
       "      <td>경제</td>\n",
       "      <td>빅사</td>\n",
       "      <td>교육팀원</td>\n",
       "    </tr>\n",
       "  </tbody>\n",
       "</table>\n",
       "</div>"
      ],
      "text/plain": [
       "    학번  전공 복수전공    역할\n",
       "이름                   \n",
       "슬기  17  경영   빅사  교육팀원\n",
       "예리  19  경영   빅사  교육팀원\n",
       "조이  16  경제   빅사  교육팀원"
      ]
     },
     "execution_count": 15,
     "metadata": {},
     "output_type": "execute_result"
    }
   ],
   "source": [
    "df.loc['슬기' : '조이', : ]  #df.loc['슬기' : '조이']  #df['슬기' : '조이']"
   ]
  },
  {
   "cell_type": "code",
   "execution_count": 16,
   "metadata": {
    "ExecuteTime": {
     "end_time": "2022-08-30T06:50:22.166512Z",
     "start_time": "2022-08-30T06:50:22.147124Z"
    }
   },
   "outputs": [
    {
     "data": {
      "text/html": [
       "<div>\n",
       "<style scoped>\n",
       "    .dataframe tbody tr th:only-of-type {\n",
       "        vertical-align: middle;\n",
       "    }\n",
       "\n",
       "    .dataframe tbody tr th {\n",
       "        vertical-align: top;\n",
       "    }\n",
       "\n",
       "    .dataframe thead th {\n",
       "        text-align: right;\n",
       "    }\n",
       "</style>\n",
       "<table border=\"1\" class=\"dataframe\">\n",
       "  <thead>\n",
       "    <tr style=\"text-align: right;\">\n",
       "      <th></th>\n",
       "      <th>학번</th>\n",
       "      <th>전공</th>\n",
       "      <th>복수전공</th>\n",
       "    </tr>\n",
       "    <tr>\n",
       "      <th>이름</th>\n",
       "      <th></th>\n",
       "      <th></th>\n",
       "      <th></th>\n",
       "    </tr>\n",
       "  </thead>\n",
       "  <tbody>\n",
       "    <tr>\n",
       "      <th>웬디</th>\n",
       "      <td>15</td>\n",
       "      <td>커뮤</td>\n",
       "      <td>AI</td>\n",
       "    </tr>\n",
       "    <tr>\n",
       "      <th>아이린</th>\n",
       "      <td>16</td>\n",
       "      <td>경영</td>\n",
       "      <td>심리</td>\n",
       "    </tr>\n",
       "    <tr>\n",
       "      <th>슬기</th>\n",
       "      <td>17</td>\n",
       "      <td>경영</td>\n",
       "      <td>빅사</td>\n",
       "    </tr>\n",
       "    <tr>\n",
       "      <th>예리</th>\n",
       "      <td>19</td>\n",
       "      <td>경영</td>\n",
       "      <td>빅사</td>\n",
       "    </tr>\n",
       "    <tr>\n",
       "      <th>조이</th>\n",
       "      <td>16</td>\n",
       "      <td>경제</td>\n",
       "      <td>빅사</td>\n",
       "    </tr>\n",
       "  </tbody>\n",
       "</table>\n",
       "</div>"
      ],
      "text/plain": [
       "     학번  전공 복수전공\n",
       "이름              \n",
       "웬디   15  커뮤   AI\n",
       "아이린  16  경영   심리\n",
       "슬기   17  경영   빅사\n",
       "예리   19  경영   빅사\n",
       "조이   16  경제   빅사"
      ]
     },
     "execution_count": 16,
     "metadata": {},
     "output_type": "execute_result"
    }
   ],
   "source": [
    "df.loc[:, '학번' : '복수전공']"
   ]
  },
  {
   "cell_type": "markdown",
   "metadata": {
    "ExecuteTime": {
     "end_time": "2021-08-15T15:56:57.423585Z",
     "start_time": "2021-08-15T15:56:57.413620Z"
    }
   },
   "source": [
    "## 위치 번호로 접근하기: iloc\n",
    ": `df.iloc['행번호', '열번호']`"
   ]
  },
  {
   "cell_type": "markdown",
   "metadata": {},
   "source": [
    "|접근 방법|사용 방법|\n",
    "|:--------------------------:|:-----------:|\n",
    "|행 위치|`df.iloc[2]`|\n",
    "|행 위치 리스트|`df.iloc[[2, 6, 4]]`|\n",
    "|행 위치 슬라이싱|`df.iloc[2:5]` or `df[2:5]`|\n",
    "|열 위치|`df.iloc[ : , 3]`|\n",
    "|열 위치 리스트|`df.iloc[ : , [3, 2, 5]]`|\n",
    "|열 위치 슬라이싱|`df.iloc[ : , 3:5]`|"
   ]
  },
  {
   "cell_type": "code",
   "execution_count": 25,
   "metadata": {
    "ExecuteTime": {
     "end_time": "2022-08-30T06:53:45.855290Z",
     "start_time": "2022-08-30T06:53:45.835445Z"
    }
   },
   "outputs": [
    {
     "data": {
      "text/html": [
       "<div>\n",
       "<style scoped>\n",
       "    .dataframe tbody tr th:only-of-type {\n",
       "        vertical-align: middle;\n",
       "    }\n",
       "\n",
       "    .dataframe tbody tr th {\n",
       "        vertical-align: top;\n",
       "    }\n",
       "\n",
       "    .dataframe thead th {\n",
       "        text-align: right;\n",
       "    }\n",
       "</style>\n",
       "<table border=\"1\" class=\"dataframe\">\n",
       "  <thead>\n",
       "    <tr style=\"text-align: right;\">\n",
       "      <th></th>\n",
       "      <th>이름</th>\n",
       "      <th>학번</th>\n",
       "      <th>전공</th>\n",
       "      <th>복수전공</th>\n",
       "      <th>역할</th>\n",
       "    </tr>\n",
       "  </thead>\n",
       "  <tbody>\n",
       "    <tr>\n",
       "      <th>0</th>\n",
       "      <td>웬디</td>\n",
       "      <td>15</td>\n",
       "      <td>커뮤</td>\n",
       "      <td>AI</td>\n",
       "      <td>회장</td>\n",
       "    </tr>\n",
       "    <tr>\n",
       "      <th>1</th>\n",
       "      <td>아이린</td>\n",
       "      <td>16</td>\n",
       "      <td>경영</td>\n",
       "      <td>심리</td>\n",
       "      <td>교육팀장</td>\n",
       "    </tr>\n",
       "    <tr>\n",
       "      <th>2</th>\n",
       "      <td>슬기</td>\n",
       "      <td>17</td>\n",
       "      <td>경영</td>\n",
       "      <td>빅사</td>\n",
       "      <td>교육팀원</td>\n",
       "    </tr>\n",
       "    <tr>\n",
       "      <th>3</th>\n",
       "      <td>예리</td>\n",
       "      <td>19</td>\n",
       "      <td>경영</td>\n",
       "      <td>빅사</td>\n",
       "      <td>교육팀원</td>\n",
       "    </tr>\n",
       "    <tr>\n",
       "      <th>4</th>\n",
       "      <td>조이</td>\n",
       "      <td>16</td>\n",
       "      <td>경제</td>\n",
       "      <td>빅사</td>\n",
       "      <td>교육팀원</td>\n",
       "    </tr>\n",
       "  </tbody>\n",
       "</table>\n",
       "</div>"
      ],
      "text/plain": [
       "    이름  학번  전공 복수전공    역할\n",
       "0   웬디  15  커뮤   AI    회장\n",
       "1  아이린  16  경영   심리  교육팀장\n",
       "2   슬기  17  경영   빅사  교육팀원\n",
       "3   예리  19  경영   빅사  교육팀원\n",
       "4   조이  16  경제   빅사  교육팀원"
      ]
     },
     "execution_count": 25,
     "metadata": {},
     "output_type": "execute_result"
    }
   ],
   "source": [
    "df"
   ]
  },
  {
   "cell_type": "markdown",
   "metadata": {},
   "source": [
    "##### 0번 row, 3번 column에 해당하는 값 출력"
   ]
  },
  {
   "cell_type": "code",
   "execution_count": 18,
   "metadata": {
    "ExecuteTime": {
     "end_time": "2022-08-30T06:50:29.190515Z",
     "start_time": "2022-08-30T06:50:29.178515Z"
    }
   },
   "outputs": [
    {
     "data": {
      "text/plain": [
       "'회장'"
      ]
     },
     "execution_count": 18,
     "metadata": {},
     "output_type": "execute_result"
    }
   ],
   "source": [
    "df.iloc[0, 3]"
   ]
  },
  {
   "cell_type": "markdown",
   "metadata": {},
   "source": [
    "##### 1번과 3번 row, 1번과 2번 column에 해당하는 데이터 출력"
   ]
  },
  {
   "cell_type": "code",
   "execution_count": 19,
   "metadata": {
    "ExecuteTime": {
     "end_time": "2022-08-30T06:50:33.530424Z",
     "start_time": "2022-08-30T06:50:33.521424Z"
    }
   },
   "outputs": [
    {
     "data": {
      "text/html": [
       "<div>\n",
       "<style scoped>\n",
       "    .dataframe tbody tr th:only-of-type {\n",
       "        vertical-align: middle;\n",
       "    }\n",
       "\n",
       "    .dataframe tbody tr th {\n",
       "        vertical-align: top;\n",
       "    }\n",
       "\n",
       "    .dataframe thead th {\n",
       "        text-align: right;\n",
       "    }\n",
       "</style>\n",
       "<table border=\"1\" class=\"dataframe\">\n",
       "  <thead>\n",
       "    <tr style=\"text-align: right;\">\n",
       "      <th></th>\n",
       "      <th>전공</th>\n",
       "      <th>복수전공</th>\n",
       "    </tr>\n",
       "    <tr>\n",
       "      <th>이름</th>\n",
       "      <th></th>\n",
       "      <th></th>\n",
       "    </tr>\n",
       "  </thead>\n",
       "  <tbody>\n",
       "    <tr>\n",
       "      <th>아이린</th>\n",
       "      <td>경영</td>\n",
       "      <td>심리</td>\n",
       "    </tr>\n",
       "    <tr>\n",
       "      <th>예리</th>\n",
       "      <td>경영</td>\n",
       "      <td>빅사</td>\n",
       "    </tr>\n",
       "  </tbody>\n",
       "</table>\n",
       "</div>"
      ],
      "text/plain": [
       "     전공 복수전공\n",
       "이름          \n",
       "아이린  경영   심리\n",
       "예리   경영   빅사"
      ]
     },
     "execution_count": 19,
     "metadata": {},
     "output_type": "execute_result"
    }
   ],
   "source": [
    "df.iloc[[1, 3], [1, 2]]"
   ]
  },
  {
   "cell_type": "markdown",
   "metadata": {},
   "source": [
    "##### 2번 ~ 마지막 row, 0번 ~ 2번 col에 해당하는 데이터 출력"
   ]
  },
  {
   "cell_type": "code",
   "execution_count": 20,
   "metadata": {
    "ExecuteTime": {
     "end_time": "2022-08-30T06:50:36.005724Z",
     "start_time": "2022-08-30T06:50:35.985614Z"
    }
   },
   "outputs": [
    {
     "data": {
      "text/html": [
       "<div>\n",
       "<style scoped>\n",
       "    .dataframe tbody tr th:only-of-type {\n",
       "        vertical-align: middle;\n",
       "    }\n",
       "\n",
       "    .dataframe tbody tr th {\n",
       "        vertical-align: top;\n",
       "    }\n",
       "\n",
       "    .dataframe thead th {\n",
       "        text-align: right;\n",
       "    }\n",
       "</style>\n",
       "<table border=\"1\" class=\"dataframe\">\n",
       "  <thead>\n",
       "    <tr style=\"text-align: right;\">\n",
       "      <th></th>\n",
       "      <th>학번</th>\n",
       "      <th>전공</th>\n",
       "      <th>복수전공</th>\n",
       "    </tr>\n",
       "    <tr>\n",
       "      <th>이름</th>\n",
       "      <th></th>\n",
       "      <th></th>\n",
       "      <th></th>\n",
       "    </tr>\n",
       "  </thead>\n",
       "  <tbody>\n",
       "    <tr>\n",
       "      <th>슬기</th>\n",
       "      <td>17</td>\n",
       "      <td>경영</td>\n",
       "      <td>빅사</td>\n",
       "    </tr>\n",
       "    <tr>\n",
       "      <th>예리</th>\n",
       "      <td>19</td>\n",
       "      <td>경영</td>\n",
       "      <td>빅사</td>\n",
       "    </tr>\n",
       "    <tr>\n",
       "      <th>조이</th>\n",
       "      <td>16</td>\n",
       "      <td>경제</td>\n",
       "      <td>빅사</td>\n",
       "    </tr>\n",
       "  </tbody>\n",
       "</table>\n",
       "</div>"
      ],
      "text/plain": [
       "    학번  전공 복수전공\n",
       "이름             \n",
       "슬기  17  경영   빅사\n",
       "예리  19  경영   빅사\n",
       "조이  16  경제   빅사"
      ]
     },
     "execution_count": 20,
     "metadata": {},
     "output_type": "execute_result"
    }
   ],
   "source": [
    "# 연속된 데이터 출력 --> 슬라이싱 활용\n",
    "\n",
    "df.iloc[2:, 0:3]"
   ]
  },
  {
   "cell_type": "markdown",
   "metadata": {},
   "source": [
    "## 과제 12\n",
    "12. 레드벨벳 멤버의 데이터프레임(df)에서 연속된 여러 줄을 찾는 과제입니다.<br/>\n",
    "    '아이린'부터 '조이'까지의 '학번'과 '역할'만을 확인할 수 있도록 출력해보세요! <br/>\n",
    "    (인덱싱과 슬라이싱 모두 사용)"
   ]
  },
  {
   "cell_type": "code",
   "execution_count": 1,
   "metadata": {
    "ExecuteTime": {
     "end_time": "2022-08-30T06:54:39.863550Z",
     "start_time": "2022-08-30T06:54:39.857549Z"
    }
   },
   "outputs": [
    {
     "data": {
      "text/html": [
       "<div>\n",
       "<style scoped>\n",
       "    .dataframe tbody tr th:only-of-type {\n",
       "        vertical-align: middle;\n",
       "    }\n",
       "\n",
       "    .dataframe tbody tr th {\n",
       "        vertical-align: top;\n",
       "    }\n",
       "\n",
       "    .dataframe thead th {\n",
       "        text-align: right;\n",
       "    }\n",
       "</style>\n",
       "<table border=\"1\" class=\"dataframe\">\n",
       "  <thead>\n",
       "    <tr style=\"text-align: right;\">\n",
       "      <th></th>\n",
       "      <th>학번</th>\n",
       "      <th>역할</th>\n",
       "    </tr>\n",
       "    <tr>\n",
       "      <th>이름</th>\n",
       "      <th></th>\n",
       "      <th></th>\n",
       "    </tr>\n",
       "  </thead>\n",
       "  <tbody>\n",
       "    <tr>\n",
       "      <th>아이린</th>\n",
       "      <td>16</td>\n",
       "      <td>교육팀장</td>\n",
       "    </tr>\n",
       "    <tr>\n",
       "      <th>슬기</th>\n",
       "      <td>17</td>\n",
       "      <td>교육팀원</td>\n",
       "    </tr>\n",
       "    <tr>\n",
       "      <th>예리</th>\n",
       "      <td>19</td>\n",
       "      <td>교육팀원</td>\n",
       "    </tr>\n",
       "    <tr>\n",
       "      <th>조이</th>\n",
       "      <td>16</td>\n",
       "      <td>교육팀원</td>\n",
       "    </tr>\n",
       "  </tbody>\n",
       "</table>\n",
       "</div>"
      ],
      "text/plain": [
       "     학번    역할\n",
       "이름           \n",
       "아이린  16  교육팀장\n",
       "슬기   17  교육팀원\n",
       "예리   19  교육팀원\n",
       "조이   16  교육팀원"
      ]
     },
     "execution_count": 1,
     "metadata": {},
     "output_type": "execute_result"
    }
   ],
   "source": [
    "import pandas as pd\n",
    "\n",
    "lst = [['웬디', 15, '커뮤', 'AI', '회장'], ['아이린', 16, '경영', '심리', '교육팀장'],\n",
    "       ['슬기', 17, '경영', '빅사', '교육팀원'], ['예리', 19, '경영', '빅사', '교육팀원'],\n",
    "       ['조이', 16, '경제', '빅사', '교육팀원']]\n",
    "\n",
    "df = pd.DataFrame(lst, columns=['이름', '학번', '전공', '복수전공', '역할'])\n",
    "df = df.set_index('이름')\n",
    "\n",
    "df.loc['아이린':'조이',['학번','역할']]"
   ]
  },
  {
   "cell_type": "markdown",
   "metadata": {},
   "source": [
    "# DataFrame 수정/추가/삭제"
   ]
  },
  {
   "cell_type": "markdown",
   "metadata": {},
   "source": [
    "## 수정"
   ]
  },
  {
   "cell_type": "markdown",
   "metadata": {},
   "source": [
    "##### 값 1개 수정"
   ]
  },
  {
   "cell_type": "code",
   "execution_count": 29,
   "metadata": {
    "ExecuteTime": {
     "end_time": "2022-08-30T06:54:53.909778Z",
     "start_time": "2022-08-30T06:54:53.898704Z"
    }
   },
   "outputs": [
    {
     "data": {
      "text/plain": [
       "'회장'"
      ]
     },
     "execution_count": 29,
     "metadata": {},
     "output_type": "execute_result"
    }
   ],
   "source": [
    "df_new = df.copy()\n",
    "df_new.loc['웬디', '역할']"
   ]
  },
  {
   "cell_type": "code",
   "execution_count": 30,
   "metadata": {
    "ExecuteTime": {
     "end_time": "2022-08-30T06:54:55.179346Z",
     "start_time": "2022-08-30T06:54:55.162178Z"
    }
   },
   "outputs": [
    {
     "data": {
      "text/html": [
       "<div>\n",
       "<style scoped>\n",
       "    .dataframe tbody tr th:only-of-type {\n",
       "        vertical-align: middle;\n",
       "    }\n",
       "\n",
       "    .dataframe tbody tr th {\n",
       "        vertical-align: top;\n",
       "    }\n",
       "\n",
       "    .dataframe thead th {\n",
       "        text-align: right;\n",
       "    }\n",
       "</style>\n",
       "<table border=\"1\" class=\"dataframe\">\n",
       "  <thead>\n",
       "    <tr style=\"text-align: right;\">\n",
       "      <th></th>\n",
       "      <th>학번</th>\n",
       "      <th>전공</th>\n",
       "      <th>복수전공</th>\n",
       "      <th>역할</th>\n",
       "    </tr>\n",
       "    <tr>\n",
       "      <th>이름</th>\n",
       "      <th></th>\n",
       "      <th></th>\n",
       "      <th></th>\n",
       "      <th></th>\n",
       "    </tr>\n",
       "  </thead>\n",
       "  <tbody>\n",
       "    <tr>\n",
       "      <th>웬디</th>\n",
       "      <td>15</td>\n",
       "      <td>커뮤</td>\n",
       "      <td>AI</td>\n",
       "      <td>인싸</td>\n",
       "    </tr>\n",
       "    <tr>\n",
       "      <th>아이린</th>\n",
       "      <td>16</td>\n",
       "      <td>경영</td>\n",
       "      <td>심리</td>\n",
       "      <td>교육팀장</td>\n",
       "    </tr>\n",
       "    <tr>\n",
       "      <th>슬기</th>\n",
       "      <td>17</td>\n",
       "      <td>경영</td>\n",
       "      <td>빅사</td>\n",
       "      <td>교육팀원</td>\n",
       "    </tr>\n",
       "    <tr>\n",
       "      <th>예리</th>\n",
       "      <td>19</td>\n",
       "      <td>경영</td>\n",
       "      <td>빅사</td>\n",
       "      <td>교육팀원</td>\n",
       "    </tr>\n",
       "    <tr>\n",
       "      <th>조이</th>\n",
       "      <td>16</td>\n",
       "      <td>경제</td>\n",
       "      <td>빅사</td>\n",
       "      <td>교육팀원</td>\n",
       "    </tr>\n",
       "  </tbody>\n",
       "</table>\n",
       "</div>"
      ],
      "text/plain": [
       "     학번  전공 복수전공    역할\n",
       "이름                    \n",
       "웬디   15  커뮤   AI    인싸\n",
       "아이린  16  경영   심리  교육팀장\n",
       "슬기   17  경영   빅사  교육팀원\n",
       "예리   19  경영   빅사  교육팀원\n",
       "조이   16  경제   빅사  교육팀원"
      ]
     },
     "execution_count": 30,
     "metadata": {},
     "output_type": "execute_result"
    }
   ],
   "source": [
    "df_new.loc['웬디', '역할'] = '인싸'\n",
    "df_new"
   ]
  },
  {
   "cell_type": "markdown",
   "metadata": {},
   "source": [
    "###### 한 줄 수정"
   ]
  },
  {
   "cell_type": "code",
   "execution_count": 31,
   "metadata": {
    "ExecuteTime": {
     "end_time": "2022-08-30T06:54:58.712964Z",
     "start_time": "2022-08-30T06:54:58.706960Z"
    }
   },
   "outputs": [
    {
     "data": {
      "text/html": [
       "<div>\n",
       "<style scoped>\n",
       "    .dataframe tbody tr th:only-of-type {\n",
       "        vertical-align: middle;\n",
       "    }\n",
       "\n",
       "    .dataframe tbody tr th {\n",
       "        vertical-align: top;\n",
       "    }\n",
       "\n",
       "    .dataframe thead th {\n",
       "        text-align: right;\n",
       "    }\n",
       "</style>\n",
       "<table border=\"1\" class=\"dataframe\">\n",
       "  <thead>\n",
       "    <tr style=\"text-align: right;\">\n",
       "      <th></th>\n",
       "      <th>학번</th>\n",
       "      <th>전공</th>\n",
       "      <th>복수전공</th>\n",
       "      <th>역할</th>\n",
       "    </tr>\n",
       "    <tr>\n",
       "      <th>이름</th>\n",
       "      <th></th>\n",
       "      <th></th>\n",
       "      <th></th>\n",
       "      <th></th>\n",
       "    </tr>\n",
       "  </thead>\n",
       "  <tbody>\n",
       "    <tr>\n",
       "      <th>웬디</th>\n",
       "      <td>21</td>\n",
       "      <td>아텍</td>\n",
       "      <td>컴공</td>\n",
       "      <td>인싸이더</td>\n",
       "    </tr>\n",
       "    <tr>\n",
       "      <th>아이린</th>\n",
       "      <td>16</td>\n",
       "      <td>경영</td>\n",
       "      <td>심리</td>\n",
       "      <td>교육팀장</td>\n",
       "    </tr>\n",
       "    <tr>\n",
       "      <th>슬기</th>\n",
       "      <td>17</td>\n",
       "      <td>경영</td>\n",
       "      <td>빅사</td>\n",
       "      <td>교육팀원</td>\n",
       "    </tr>\n",
       "    <tr>\n",
       "      <th>예리</th>\n",
       "      <td>19</td>\n",
       "      <td>경영</td>\n",
       "      <td>빅사</td>\n",
       "      <td>교육팀원</td>\n",
       "    </tr>\n",
       "    <tr>\n",
       "      <th>조이</th>\n",
       "      <td>16</td>\n",
       "      <td>경제</td>\n",
       "      <td>빅사</td>\n",
       "      <td>교육팀원</td>\n",
       "    </tr>\n",
       "  </tbody>\n",
       "</table>\n",
       "</div>"
      ],
      "text/plain": [
       "     학번  전공 복수전공    역할\n",
       "이름                    \n",
       "웬디   21  아텍   컴공  인싸이더\n",
       "아이린  16  경영   심리  교육팀장\n",
       "슬기   17  경영   빅사  교육팀원\n",
       "예리   19  경영   빅사  교육팀원\n",
       "조이   16  경제   빅사  교육팀원"
      ]
     },
     "execution_count": 31,
     "metadata": {},
     "output_type": "execute_result"
    }
   ],
   "source": [
    "df_new.loc['웬디'] = [21, '아텍', '컴공', '인싸이더']\n",
    "df_new"
   ]
  },
  {
   "cell_type": "code",
   "execution_count": 32,
   "metadata": {
    "ExecuteTime": {
     "end_time": "2022-08-30T06:55:01.418266Z",
     "start_time": "2022-08-30T06:55:01.401763Z"
    }
   },
   "outputs": [
    {
     "data": {
      "text/html": [
       "<div>\n",
       "<style scoped>\n",
       "    .dataframe tbody tr th:only-of-type {\n",
       "        vertical-align: middle;\n",
       "    }\n",
       "\n",
       "    .dataframe tbody tr th {\n",
       "        vertical-align: top;\n",
       "    }\n",
       "\n",
       "    .dataframe thead th {\n",
       "        text-align: right;\n",
       "    }\n",
       "</style>\n",
       "<table border=\"1\" class=\"dataframe\">\n",
       "  <thead>\n",
       "    <tr style=\"text-align: right;\">\n",
       "      <th></th>\n",
       "      <th>학번</th>\n",
       "      <th>전공</th>\n",
       "      <th>복수전공</th>\n",
       "      <th>역할</th>\n",
       "    </tr>\n",
       "    <tr>\n",
       "      <th>이름</th>\n",
       "      <th></th>\n",
       "      <th></th>\n",
       "      <th></th>\n",
       "      <th></th>\n",
       "    </tr>\n",
       "  </thead>\n",
       "  <tbody>\n",
       "    <tr>\n",
       "      <th>웬디</th>\n",
       "      <td>21</td>\n",
       "      <td>아텍</td>\n",
       "      <td>컴공</td>\n",
       "      <td>5기</td>\n",
       "    </tr>\n",
       "    <tr>\n",
       "      <th>아이린</th>\n",
       "      <td>16</td>\n",
       "      <td>경영</td>\n",
       "      <td>심리</td>\n",
       "      <td>5기</td>\n",
       "    </tr>\n",
       "    <tr>\n",
       "      <th>슬기</th>\n",
       "      <td>17</td>\n",
       "      <td>경영</td>\n",
       "      <td>빅사</td>\n",
       "      <td>5기</td>\n",
       "    </tr>\n",
       "    <tr>\n",
       "      <th>예리</th>\n",
       "      <td>19</td>\n",
       "      <td>경영</td>\n",
       "      <td>빅사</td>\n",
       "      <td>5기</td>\n",
       "    </tr>\n",
       "    <tr>\n",
       "      <th>조이</th>\n",
       "      <td>16</td>\n",
       "      <td>경제</td>\n",
       "      <td>빅사</td>\n",
       "      <td>5기</td>\n",
       "    </tr>\n",
       "  </tbody>\n",
       "</table>\n",
       "</div>"
      ],
      "text/plain": [
       "     학번  전공 복수전공  역할\n",
       "이름                  \n",
       "웬디   21  아텍   컴공  5기\n",
       "아이린  16  경영   심리  5기\n",
       "슬기   17  경영   빅사  5기\n",
       "예리   19  경영   빅사  5기\n",
       "조이   16  경제   빅사  5기"
      ]
     },
     "execution_count": 32,
     "metadata": {},
     "output_type": "execute_result"
    }
   ],
   "source": [
    "# 역할 column의 모든 값을 동일하게 바꾸기\n",
    "df_new.loc[ : , '역할'] = '5기'\n",
    "df_new"
   ]
  },
  {
   "cell_type": "markdown",
   "metadata": {},
   "source": [
    "###### 여러 줄 수정"
   ]
  },
  {
   "cell_type": "code",
   "execution_count": 33,
   "metadata": {
    "ExecuteTime": {
     "end_time": "2022-08-30T06:55:02.409821Z",
     "start_time": "2022-08-30T06:55:02.392685Z"
    }
   },
   "outputs": [
    {
     "data": {
      "text/html": [
       "<div>\n",
       "<style scoped>\n",
       "    .dataframe tbody tr th:only-of-type {\n",
       "        vertical-align: middle;\n",
       "    }\n",
       "\n",
       "    .dataframe tbody tr th {\n",
       "        vertical-align: top;\n",
       "    }\n",
       "\n",
       "    .dataframe thead th {\n",
       "        text-align: right;\n",
       "    }\n",
       "</style>\n",
       "<table border=\"1\" class=\"dataframe\">\n",
       "  <thead>\n",
       "    <tr style=\"text-align: right;\">\n",
       "      <th></th>\n",
       "      <th>학번</th>\n",
       "      <th>전공</th>\n",
       "      <th>복수전공</th>\n",
       "      <th>역할</th>\n",
       "    </tr>\n",
       "    <tr>\n",
       "      <th>이름</th>\n",
       "      <th></th>\n",
       "      <th></th>\n",
       "      <th></th>\n",
       "      <th></th>\n",
       "    </tr>\n",
       "  </thead>\n",
       "  <tbody>\n",
       "    <tr>\n",
       "      <th>웬디</th>\n",
       "      <td>-</td>\n",
       "      <td>-</td>\n",
       "      <td>-</td>\n",
       "      <td>-</td>\n",
       "    </tr>\n",
       "    <tr>\n",
       "      <th>아이린</th>\n",
       "      <td>-</td>\n",
       "      <td>-</td>\n",
       "      <td>-</td>\n",
       "      <td>-</td>\n",
       "    </tr>\n",
       "    <tr>\n",
       "      <th>슬기</th>\n",
       "      <td>17</td>\n",
       "      <td>경영</td>\n",
       "      <td>빅사</td>\n",
       "      <td>5기</td>\n",
       "    </tr>\n",
       "    <tr>\n",
       "      <th>예리</th>\n",
       "      <td>19</td>\n",
       "      <td>경영</td>\n",
       "      <td>빅사</td>\n",
       "      <td>5기</td>\n",
       "    </tr>\n",
       "    <tr>\n",
       "      <th>조이</th>\n",
       "      <td>16</td>\n",
       "      <td>경제</td>\n",
       "      <td>빅사</td>\n",
       "      <td>5기</td>\n",
       "    </tr>\n",
       "  </tbody>\n",
       "</table>\n",
       "</div>"
      ],
      "text/plain": [
       "     학번  전공 복수전공  역할\n",
       "이름                  \n",
       "웬디    -   -    -   -\n",
       "아이린   -   -    -   -\n",
       "슬기   17  경영   빅사  5기\n",
       "예리   19  경영   빅사  5기\n",
       "조이   16  경제   빅사  5기"
      ]
     },
     "execution_count": 33,
     "metadata": {},
     "output_type": "execute_result"
    }
   ],
   "source": [
    "df_new.loc[['웬디', '아이린']] = \"-\"\n",
    "df_new"
   ]
  },
  {
   "cell_type": "code",
   "execution_count": 34,
   "metadata": {
    "ExecuteTime": {
     "end_time": "2022-08-30T06:55:03.866441Z",
     "start_time": "2022-08-30T06:55:03.849609Z"
    }
   },
   "outputs": [
    {
     "data": {
      "text/html": [
       "<div>\n",
       "<style scoped>\n",
       "    .dataframe tbody tr th:only-of-type {\n",
       "        vertical-align: middle;\n",
       "    }\n",
       "\n",
       "    .dataframe tbody tr th {\n",
       "        vertical-align: top;\n",
       "    }\n",
       "\n",
       "    .dataframe thead th {\n",
       "        text-align: right;\n",
       "    }\n",
       "</style>\n",
       "<table border=\"1\" class=\"dataframe\">\n",
       "  <thead>\n",
       "    <tr style=\"text-align: right;\">\n",
       "      <th></th>\n",
       "      <th>학번</th>\n",
       "      <th>전공</th>\n",
       "      <th>복수전공</th>\n",
       "      <th>역할</th>\n",
       "    </tr>\n",
       "    <tr>\n",
       "      <th>이름</th>\n",
       "      <th></th>\n",
       "      <th></th>\n",
       "      <th></th>\n",
       "      <th></th>\n",
       "    </tr>\n",
       "  </thead>\n",
       "  <tbody>\n",
       "    <tr>\n",
       "      <th>웬디</th>\n",
       "      <td>-</td>\n",
       "      <td>-</td>\n",
       "      <td>?</td>\n",
       "      <td>?</td>\n",
       "    </tr>\n",
       "    <tr>\n",
       "      <th>아이린</th>\n",
       "      <td>-</td>\n",
       "      <td>-</td>\n",
       "      <td>?</td>\n",
       "      <td>?</td>\n",
       "    </tr>\n",
       "    <tr>\n",
       "      <th>슬기</th>\n",
       "      <td>17</td>\n",
       "      <td>경영</td>\n",
       "      <td>?</td>\n",
       "      <td>?</td>\n",
       "    </tr>\n",
       "    <tr>\n",
       "      <th>예리</th>\n",
       "      <td>19</td>\n",
       "      <td>경영</td>\n",
       "      <td>?</td>\n",
       "      <td>?</td>\n",
       "    </tr>\n",
       "    <tr>\n",
       "      <th>조이</th>\n",
       "      <td>16</td>\n",
       "      <td>경제</td>\n",
       "      <td>?</td>\n",
       "      <td>?</td>\n",
       "    </tr>\n",
       "  </tbody>\n",
       "</table>\n",
       "</div>"
      ],
      "text/plain": [
       "     학번  전공 복수전공 역할\n",
       "이름                 \n",
       "웬디    -   -    ?  ?\n",
       "아이린   -   -    ?  ?\n",
       "슬기   17  경영    ?  ?\n",
       "예리   19  경영    ?  ?\n",
       "조이   16  경제    ?  ?"
      ]
     },
     "execution_count": 34,
     "metadata": {},
     "output_type": "execute_result"
    }
   ],
   "source": [
    "df_new[['복수전공', '역할']] = \"?\"\n",
    "df_new"
   ]
  },
  {
   "cell_type": "markdown",
   "metadata": {},
   "source": [
    "##### 위치 번호로 값 수정"
   ]
  },
  {
   "cell_type": "code",
   "execution_count": 35,
   "metadata": {
    "ExecuteTime": {
     "end_time": "2022-08-30T06:55:05.188713Z",
     "start_time": "2022-08-30T06:55:05.170699Z"
    }
   },
   "outputs": [
    {
     "data": {
      "text/html": [
       "<div>\n",
       "<style scoped>\n",
       "    .dataframe tbody tr th:only-of-type {\n",
       "        vertical-align: middle;\n",
       "    }\n",
       "\n",
       "    .dataframe tbody tr th {\n",
       "        vertical-align: top;\n",
       "    }\n",
       "\n",
       "    .dataframe thead th {\n",
       "        text-align: right;\n",
       "    }\n",
       "</style>\n",
       "<table border=\"1\" class=\"dataframe\">\n",
       "  <thead>\n",
       "    <tr style=\"text-align: right;\">\n",
       "      <th></th>\n",
       "      <th>학번</th>\n",
       "      <th>전공</th>\n",
       "      <th>복수전공</th>\n",
       "      <th>역할</th>\n",
       "    </tr>\n",
       "    <tr>\n",
       "      <th>이름</th>\n",
       "      <th></th>\n",
       "      <th></th>\n",
       "      <th></th>\n",
       "      <th></th>\n",
       "    </tr>\n",
       "  </thead>\n",
       "  <tbody>\n",
       "    <tr>\n",
       "      <th>웬디</th>\n",
       "      <td>-</td>\n",
       "      <td>-</td>\n",
       "      <td>#</td>\n",
       "      <td>#</td>\n",
       "    </tr>\n",
       "    <tr>\n",
       "      <th>아이린</th>\n",
       "      <td>-</td>\n",
       "      <td>-</td>\n",
       "      <td>#</td>\n",
       "      <td>#</td>\n",
       "    </tr>\n",
       "    <tr>\n",
       "      <th>슬기</th>\n",
       "      <td>17</td>\n",
       "      <td>경영</td>\n",
       "      <td>?</td>\n",
       "      <td>?</td>\n",
       "    </tr>\n",
       "    <tr>\n",
       "      <th>예리</th>\n",
       "      <td>19</td>\n",
       "      <td>경영</td>\n",
       "      <td>?</td>\n",
       "      <td>?</td>\n",
       "    </tr>\n",
       "    <tr>\n",
       "      <th>조이</th>\n",
       "      <td>16</td>\n",
       "      <td>경제</td>\n",
       "      <td>?</td>\n",
       "      <td>?</td>\n",
       "    </tr>\n",
       "  </tbody>\n",
       "</table>\n",
       "</div>"
      ],
      "text/plain": [
       "     학번  전공 복수전공 역할\n",
       "이름                 \n",
       "웬디    -   -    #  #\n",
       "아이린   -   -    #  #\n",
       "슬기   17  경영    ?  ?\n",
       "예리   19  경영    ?  ?\n",
       "조이   16  경제    ?  ?"
      ]
     },
     "execution_count": 35,
     "metadata": {},
     "output_type": "execute_result"
    }
   ],
   "source": [
    "df_new.iloc[[0, 1], [2, 3]] = \"#\"\n",
    "df_new"
   ]
  },
  {
   "cell_type": "markdown",
   "metadata": {},
   "source": [
    "## 추가\n"
   ]
  },
  {
   "cell_type": "code",
   "execution_count": 36,
   "metadata": {
    "ExecuteTime": {
     "end_time": "2022-08-30T06:55:06.523628Z",
     "start_time": "2022-08-30T06:55:06.505638Z"
    }
   },
   "outputs": [],
   "source": [
    "df_new2 = df.copy()"
   ]
  },
  {
   "cell_type": "markdown",
   "metadata": {},
   "source": [
    "###### row 추가"
   ]
  },
  {
   "cell_type": "code",
   "execution_count": 37,
   "metadata": {
    "ExecuteTime": {
     "end_time": "2022-08-30T06:55:07.659913Z",
     "start_time": "2022-08-30T06:55:07.649748Z"
    }
   },
   "outputs": [
    {
     "data": {
      "text/html": [
       "<div>\n",
       "<style scoped>\n",
       "    .dataframe tbody tr th:only-of-type {\n",
       "        vertical-align: middle;\n",
       "    }\n",
       "\n",
       "    .dataframe tbody tr th {\n",
       "        vertical-align: top;\n",
       "    }\n",
       "\n",
       "    .dataframe thead th {\n",
       "        text-align: right;\n",
       "    }\n",
       "</style>\n",
       "<table border=\"1\" class=\"dataframe\">\n",
       "  <thead>\n",
       "    <tr style=\"text-align: right;\">\n",
       "      <th></th>\n",
       "      <th>학번</th>\n",
       "      <th>전공</th>\n",
       "      <th>복수전공</th>\n",
       "      <th>역할</th>\n",
       "    </tr>\n",
       "    <tr>\n",
       "      <th>이름</th>\n",
       "      <th></th>\n",
       "      <th></th>\n",
       "      <th></th>\n",
       "      <th></th>\n",
       "    </tr>\n",
       "  </thead>\n",
       "  <tbody>\n",
       "    <tr>\n",
       "      <th>웬디</th>\n",
       "      <td>15</td>\n",
       "      <td>커뮤</td>\n",
       "      <td>AI</td>\n",
       "      <td>회장</td>\n",
       "    </tr>\n",
       "    <tr>\n",
       "      <th>아이린</th>\n",
       "      <td>16</td>\n",
       "      <td>경영</td>\n",
       "      <td>심리</td>\n",
       "      <td>교육팀장</td>\n",
       "    </tr>\n",
       "    <tr>\n",
       "      <th>슬기</th>\n",
       "      <td>17</td>\n",
       "      <td>경영</td>\n",
       "      <td>빅사</td>\n",
       "      <td>교육팀원</td>\n",
       "    </tr>\n",
       "    <tr>\n",
       "      <th>예리</th>\n",
       "      <td>19</td>\n",
       "      <td>경영</td>\n",
       "      <td>빅사</td>\n",
       "      <td>교육팀원</td>\n",
       "    </tr>\n",
       "    <tr>\n",
       "      <th>조이</th>\n",
       "      <td>16</td>\n",
       "      <td>경제</td>\n",
       "      <td>빅사</td>\n",
       "      <td>교육팀원</td>\n",
       "    </tr>\n",
       "    <tr>\n",
       "      <th>아이유</th>\n",
       "      <td>19</td>\n",
       "      <td>수학</td>\n",
       "      <td>-</td>\n",
       "      <td>부회장</td>\n",
       "    </tr>\n",
       "  </tbody>\n",
       "</table>\n",
       "</div>"
      ],
      "text/plain": [
       "     학번  전공 복수전공    역할\n",
       "이름                    \n",
       "웬디   15  커뮤   AI    회장\n",
       "아이린  16  경영   심리  교육팀장\n",
       "슬기   17  경영   빅사  교육팀원\n",
       "예리   19  경영   빅사  교육팀원\n",
       "조이   16  경제   빅사  교육팀원\n",
       "아이유  19  수학    -   부회장"
      ]
     },
     "execution_count": 37,
     "metadata": {},
     "output_type": "execute_result"
    }
   ],
   "source": [
    "# 없는 인덱스명으로 데이터를 넣으면, 새로운 row가 추가됨\n",
    "df_new2.loc['아이유'] = [19, '수학', '-', '부회장']\n",
    "df_new2"
   ]
  },
  {
   "cell_type": "markdown",
   "metadata": {},
   "source": [
    "###### column 추가"
   ]
  },
  {
   "cell_type": "code",
   "execution_count": 38,
   "metadata": {
    "ExecuteTime": {
     "end_time": "2022-08-30T06:55:09.102575Z",
     "start_time": "2022-08-30T06:55:09.081456Z"
    }
   },
   "outputs": [
    {
     "data": {
      "text/html": [
       "<div>\n",
       "<style scoped>\n",
       "    .dataframe tbody tr th:only-of-type {\n",
       "        vertical-align: middle;\n",
       "    }\n",
       "\n",
       "    .dataframe tbody tr th {\n",
       "        vertical-align: top;\n",
       "    }\n",
       "\n",
       "    .dataframe thead th {\n",
       "        text-align: right;\n",
       "    }\n",
       "</style>\n",
       "<table border=\"1\" class=\"dataframe\">\n",
       "  <thead>\n",
       "    <tr style=\"text-align: right;\">\n",
       "      <th></th>\n",
       "      <th>학번</th>\n",
       "      <th>전공</th>\n",
       "      <th>복수전공</th>\n",
       "      <th>역할</th>\n",
       "      <th>기수</th>\n",
       "    </tr>\n",
       "    <tr>\n",
       "      <th>이름</th>\n",
       "      <th></th>\n",
       "      <th></th>\n",
       "      <th></th>\n",
       "      <th></th>\n",
       "      <th></th>\n",
       "    </tr>\n",
       "  </thead>\n",
       "  <tbody>\n",
       "    <tr>\n",
       "      <th>웬디</th>\n",
       "      <td>15</td>\n",
       "      <td>커뮤</td>\n",
       "      <td>AI</td>\n",
       "      <td>회장</td>\n",
       "      <td>100기</td>\n",
       "    </tr>\n",
       "    <tr>\n",
       "      <th>아이린</th>\n",
       "      <td>16</td>\n",
       "      <td>경영</td>\n",
       "      <td>심리</td>\n",
       "      <td>교육팀장</td>\n",
       "      <td>100기</td>\n",
       "    </tr>\n",
       "    <tr>\n",
       "      <th>슬기</th>\n",
       "      <td>17</td>\n",
       "      <td>경영</td>\n",
       "      <td>빅사</td>\n",
       "      <td>교육팀원</td>\n",
       "      <td>100기</td>\n",
       "    </tr>\n",
       "    <tr>\n",
       "      <th>예리</th>\n",
       "      <td>19</td>\n",
       "      <td>경영</td>\n",
       "      <td>빅사</td>\n",
       "      <td>교육팀원</td>\n",
       "      <td>100기</td>\n",
       "    </tr>\n",
       "    <tr>\n",
       "      <th>조이</th>\n",
       "      <td>16</td>\n",
       "      <td>경제</td>\n",
       "      <td>빅사</td>\n",
       "      <td>교육팀원</td>\n",
       "      <td>100기</td>\n",
       "    </tr>\n",
       "    <tr>\n",
       "      <th>아이유</th>\n",
       "      <td>19</td>\n",
       "      <td>수학</td>\n",
       "      <td>-</td>\n",
       "      <td>부회장</td>\n",
       "      <td>100기</td>\n",
       "    </tr>\n",
       "  </tbody>\n",
       "</table>\n",
       "</div>"
      ],
      "text/plain": [
       "     학번  전공 복수전공    역할    기수\n",
       "이름                          \n",
       "웬디   15  커뮤   AI    회장  100기\n",
       "아이린  16  경영   심리  교육팀장  100기\n",
       "슬기   17  경영   빅사  교육팀원  100기\n",
       "예리   19  경영   빅사  교육팀원  100기\n",
       "조이   16  경제   빅사  교육팀원  100기\n",
       "아이유  19  수학    -   부회장  100기"
      ]
     },
     "execution_count": 38,
     "metadata": {},
     "output_type": "execute_result"
    }
   ],
   "source": [
    "df_new2['기수'] = '100기'\n",
    "df_new2"
   ]
  },
  {
   "cell_type": "markdown",
   "metadata": {},
   "source": [
    "## 삭제\n",
    "행 방향 axis=0 <br/>\n",
    "열 방향 axis=1"
   ]
  },
  {
   "cell_type": "code",
   "execution_count": 39,
   "metadata": {
    "ExecuteTime": {
     "end_time": "2022-08-30T06:55:10.388157Z",
     "start_time": "2022-08-30T06:55:10.378606Z"
    }
   },
   "outputs": [
    {
     "data": {
      "text/html": [
       "<div>\n",
       "<style scoped>\n",
       "    .dataframe tbody tr th:only-of-type {\n",
       "        vertical-align: middle;\n",
       "    }\n",
       "\n",
       "    .dataframe tbody tr th {\n",
       "        vertical-align: top;\n",
       "    }\n",
       "\n",
       "    .dataframe thead th {\n",
       "        text-align: right;\n",
       "    }\n",
       "</style>\n",
       "<table border=\"1\" class=\"dataframe\">\n",
       "  <thead>\n",
       "    <tr style=\"text-align: right;\">\n",
       "      <th></th>\n",
       "      <th>학번</th>\n",
       "      <th>전공</th>\n",
       "      <th>복수전공</th>\n",
       "      <th>역할</th>\n",
       "      <th>기수</th>\n",
       "    </tr>\n",
       "    <tr>\n",
       "      <th>이름</th>\n",
       "      <th></th>\n",
       "      <th></th>\n",
       "      <th></th>\n",
       "      <th></th>\n",
       "      <th></th>\n",
       "    </tr>\n",
       "  </thead>\n",
       "  <tbody>\n",
       "    <tr>\n",
       "      <th>웬디</th>\n",
       "      <td>15</td>\n",
       "      <td>커뮤</td>\n",
       "      <td>AI</td>\n",
       "      <td>회장</td>\n",
       "      <td>100기</td>\n",
       "    </tr>\n",
       "    <tr>\n",
       "      <th>아이린</th>\n",
       "      <td>16</td>\n",
       "      <td>경영</td>\n",
       "      <td>심리</td>\n",
       "      <td>교육팀장</td>\n",
       "      <td>100기</td>\n",
       "    </tr>\n",
       "    <tr>\n",
       "      <th>슬기</th>\n",
       "      <td>17</td>\n",
       "      <td>경영</td>\n",
       "      <td>빅사</td>\n",
       "      <td>교육팀원</td>\n",
       "      <td>100기</td>\n",
       "    </tr>\n",
       "    <tr>\n",
       "      <th>예리</th>\n",
       "      <td>19</td>\n",
       "      <td>경영</td>\n",
       "      <td>빅사</td>\n",
       "      <td>교육팀원</td>\n",
       "      <td>100기</td>\n",
       "    </tr>\n",
       "    <tr>\n",
       "      <th>조이</th>\n",
       "      <td>16</td>\n",
       "      <td>경제</td>\n",
       "      <td>빅사</td>\n",
       "      <td>교육팀원</td>\n",
       "      <td>100기</td>\n",
       "    </tr>\n",
       "  </tbody>\n",
       "</table>\n",
       "</div>"
      ],
      "text/plain": [
       "     학번  전공 복수전공    역할    기수\n",
       "이름                          \n",
       "웬디   15  커뮤   AI    회장  100기\n",
       "아이린  16  경영   심리  교육팀장  100기\n",
       "슬기   17  경영   빅사  교육팀원  100기\n",
       "예리   19  경영   빅사  교육팀원  100기\n",
       "조이   16  경제   빅사  교육팀원  100기"
      ]
     },
     "execution_count": 39,
     "metadata": {},
     "output_type": "execute_result"
    }
   ],
   "source": [
    "df_new2.drop('아이유', axis = 0, inplace = True)  #inplace = False --> 기존의 df에 영향 X\n",
    "df_new2"
   ]
  },
  {
   "cell_type": "code",
   "execution_count": 40,
   "metadata": {
    "ExecuteTime": {
     "end_time": "2022-08-30T06:55:11.612748Z",
     "start_time": "2022-08-30T06:55:11.602015Z"
    }
   },
   "outputs": [
    {
     "data": {
      "text/html": [
       "<div>\n",
       "<style scoped>\n",
       "    .dataframe tbody tr th:only-of-type {\n",
       "        vertical-align: middle;\n",
       "    }\n",
       "\n",
       "    .dataframe tbody tr th {\n",
       "        vertical-align: top;\n",
       "    }\n",
       "\n",
       "    .dataframe thead th {\n",
       "        text-align: right;\n",
       "    }\n",
       "</style>\n",
       "<table border=\"1\" class=\"dataframe\">\n",
       "  <thead>\n",
       "    <tr style=\"text-align: right;\">\n",
       "      <th></th>\n",
       "      <th>학번</th>\n",
       "      <th>전공</th>\n",
       "      <th>역할</th>\n",
       "    </tr>\n",
       "    <tr>\n",
       "      <th>이름</th>\n",
       "      <th></th>\n",
       "      <th></th>\n",
       "      <th></th>\n",
       "    </tr>\n",
       "  </thead>\n",
       "  <tbody>\n",
       "    <tr>\n",
       "      <th>웬디</th>\n",
       "      <td>15</td>\n",
       "      <td>커뮤</td>\n",
       "      <td>회장</td>\n",
       "    </tr>\n",
       "    <tr>\n",
       "      <th>아이린</th>\n",
       "      <td>16</td>\n",
       "      <td>경영</td>\n",
       "      <td>교육팀장</td>\n",
       "    </tr>\n",
       "    <tr>\n",
       "      <th>슬기</th>\n",
       "      <td>17</td>\n",
       "      <td>경영</td>\n",
       "      <td>교육팀원</td>\n",
       "    </tr>\n",
       "    <tr>\n",
       "      <th>예리</th>\n",
       "      <td>19</td>\n",
       "      <td>경영</td>\n",
       "      <td>교육팀원</td>\n",
       "    </tr>\n",
       "    <tr>\n",
       "      <th>조이</th>\n",
       "      <td>16</td>\n",
       "      <td>경제</td>\n",
       "      <td>교육팀원</td>\n",
       "    </tr>\n",
       "  </tbody>\n",
       "</table>\n",
       "</div>"
      ],
      "text/plain": [
       "     학번  전공    역할\n",
       "이름               \n",
       "웬디   15  커뮤    회장\n",
       "아이린  16  경영  교육팀장\n",
       "슬기   17  경영  교육팀원\n",
       "예리   19  경영  교육팀원\n",
       "조이   16  경제  교육팀원"
      ]
     },
     "execution_count": 40,
     "metadata": {},
     "output_type": "execute_result"
    }
   ],
   "source": [
    "df_new2.drop(['복수전공', '기수'], axis = 1, inplace = True)\n",
    "df_new2"
   ]
  },
  {
   "cell_type": "code",
   "execution_count": 41,
   "metadata": {
    "ExecuteTime": {
     "end_time": "2022-08-30T06:55:13.227794Z",
     "start_time": "2022-08-30T06:55:13.210243Z"
    }
   },
   "outputs": [
    {
     "data": {
      "text/html": [
       "<div>\n",
       "<style scoped>\n",
       "    .dataframe tbody tr th:only-of-type {\n",
       "        vertical-align: middle;\n",
       "    }\n",
       "\n",
       "    .dataframe tbody tr th {\n",
       "        vertical-align: top;\n",
       "    }\n",
       "\n",
       "    .dataframe thead th {\n",
       "        text-align: right;\n",
       "    }\n",
       "</style>\n",
       "<table border=\"1\" class=\"dataframe\">\n",
       "  <thead>\n",
       "    <tr style=\"text-align: right;\">\n",
       "      <th></th>\n",
       "      <th>학번</th>\n",
       "      <th>전공</th>\n",
       "    </tr>\n",
       "    <tr>\n",
       "      <th>이름</th>\n",
       "      <th></th>\n",
       "      <th></th>\n",
       "    </tr>\n",
       "  </thead>\n",
       "  <tbody>\n",
       "    <tr>\n",
       "      <th>웬디</th>\n",
       "      <td>15</td>\n",
       "      <td>커뮤</td>\n",
       "    </tr>\n",
       "    <tr>\n",
       "      <th>아이린</th>\n",
       "      <td>16</td>\n",
       "      <td>경영</td>\n",
       "    </tr>\n",
       "    <tr>\n",
       "      <th>슬기</th>\n",
       "      <td>17</td>\n",
       "      <td>경영</td>\n",
       "    </tr>\n",
       "    <tr>\n",
       "      <th>예리</th>\n",
       "      <td>19</td>\n",
       "      <td>경영</td>\n",
       "    </tr>\n",
       "    <tr>\n",
       "      <th>조이</th>\n",
       "      <td>16</td>\n",
       "      <td>경제</td>\n",
       "    </tr>\n",
       "  </tbody>\n",
       "</table>\n",
       "</div>"
      ],
      "text/plain": [
       "     학번  전공\n",
       "이름         \n",
       "웬디   15  커뮤\n",
       "아이린  16  경영\n",
       "슬기   17  경영\n",
       "예리   19  경영\n",
       "조이   16  경제"
      ]
     },
     "execution_count": 41,
     "metadata": {},
     "output_type": "execute_result"
    }
   ],
   "source": [
    "del df_new2['역할']\n",
    "df_new2"
   ]
  },
  {
   "cell_type": "markdown",
   "metadata": {},
   "source": [
    "## 과제 13\n",
    "13. df_new3에 본인 포함 2명의 정보를 추가하고(행), 새로운 열을 만들어보자!"
   ]
  },
  {
   "cell_type": "code",
   "execution_count": 3,
   "metadata": {},
   "outputs": [
    {
     "data": {
      "text/html": [
       "<div>\n",
       "<style scoped>\n",
       "    .dataframe tbody tr th:only-of-type {\n",
       "        vertical-align: middle;\n",
       "    }\n",
       "\n",
       "    .dataframe tbody tr th {\n",
       "        vertical-align: top;\n",
       "    }\n",
       "\n",
       "    .dataframe thead th {\n",
       "        text-align: right;\n",
       "    }\n",
       "</style>\n",
       "<table border=\"1\" class=\"dataframe\">\n",
       "  <thead>\n",
       "    <tr style=\"text-align: right;\">\n",
       "      <th></th>\n",
       "      <th>학번</th>\n",
       "      <th>전공</th>\n",
       "      <th>복수전공</th>\n",
       "      <th>역할</th>\n",
       "    </tr>\n",
       "    <tr>\n",
       "      <th>이름</th>\n",
       "      <th></th>\n",
       "      <th></th>\n",
       "      <th></th>\n",
       "      <th></th>\n",
       "    </tr>\n",
       "  </thead>\n",
       "  <tbody>\n",
       "    <tr>\n",
       "      <th>웬디</th>\n",
       "      <td>15</td>\n",
       "      <td>커뮤</td>\n",
       "      <td>AI</td>\n",
       "      <td>회장</td>\n",
       "    </tr>\n",
       "    <tr>\n",
       "      <th>아이린</th>\n",
       "      <td>16</td>\n",
       "      <td>경영</td>\n",
       "      <td>심리</td>\n",
       "      <td>교육팀장</td>\n",
       "    </tr>\n",
       "    <tr>\n",
       "      <th>슬기</th>\n",
       "      <td>17</td>\n",
       "      <td>경영</td>\n",
       "      <td>빅사</td>\n",
       "      <td>교육팀원</td>\n",
       "    </tr>\n",
       "    <tr>\n",
       "      <th>예리</th>\n",
       "      <td>19</td>\n",
       "      <td>경영</td>\n",
       "      <td>빅사</td>\n",
       "      <td>교육팀원</td>\n",
       "    </tr>\n",
       "    <tr>\n",
       "      <th>조이</th>\n",
       "      <td>16</td>\n",
       "      <td>경제</td>\n",
       "      <td>빅사</td>\n",
       "      <td>교육팀원</td>\n",
       "    </tr>\n",
       "  </tbody>\n",
       "</table>\n",
       "</div>"
      ],
      "text/plain": [
       "     학번  전공 복수전공    역할\n",
       "이름                    \n",
       "웬디   15  커뮤   AI    회장\n",
       "아이린  16  경영   심리  교육팀장\n",
       "슬기   17  경영   빅사  교육팀원\n",
       "예리   19  경영   빅사  교육팀원\n",
       "조이   16  경제   빅사  교육팀원"
      ]
     },
     "execution_count": 3,
     "metadata": {},
     "output_type": "execute_result"
    }
   ],
   "source": [
    "df"
   ]
  },
  {
   "cell_type": "code",
   "execution_count": 4,
   "metadata": {},
   "outputs": [
    {
     "data": {
      "text/html": [
       "<div>\n",
       "<style scoped>\n",
       "    .dataframe tbody tr th:only-of-type {\n",
       "        vertical-align: middle;\n",
       "    }\n",
       "\n",
       "    .dataframe tbody tr th {\n",
       "        vertical-align: top;\n",
       "    }\n",
       "\n",
       "    .dataframe thead th {\n",
       "        text-align: right;\n",
       "    }\n",
       "</style>\n",
       "<table border=\"1\" class=\"dataframe\">\n",
       "  <thead>\n",
       "    <tr style=\"text-align: right;\">\n",
       "      <th></th>\n",
       "      <th>학번</th>\n",
       "      <th>전공</th>\n",
       "      <th>복수전공</th>\n",
       "      <th>역할</th>\n",
       "      <th>과제제출여부</th>\n",
       "    </tr>\n",
       "    <tr>\n",
       "      <th>이름</th>\n",
       "      <th></th>\n",
       "      <th></th>\n",
       "      <th></th>\n",
       "      <th></th>\n",
       "      <th></th>\n",
       "    </tr>\n",
       "  </thead>\n",
       "  <tbody>\n",
       "    <tr>\n",
       "      <th>웬디</th>\n",
       "      <td>15</td>\n",
       "      <td>커뮤</td>\n",
       "      <td>AI</td>\n",
       "      <td>회장</td>\n",
       "      <td>yes</td>\n",
       "    </tr>\n",
       "    <tr>\n",
       "      <th>아이린</th>\n",
       "      <td>16</td>\n",
       "      <td>경영</td>\n",
       "      <td>심리</td>\n",
       "      <td>교육팀장</td>\n",
       "      <td>yes</td>\n",
       "    </tr>\n",
       "    <tr>\n",
       "      <th>슬기</th>\n",
       "      <td>17</td>\n",
       "      <td>경영</td>\n",
       "      <td>빅사</td>\n",
       "      <td>교육팀원</td>\n",
       "      <td>yes</td>\n",
       "    </tr>\n",
       "    <tr>\n",
       "      <th>예리</th>\n",
       "      <td>19</td>\n",
       "      <td>경영</td>\n",
       "      <td>빅사</td>\n",
       "      <td>교육팀원</td>\n",
       "      <td>yes</td>\n",
       "    </tr>\n",
       "    <tr>\n",
       "      <th>조이</th>\n",
       "      <td>16</td>\n",
       "      <td>경제</td>\n",
       "      <td>빅사</td>\n",
       "      <td>교육팀원</td>\n",
       "      <td>yes</td>\n",
       "    </tr>\n",
       "    <tr>\n",
       "      <th>정찬빈</th>\n",
       "      <td>19</td>\n",
       "      <td>경영</td>\n",
       "      <td>빅사</td>\n",
       "      <td>인싸담당</td>\n",
       "      <td>yes</td>\n",
       "    </tr>\n",
       "    <tr>\n",
       "      <th>최준혁</th>\n",
       "      <td>18</td>\n",
       "      <td>경제</td>\n",
       "      <td>빅사</td>\n",
       "      <td>아싸담당</td>\n",
       "      <td>yes</td>\n",
       "    </tr>\n",
       "  </tbody>\n",
       "</table>\n",
       "</div>"
      ],
      "text/plain": [
       "     학번  전공 복수전공    역할 과제제출여부\n",
       "이름                           \n",
       "웬디   15  커뮤   AI    회장    yes\n",
       "아이린  16  경영   심리  교육팀장    yes\n",
       "슬기   17  경영   빅사  교육팀원    yes\n",
       "예리   19  경영   빅사  교육팀원    yes\n",
       "조이   16  경제   빅사  교육팀원    yes\n",
       "정찬빈  19  경영   빅사  인싸담당    yes\n",
       "최준혁  18  경제   빅사  아싸담당    yes"
      ]
     },
     "execution_count": 4,
     "metadata": {},
     "output_type": "execute_result"
    }
   ],
   "source": [
    "df_new3 = df.copy()\n",
    "df_new3.loc['정찬빈'] = [19, '경영', '빅사', '인싸담당']\n",
    "df_new3.loc['최준혁'] = [18, '경제', '빅사', '아싸담당']\n",
    "df_new3['과제제출여부'] = 'yes'\n",
    "\n",
    "df_new3"
   ]
  },
  {
   "cell_type": "code",
   "execution_count": null,
   "metadata": {},
   "outputs": [],
   "source": []
  }
 ],
 "metadata": {
  "hide_input": false,
  "kernelspec": {
   "display_name": "Python 3 (ipykernel)",
   "language": "python",
   "name": "python3"
  },
  "language_info": {
   "codemirror_mode": {
    "name": "ipython",
    "version": 3
   },
   "file_extension": ".py",
   "mimetype": "text/x-python",
   "name": "python",
   "nbconvert_exporter": "python",
   "pygments_lexer": "ipython3",
   "version": "3.9.13"
  },
  "toc": {
   "base_numbering": 1,
   "nav_menu": {},
   "number_sections": true,
   "sideBar": true,
   "skip_h1_title": false,
   "title_cell": "Table of Contents",
   "title_sidebar": "Contents",
   "toc_cell": false,
   "toc_position": {
    "height": "calc(100% - 180px)",
    "left": "10px",
    "top": "150px",
    "width": "165px"
   },
   "toc_section_display": true,
   "toc_window_display": true
  },
  "varInspector": {
   "cols": {
    "lenName": 16,
    "lenType": 16,
    "lenVar": 40
   },
   "kernels_config": {
    "python": {
     "delete_cmd_postfix": "",
     "delete_cmd_prefix": "del ",
     "library": "var_list.py",
     "varRefreshCmd": "print(var_dic_list())"
    },
    "r": {
     "delete_cmd_postfix": ") ",
     "delete_cmd_prefix": "rm(",
     "library": "var_list.r",
     "varRefreshCmd": "cat(var_dic_list()) "
    }
   },
   "types_to_exclude": [
    "module",
    "function",
    "builtin_function_or_method",
    "instance",
    "_Feature"
   ],
   "window_display": false
  }
 },
 "nbformat": 4,
 "nbformat_minor": 4
}
